{
  "cells": [
    {
      "cell_type": "markdown",
      "metadata": {
        "id": "view-in-github",
        "colab_type": "text"
      },
      "source": [
        "<a href=\"https://colab.research.google.com/github/areeb-h-qureshi/Jovian/blob/main/Data%20Analysis%20with%20Python%3A%20Zero%20to%20Pandas/100_numpy_exercises.ipynb\" target=\"_parent\"><img src=\"https://colab.research.google.com/assets/colab-badge.svg\" alt=\"Open In Colab\"/></a>"
      ]
    },
    {
      "cell_type": "markdown",
      "metadata": {
        "id": "BMROB1nBdZVD"
      },
      "source": [
        "# 100 numpy exercises (Optional)\n",
        "\n",
        "Source: https://github.com/rougier/numpy-100\n"
      ]
    },
    {
      "cell_type": "markdown",
      "metadata": {
        "id": "MeFoQ4kydZVG"
      },
      "source": [
        "100 numpy exercises\n",
        "This is a collection of exercises that have been collected in the numpy mailing list, on stack overflow and in the numpy documentation. The goal of this collection is to offer a quick reference for both old and new users but also to provide a set of exercises for those who teach.\n",
        "\n",
        "If you find an error or think you've a better way to solve some of them, feel free to open an issue at https://github.com/rougier/numpy-100.\n",
        "\n",
        "File automatically generated. See the documentation to update questions/answers/hints programmatically.\n",
        "\n",
        "Run the initialize.py module, then for each question you can query the answer or an hint with hint(n) or answer(n) for n question number."
      ]
    },
    {
      "cell_type": "code",
      "source": [
        "!pip install jupyterthemes"
      ],
      "metadata": {
        "id": "zgJ5XIcA7_th",
        "outputId": "8eff3904-58d5-4576-eb3c-74a9c1d3d8a8",
        "colab": {
          "base_uri": "https://localhost:8080/"
        }
      },
      "execution_count": 1,
      "outputs": [
        {
          "output_type": "stream",
          "name": "stdout",
          "text": [
            "Looking in indexes: https://pypi.org/simple, https://us-python.pkg.dev/colab-wheels/public/simple/\n",
            "Collecting jupyterthemes\n",
            "  Downloading jupyterthemes-0.20.0-py2.py3-none-any.whl (7.0 MB)\n",
            "\u001b[2K     \u001b[90m━━━━━━━━━━━━━━━━━━━━━━━━━━━━━━━━━━━━━━━━\u001b[0m \u001b[32m7.0/7.0 MB\u001b[0m \u001b[31m25.4 MB/s\u001b[0m eta \u001b[36m0:00:00\u001b[0m\n",
            "\u001b[?25hRequirement already satisfied: ipython>=5.4.1 in /usr/local/lib/python3.8/dist-packages (from jupyterthemes) (7.9.0)\n",
            "Requirement already satisfied: matplotlib>=1.4.3 in /usr/local/lib/python3.8/dist-packages (from jupyterthemes) (3.2.2)\n",
            "Requirement already satisfied: jupyter-core in /usr/local/lib/python3.8/dist-packages (from jupyterthemes) (5.1.3)\n",
            "Requirement already satisfied: notebook>=5.6.0 in /usr/local/lib/python3.8/dist-packages (from jupyterthemes) (5.7.16)\n",
            "Collecting lesscpy>=0.11.2\n",
            "  Downloading lesscpy-0.15.1-py2.py3-none-any.whl (46 kB)\n",
            "\u001b[2K     \u001b[90m━━━━━━━━━━━━━━━━━━━━━━━━━━━━━━━━━━━━━━━━\u001b[0m \u001b[32m46.7/46.7 KB\u001b[0m \u001b[31m2.3 MB/s\u001b[0m eta \u001b[36m0:00:00\u001b[0m\n",
            "\u001b[?25hRequirement already satisfied: traitlets>=4.2 in /usr/local/lib/python3.8/dist-packages (from ipython>=5.4.1->jupyterthemes) (5.7.1)\n",
            "Collecting jedi>=0.10\n",
            "  Downloading jedi-0.18.2-py2.py3-none-any.whl (1.6 MB)\n",
            "\u001b[2K     \u001b[90m━━━━━━━━━━━━━━━━━━━━━━━━━━━━━━━━━━━━━━━━\u001b[0m \u001b[32m1.6/1.6 MB\u001b[0m \u001b[31m29.3 MB/s\u001b[0m eta \u001b[36m0:00:00\u001b[0m\n",
            "\u001b[?25hRequirement already satisfied: setuptools>=18.5 in /usr/local/lib/python3.8/dist-packages (from ipython>=5.4.1->jupyterthemes) (57.4.0)\n",
            "Requirement already satisfied: pexpect in /usr/local/lib/python3.8/dist-packages (from ipython>=5.4.1->jupyterthemes) (4.8.0)\n",
            "Requirement already satisfied: pickleshare in /usr/local/lib/python3.8/dist-packages (from ipython>=5.4.1->jupyterthemes) (0.7.5)\n",
            "Requirement already satisfied: backcall in /usr/local/lib/python3.8/dist-packages (from ipython>=5.4.1->jupyterthemes) (0.2.0)\n",
            "Requirement already satisfied: prompt-toolkit<2.1.0,>=2.0.0 in /usr/local/lib/python3.8/dist-packages (from ipython>=5.4.1->jupyterthemes) (2.0.10)\n",
            "Requirement already satisfied: decorator in /usr/local/lib/python3.8/dist-packages (from ipython>=5.4.1->jupyterthemes) (4.4.2)\n",
            "Requirement already satisfied: pygments in /usr/local/lib/python3.8/dist-packages (from ipython>=5.4.1->jupyterthemes) (2.6.1)\n",
            "Collecting ply\n",
            "  Downloading ply-3.11-py2.py3-none-any.whl (49 kB)\n",
            "\u001b[2K     \u001b[90m━━━━━━━━━━━━━━━━━━━━━━━━━━━━━━━━━━━━━━━━\u001b[0m \u001b[32m49.6/49.6 KB\u001b[0m \u001b[31m2.2 MB/s\u001b[0m eta \u001b[36m0:00:00\u001b[0m\n",
            "\u001b[?25hRequirement already satisfied: python-dateutil>=2.1 in /usr/local/lib/python3.8/dist-packages (from matplotlib>=1.4.3->jupyterthemes) (2.8.2)\n",
            "Requirement already satisfied: kiwisolver>=1.0.1 in /usr/local/lib/python3.8/dist-packages (from matplotlib>=1.4.3->jupyterthemes) (1.4.4)\n",
            "Requirement already satisfied: numpy>=1.11 in /usr/local/lib/python3.8/dist-packages (from matplotlib>=1.4.3->jupyterthemes) (1.21.6)\n",
            "Requirement already satisfied: pyparsing!=2.0.4,!=2.1.2,!=2.1.6,>=2.0.1 in /usr/local/lib/python3.8/dist-packages (from matplotlib>=1.4.3->jupyterthemes) (3.0.9)\n",
            "Requirement already satisfied: cycler>=0.10 in /usr/local/lib/python3.8/dist-packages (from matplotlib>=1.4.3->jupyterthemes) (0.11.0)\n",
            "Requirement already satisfied: Send2Trash in /usr/local/lib/python3.8/dist-packages (from notebook>=5.6.0->jupyterthemes) (1.8.0)\n",
            "Requirement already satisfied: ipykernel in /usr/local/lib/python3.8/dist-packages (from notebook>=5.6.0->jupyterthemes) (5.3.4)\n",
            "Requirement already satisfied: prometheus-client in /usr/local/lib/python3.8/dist-packages (from notebook>=5.6.0->jupyterthemes) (0.15.0)\n",
            "Requirement already satisfied: tornado<7,>=4.1 in /usr/local/lib/python3.8/dist-packages (from notebook>=5.6.0->jupyterthemes) (6.0.4)\n",
            "Requirement already satisfied: nbconvert<6.0 in /usr/local/lib/python3.8/dist-packages (from notebook>=5.6.0->jupyterthemes) (5.6.1)\n",
            "Requirement already satisfied: terminado>=0.8.1 in /usr/local/lib/python3.8/dist-packages (from notebook>=5.6.0->jupyterthemes) (0.13.3)\n",
            "Requirement already satisfied: pyzmq>=17 in /usr/local/lib/python3.8/dist-packages (from notebook>=5.6.0->jupyterthemes) (23.2.1)\n",
            "Requirement already satisfied: jinja2<=3.0.0 in /usr/local/lib/python3.8/dist-packages (from notebook>=5.6.0->jupyterthemes) (2.11.3)\n",
            "Requirement already satisfied: jupyter-client<7.0.0,>=5.2.0 in /usr/local/lib/python3.8/dist-packages (from notebook>=5.6.0->jupyterthemes) (6.1.12)\n",
            "Requirement already satisfied: ipython-genutils in /usr/local/lib/python3.8/dist-packages (from notebook>=5.6.0->jupyterthemes) (0.2.0)\n",
            "Requirement already satisfied: nbformat in /usr/local/lib/python3.8/dist-packages (from notebook>=5.6.0->jupyterthemes) (5.7.1)\n",
            "Requirement already satisfied: platformdirs>=2.5 in /usr/local/lib/python3.8/dist-packages (from jupyter-core->jupyterthemes) (2.6.2)\n",
            "Requirement already satisfied: parso<0.9.0,>=0.8.0 in /usr/local/lib/python3.8/dist-packages (from jedi>=0.10->ipython>=5.4.1->jupyterthemes) (0.8.3)\n",
            "Requirement already satisfied: MarkupSafe>=0.23 in /usr/local/lib/python3.8/dist-packages (from jinja2<=3.0.0->notebook>=5.6.0->jupyterthemes) (2.0.1)\n",
            "Requirement already satisfied: mistune<2,>=0.8.1 in /usr/local/lib/python3.8/dist-packages (from nbconvert<6.0->notebook>=5.6.0->jupyterthemes) (0.8.4)\n",
            "Requirement already satisfied: testpath in /usr/local/lib/python3.8/dist-packages (from nbconvert<6.0->notebook>=5.6.0->jupyterthemes) (0.6.0)\n",
            "Requirement already satisfied: pandocfilters>=1.4.1 in /usr/local/lib/python3.8/dist-packages (from nbconvert<6.0->notebook>=5.6.0->jupyterthemes) (1.5.0)\n",
            "Requirement already satisfied: entrypoints>=0.2.2 in /usr/local/lib/python3.8/dist-packages (from nbconvert<6.0->notebook>=5.6.0->jupyterthemes) (0.4)\n",
            "Requirement already satisfied: defusedxml in /usr/local/lib/python3.8/dist-packages (from nbconvert<6.0->notebook>=5.6.0->jupyterthemes) (0.7.1)\n",
            "Requirement already satisfied: bleach in /usr/local/lib/python3.8/dist-packages (from nbconvert<6.0->notebook>=5.6.0->jupyterthemes) (5.0.1)\n",
            "Requirement already satisfied: fastjsonschema in /usr/local/lib/python3.8/dist-packages (from nbformat->notebook>=5.6.0->jupyterthemes) (2.16.2)\n",
            "Requirement already satisfied: jsonschema>=2.6 in /usr/local/lib/python3.8/dist-packages (from nbformat->notebook>=5.6.0->jupyterthemes) (4.3.3)\n",
            "Requirement already satisfied: six>=1.9.0 in /usr/local/lib/python3.8/dist-packages (from prompt-toolkit<2.1.0,>=2.0.0->ipython>=5.4.1->jupyterthemes) (1.15.0)\n",
            "Requirement already satisfied: wcwidth in /usr/local/lib/python3.8/dist-packages (from prompt-toolkit<2.1.0,>=2.0.0->ipython>=5.4.1->jupyterthemes) (0.2.5)\n",
            "Requirement already satisfied: ptyprocess in /usr/local/lib/python3.8/dist-packages (from terminado>=0.8.1->notebook>=5.6.0->jupyterthemes) (0.7.0)\n",
            "Requirement already satisfied: importlib-resources>=1.4.0 in /usr/local/lib/python3.8/dist-packages (from jsonschema>=2.6->nbformat->notebook>=5.6.0->jupyterthemes) (5.10.2)\n",
            "Requirement already satisfied: pyrsistent!=0.17.0,!=0.17.1,!=0.17.2,>=0.14.0 in /usr/local/lib/python3.8/dist-packages (from jsonschema>=2.6->nbformat->notebook>=5.6.0->jupyterthemes) (0.19.3)\n",
            "Requirement already satisfied: attrs>=17.4.0 in /usr/local/lib/python3.8/dist-packages (from jsonschema>=2.6->nbformat->notebook>=5.6.0->jupyterthemes) (22.2.0)\n",
            "Requirement already satisfied: webencodings in /usr/local/lib/python3.8/dist-packages (from bleach->nbconvert<6.0->notebook>=5.6.0->jupyterthemes) (0.5.1)\n",
            "Requirement already satisfied: zipp>=3.1.0 in /usr/local/lib/python3.8/dist-packages (from importlib-resources>=1.4.0->jsonschema>=2.6->nbformat->notebook>=5.6.0->jupyterthemes) (3.11.0)\n",
            "Installing collected packages: ply, lesscpy, jedi, jupyterthemes\n",
            "Successfully installed jedi-0.18.2 jupyterthemes-0.20.0 lesscpy-0.15.1 ply-3.11\n"
          ]
        }
      ]
    },
    {
      "cell_type": "code",
      "source": [
        "!jt -t oceans16"
      ],
      "metadata": {
        "id": "q_zDCneV7nS0"
      },
      "execution_count": 2,
      "outputs": []
    },
    {
      "cell_type": "markdown",
      "metadata": {
        "id": "92bGkFCtdZVI"
      },
      "source": [
        "#### 1. Import the numpy package under the name `np` (★☆☆)"
      ]
    },
    {
      "cell_type": "code",
      "execution_count": 3,
      "metadata": {
        "id": "UhT4Sp0-dZVJ"
      },
      "outputs": [],
      "source": [
        "import numpy as np"
      ]
    },
    {
      "cell_type": "markdown",
      "metadata": {
        "id": "xMFOkfa5dZVJ"
      },
      "source": [
        "#### 2. Print the numpy version and the configuration (★☆☆)\n",
        "\n"
      ]
    },
    {
      "cell_type": "code",
      "execution_count": 4,
      "metadata": {
        "colab": {
          "base_uri": "https://localhost:8080/"
        },
        "id": "jb1Jfe7IdZVJ",
        "outputId": "93f159f0-c955-420b-c31b-f709237f1b6a"
      },
      "outputs": [
        {
          "output_type": "stream",
          "name": "stdout",
          "text": [
            "1.21.6\n",
            "blas_mkl_info:\n",
            "  NOT AVAILABLE\n",
            "blis_info:\n",
            "  NOT AVAILABLE\n",
            "openblas_info:\n",
            "    libraries = ['openblas', 'openblas']\n",
            "    library_dirs = ['/usr/local/lib']\n",
            "    language = c\n",
            "    define_macros = [('HAVE_CBLAS', None)]\n",
            "    runtime_library_dirs = ['/usr/local/lib']\n",
            "blas_opt_info:\n",
            "    libraries = ['openblas', 'openblas']\n",
            "    library_dirs = ['/usr/local/lib']\n",
            "    language = c\n",
            "    define_macros = [('HAVE_CBLAS', None)]\n",
            "    runtime_library_dirs = ['/usr/local/lib']\n",
            "lapack_mkl_info:\n",
            "  NOT AVAILABLE\n",
            "openblas_lapack_info:\n",
            "    libraries = ['openblas', 'openblas']\n",
            "    library_dirs = ['/usr/local/lib']\n",
            "    language = c\n",
            "    define_macros = [('HAVE_CBLAS', None)]\n",
            "    runtime_library_dirs = ['/usr/local/lib']\n",
            "lapack_opt_info:\n",
            "    libraries = ['openblas', 'openblas']\n",
            "    library_dirs = ['/usr/local/lib']\n",
            "    language = c\n",
            "    define_macros = [('HAVE_CBLAS', None)]\n",
            "    runtime_library_dirs = ['/usr/local/lib']\n",
            "Supported SIMD extensions in this NumPy install:\n",
            "    baseline = SSE,SSE2,SSE3\n",
            "    found = SSSE3,SSE41,POPCNT,SSE42,AVX,F16C,FMA3,AVX2\n",
            "    not found = AVX512F,AVX512CD,AVX512_KNL,AVX512_KNM,AVX512_SKX,AVX512_CLX,AVX512_CNL,AVX512_ICL\n",
            "None\n"
          ]
        }
      ],
      "source": [
        "\n",
        "print(np.__version__)\n",
        "print(np.show_config())"
      ]
    },
    {
      "cell_type": "markdown",
      "metadata": {
        "id": "oAWDWCsLdZVJ"
      },
      "source": [
        "#### 3. Create a null vector of size 10 (★☆☆)"
      ]
    },
    {
      "cell_type": "code",
      "execution_count": 5,
      "metadata": {
        "colab": {
          "base_uri": "https://localhost:8080/"
        },
        "id": "7NN59HCTdZVJ",
        "outputId": "a67d5cb6-73ac-4031-e99b-43c4eb34f261"
      },
      "outputs": [
        {
          "output_type": "execute_result",
          "data": {
            "text/plain": [
              "array([0., 0., 0., 0., 0., 0., 0., 0., 0., 0.])"
            ]
          },
          "metadata": {},
          "execution_count": 5
        }
      ],
      "source": [
        "np.zeros(10)"
      ]
    },
    {
      "cell_type": "markdown",
      "metadata": {
        "id": "ygkSNHU7dZVK"
      },
      "source": [
        "#### 4. How to find the memory size of any array (★☆☆)"
      ]
    },
    {
      "cell_type": "code",
      "execution_count": 6,
      "metadata": {
        "colab": {
          "base_uri": "https://localhost:8080/"
        },
        "id": "pLzXdkBadZVK",
        "outputId": "902d7157-43f7-413f-e55f-07236f8fb297"
      },
      "outputs": [
        {
          "output_type": "execute_result",
          "data": {
            "text/plain": [
              "32"
            ]
          },
          "metadata": {},
          "execution_count": 6
        }
      ],
      "source": [
        "np.array([0, 1, 2, 3]).nbytes"
      ]
    },
    {
      "cell_type": "code",
      "source": [
        "np.array([0, 1, 2, 3]).size * np.array([0, 1, 2, 3]).itemsize"
      ],
      "metadata": {
        "colab": {
          "base_uri": "https://localhost:8080/"
        },
        "id": "VtKPGsh2gGLl",
        "outputId": "a1d63b50-b031-4cec-8a7d-a950b4f406f7"
      },
      "execution_count": 7,
      "outputs": [
        {
          "output_type": "execute_result",
          "data": {
            "text/plain": [
              "32"
            ]
          },
          "metadata": {},
          "execution_count": 7
        }
      ]
    },
    {
      "cell_type": "markdown",
      "metadata": {
        "id": "kVUCXHvbdZVK"
      },
      "source": [
        "#### 5. How to get the documentation of the numpy add function from the command line? (★☆☆)"
      ]
    },
    {
      "cell_type": "markdown",
      "metadata": {
        "id": "CkoMofyQdZVK"
      },
      "source": [
        "#### 6. Create a null vector of size 10 but the fifth value which is 1 (★☆☆)"
      ]
    },
    {
      "cell_type": "code",
      "execution_count": 8,
      "metadata": {
        "id": "PS7ZcUoadZVK"
      },
      "outputs": [],
      "source": [
        "arr = np.zeros(10)\n",
        "arr[4] = 1"
      ]
    },
    {
      "cell_type": "code",
      "source": [
        "arr"
      ],
      "metadata": {
        "colab": {
          "base_uri": "https://localhost:8080/"
        },
        "id": "LDmzuh_-g9Zf",
        "outputId": "3e42ab54-5eb7-4d1b-cf94-b2e7942301d0"
      },
      "execution_count": 9,
      "outputs": [
        {
          "output_type": "execute_result",
          "data": {
            "text/plain": [
              "array([0., 0., 0., 0., 1., 0., 0., 0., 0., 0.])"
            ]
          },
          "metadata": {},
          "execution_count": 9
        }
      ]
    },
    {
      "cell_type": "markdown",
      "metadata": {
        "id": "wNqUZVPxdZVK"
      },
      "source": [
        "#### 7. Create a vector with values ranging from 10 to 49 (★☆☆)"
      ]
    },
    {
      "cell_type": "code",
      "execution_count": 10,
      "metadata": {
        "colab": {
          "base_uri": "https://localhost:8080/"
        },
        "id": "uALat3xudZVK",
        "outputId": "f9b58a7e-8d44-48c8-da21-37dfefaa4f97"
      },
      "outputs": [
        {
          "output_type": "execute_result",
          "data": {
            "text/plain": [
              "array([10, 11, 12, 13, 14, 15, 16, 17, 18, 19, 20, 21, 22, 23, 24, 25, 26,\n",
              "       27, 28, 29, 30, 31, 32, 33, 34, 35, 36, 37, 38, 39, 40, 41, 42, 43,\n",
              "       44, 45, 46, 47, 48, 49])"
            ]
          },
          "metadata": {},
          "execution_count": 10
        }
      ],
      "source": [
        "np.arange(10,50)"
      ]
    },
    {
      "cell_type": "markdown",
      "metadata": {
        "id": "gjiBF3wRdZVL"
      },
      "source": [
        "#### 8. Reverse a vector (first element becomes last) (★☆☆)"
      ]
    },
    {
      "cell_type": "code",
      "execution_count": 11,
      "metadata": {
        "colab": {
          "base_uri": "https://localhost:8080/"
        },
        "id": "rjRuYK_ndZVL",
        "outputId": "0b275062-e84e-48b6-b997-20663f3be216"
      },
      "outputs": [
        {
          "output_type": "execute_result",
          "data": {
            "text/plain": [
              "array([9, 8, 7, 6, 5, 4, 3, 2, 1, 0])"
            ]
          },
          "metadata": {},
          "execution_count": 11
        }
      ],
      "source": [
        "np.arange(10)[::-1]"
      ]
    },
    {
      "cell_type": "markdown",
      "metadata": {
        "id": "ipzXhqvAdZVL"
      },
      "source": [
        "#### 9. Create a 3x3 matrix with values ranging from 0 to 8 (★☆☆)"
      ]
    },
    {
      "cell_type": "code",
      "execution_count": 12,
      "metadata": {
        "colab": {
          "base_uri": "https://localhost:8080/"
        },
        "id": "V6GkdqlcdZVL",
        "outputId": "c7c66b7d-94e3-4635-842f-6950499eef0b"
      },
      "outputs": [
        {
          "output_type": "execute_result",
          "data": {
            "text/plain": [
              "array([[0, 1, 2],\n",
              "       [3, 4, 5],\n",
              "       [6, 7, 8]])"
            ]
          },
          "metadata": {},
          "execution_count": 12
        }
      ],
      "source": [
        "np.arange(9).reshape(3,3)"
      ]
    },
    {
      "cell_type": "markdown",
      "metadata": {
        "id": "Y3yQiYZYdZVL"
      },
      "source": [
        "#### 10. Find indices of non-zero elements from [1,2,0,0,4,0] (★☆☆)"
      ]
    },
    {
      "cell_type": "code",
      "execution_count": 13,
      "metadata": {
        "colab": {
          "base_uri": "https://localhost:8080/"
        },
        "id": "bsATEaaXdZVL",
        "outputId": "5853f583-5cb9-4727-e7ae-1f30b9e6975f"
      },
      "outputs": [
        {
          "output_type": "execute_result",
          "data": {
            "text/plain": [
              "(array([0, 1, 4]),)"
            ]
          },
          "metadata": {},
          "execution_count": 13
        }
      ],
      "source": [
        "np.nonzero([1,2,0,0,4,0])"
      ]
    },
    {
      "cell_type": "markdown",
      "metadata": {
        "id": "l6v5ttL6dZVM"
      },
      "source": [
        "#### 11. Create a 3x3 identity matrix (★☆☆)"
      ]
    },
    {
      "cell_type": "code",
      "execution_count": 14,
      "metadata": {
        "colab": {
          "base_uri": "https://localhost:8080/"
        },
        "id": "oHWyrROwdZVM",
        "outputId": "5111002e-277a-4b58-ce76-12ea18f0bb85"
      },
      "outputs": [
        {
          "output_type": "execute_result",
          "data": {
            "text/plain": [
              "array([[1., 0., 0.],\n",
              "       [0., 1., 0.],\n",
              "       [0., 0., 1.]])"
            ]
          },
          "metadata": {},
          "execution_count": 14
        }
      ],
      "source": [
        "np.identity(3)"
      ]
    },
    {
      "cell_type": "code",
      "source": [
        "np.eye(3)"
      ],
      "metadata": {
        "colab": {
          "base_uri": "https://localhost:8080/"
        },
        "id": "sMTXfo_6jeeg",
        "outputId": "c2a49913-e5e5-4c65-bf63-951643bf4698"
      },
      "execution_count": 15,
      "outputs": [
        {
          "output_type": "execute_result",
          "data": {
            "text/plain": [
              "array([[1., 0., 0.],\n",
              "       [0., 1., 0.],\n",
              "       [0., 0., 1.]])"
            ]
          },
          "metadata": {},
          "execution_count": 15
        }
      ]
    },
    {
      "cell_type": "markdown",
      "metadata": {
        "id": "aQRi64n5dZVM"
      },
      "source": [
        "#### 12. Create a 3x3x3 array with random values (★☆☆)"
      ]
    },
    {
      "cell_type": "code",
      "execution_count": 16,
      "metadata": {
        "colab": {
          "base_uri": "https://localhost:8080/"
        },
        "id": "FPNz3DRFdZVM",
        "outputId": "5834a783-dc63-4ead-af01-f56271940dfc"
      },
      "outputs": [
        {
          "output_type": "execute_result",
          "data": {
            "text/plain": [
              "array([[[5.31182197e-01, 6.55082187e-01, 5.99906256e-01],\n",
              "        [6.00570095e-01, 6.80431717e-01, 3.71451074e-01],\n",
              "        [6.75280826e-01, 8.67596578e-01, 6.40797249e-01]],\n",
              "\n",
              "       [[3.56077844e-02, 2.04359141e-01, 6.16558951e-03],\n",
              "        [8.33957879e-01, 1.04029249e-01, 6.94526646e-02],\n",
              "        [6.11613266e-02, 8.01330431e-01, 6.85545557e-04]],\n",
              "\n",
              "       [[2.44591083e-02, 4.39618254e-01, 6.83398957e-01],\n",
              "        [4.25087426e-01, 5.13395528e-01, 2.29103178e-02],\n",
              "        [3.15871793e-01, 4.35899289e-01, 7.78540768e-01]]])"
            ]
          },
          "metadata": {},
          "execution_count": 16
        }
      ],
      "source": [
        "np.random.rand(3,3,3)"
      ]
    },
    {
      "cell_type": "markdown",
      "metadata": {
        "id": "lNAgNtSJdZVM"
      },
      "source": [
        "#### 13. Create a 10x10 array with random values and find the minimum and maximum values (★☆☆)"
      ]
    },
    {
      "cell_type": "code",
      "execution_count": 17,
      "metadata": {
        "colab": {
          "base_uri": "https://localhost:8080/"
        },
        "id": "0qWTAt0adZVM",
        "outputId": "a49fceaa-3269-4eae-e635-8045b443f139"
      },
      "outputs": [
        {
          "output_type": "execute_result",
          "data": {
            "text/plain": [
              "(10, 10)"
            ]
          },
          "metadata": {},
          "execution_count": 17
        }
      ],
      "source": [
        "rand_arr = np.random.rand(10,10)\n",
        "rand_arr.shape"
      ]
    },
    {
      "cell_type": "code",
      "source": [
        "np.max(rand_arr)"
      ],
      "metadata": {
        "colab": {
          "base_uri": "https://localhost:8080/"
        },
        "id": "cVrOGGWLkMGT",
        "outputId": "c604f37e-1db6-4763-980a-7818b83736eb"
      },
      "execution_count": 18,
      "outputs": [
        {
          "output_type": "execute_result",
          "data": {
            "text/plain": [
              "0.9978334545988656"
            ]
          },
          "metadata": {},
          "execution_count": 18
        }
      ]
    },
    {
      "cell_type": "code",
      "source": [
        "np.min(rand_arr)"
      ],
      "metadata": {
        "colab": {
          "base_uri": "https://localhost:8080/"
        },
        "id": "D_1qXAS1kQkh",
        "outputId": "32a00d22-3faa-4337-f2b1-8ac60a88fb8f"
      },
      "execution_count": 19,
      "outputs": [
        {
          "output_type": "execute_result",
          "data": {
            "text/plain": [
              "0.04425134307330181"
            ]
          },
          "metadata": {},
          "execution_count": 19
        }
      ]
    },
    {
      "cell_type": "markdown",
      "metadata": {
        "id": "i3fyc0g2dZVM"
      },
      "source": [
        "#### 14. Create a random vector of size 30 and find the mean value (★☆☆)"
      ]
    },
    {
      "cell_type": "code",
      "execution_count": 20,
      "metadata": {
        "colab": {
          "base_uri": "https://localhost:8080/"
        },
        "id": "jx5s38MWdZVN",
        "outputId": "eea02801-624a-47ff-9d98-ee46624f6e97"
      },
      "outputs": [
        {
          "output_type": "execute_result",
          "data": {
            "text/plain": [
              "0.5277879887754728"
            ]
          },
          "metadata": {},
          "execution_count": 20
        }
      ],
      "source": [
        "np.mean(np.random.rand(30))"
      ]
    },
    {
      "cell_type": "markdown",
      "metadata": {
        "id": "lxPuZXIvdZVN"
      },
      "source": [
        "#### 15. Create a 2d array with 1 on the border and 0 inside (★☆☆)"
      ]
    },
    {
      "cell_type": "code",
      "execution_count": 21,
      "metadata": {
        "id": "dyTDrcSGdZVN",
        "colab": {
          "base_uri": "https://localhost:8080/"
        },
        "outputId": "9b7706f2-6639-4f39-cd86-90061451f487"
      },
      "outputs": [
        {
          "output_type": "execute_result",
          "data": {
            "text/plain": [
              "array([[1., 1., 1., 1.],\n",
              "       [1., 0., 0., 1.],\n",
              "       [1., 0., 0., 1.],\n",
              "       [1., 1., 1., 1.]])"
            ]
          },
          "metadata": {},
          "execution_count": 21
        }
      ],
      "source": [
        "arr = np.ones([4,4])\n",
        "arr[1:-1, 1:-1] = 0\n",
        "arr"
      ]
    },
    {
      "cell_type": "code",
      "source": [
        "arr2 = np.zeros([4,4])\n",
        "arr2[0, :], arr2[-1, :] = 1, 1\n",
        "arr2[:, 0], arr2[:, -1] = 1, 1\n",
        "arr2"
      ],
      "metadata": {
        "colab": {
          "base_uri": "https://localhost:8080/"
        },
        "id": "-J4lTYEeqYtZ",
        "outputId": "3932598b-91a3-4858-c0c7-d97f88d9284a"
      },
      "execution_count": 22,
      "outputs": [
        {
          "output_type": "execute_result",
          "data": {
            "text/plain": [
              "array([[1., 1., 1., 1.],\n",
              "       [1., 0., 0., 1.],\n",
              "       [1., 0., 0., 1.],\n",
              "       [1., 1., 1., 1.]])"
            ]
          },
          "metadata": {},
          "execution_count": 22
        }
      ]
    },
    {
      "cell_type": "markdown",
      "metadata": {
        "id": "oHlBAPezdZVN"
      },
      "source": [
        "#### 16. How to add a border (filled with 0's) around an existing array? (★☆☆)"
      ]
    },
    {
      "cell_type": "code",
      "source": [
        "arr = np.eye(2)\n",
        "arr2 = np.pad(arr, pad_width=1, mode='constant', constant_values=0)\n",
        "arr2"
      ],
      "metadata": {
        "colab": {
          "base_uri": "https://localhost:8080/"
        },
        "id": "lWnh0smZrAB1",
        "outputId": "6cfcd925-8c0b-47d2-bf4d-1aa184cc80c8"
      },
      "execution_count": 23,
      "outputs": [
        {
          "output_type": "execute_result",
          "data": {
            "text/plain": [
              "array([[0., 0., 0., 0.],\n",
              "       [0., 1., 0., 0.],\n",
              "       [0., 0., 1., 0.],\n",
              "       [0., 0., 0., 0.]])"
            ]
          },
          "metadata": {},
          "execution_count": 23
        }
      ]
    },
    {
      "cell_type": "markdown",
      "metadata": {
        "id": "IYBQdLO9dZVN"
      },
      "source": [
        "#### 17. What is the result of the following expression? (★☆☆)\n",
        "```python\n",
        "0 * np.nan\n",
        "np.nan == np.nan\n",
        "np.inf > np.nan\n",
        "np.nan - np.nan\n",
        "np.nan in set([np.nan])\n",
        "0.3 == 3 * 0.1\n",
        "```"
      ]
    },
    {
      "cell_type": "code",
      "execution_count": 24,
      "metadata": {
        "id": "R46bhFBRdZVN",
        "colab": {
          "base_uri": "https://localhost:8080/"
        },
        "outputId": "08267982-417f-4102-b159-1a3276356a3f"
      },
      "outputs": [
        {
          "output_type": "execute_result",
          "data": {
            "text/plain": [
              "False"
            ]
          },
          "metadata": {},
          "execution_count": 24
        }
      ],
      "source": [
        "0 * np.nan                  # nan\n",
        "np.nan == np.nan            # False\n",
        "np.inf > np.nan             # False\n",
        "np.nan - np.nan             # nan\n",
        "np.nan in set([np.nan])     # True\n",
        "0.3 == 3 * 0.1              # False"
      ]
    },
    {
      "cell_type": "code",
      "source": [
        "print(0 * np.nan)\n",
        "print(np.nan == np.nan)\n",
        "print(np.inf > np.nan)\n",
        "print(np.nan - np.nan)\n",
        "print(np.nan in set([np.nan]))\n",
        "print(0.3 == 3 * 0.1)"
      ],
      "metadata": {
        "colab": {
          "base_uri": "https://localhost:8080/"
        },
        "id": "77fc08Iutoz5",
        "outputId": "5d93608e-c9eb-4525-c30a-2cd6ac5351a3"
      },
      "execution_count": 25,
      "outputs": [
        {
          "output_type": "stream",
          "name": "stdout",
          "text": [
            "nan\n",
            "False\n",
            "False\n",
            "nan\n",
            "True\n",
            "False\n"
          ]
        }
      ]
    },
    {
      "cell_type": "markdown",
      "metadata": {
        "id": "W0NZhBOQdZVN"
      },
      "source": [
        "#### 18. Create a 5x5 matrix with values 1,2,3,4 just below the diagonal (★☆☆)"
      ]
    },
    {
      "cell_type": "code",
      "execution_count": 26,
      "metadata": {
        "id": "DcrsHo5TdZVN",
        "colab": {
          "base_uri": "https://localhost:8080/"
        },
        "outputId": "2fd17c8a-0148-4487-9e50-7898ea29e77c"
      },
      "outputs": [
        {
          "output_type": "execute_result",
          "data": {
            "text/plain": [
              "array([[0., 0., 0., 0., 0.],\n",
              "       [1., 0., 0., 0., 0.],\n",
              "       [0., 2., 0., 0., 0.],\n",
              "       [0., 0., 3., 0., 0.],\n",
              "       [0., 0., 0., 4., 0.]])"
            ]
          },
          "metadata": {},
          "execution_count": 26
        }
      ],
      "source": [
        "temp = np.eye(4) * np.array([1,2,3,4])\n",
        "res = np.zeros([5,5])\n",
        "res[1:,0:-1] = temp\n",
        "res"
      ]
    },
    {
      "cell_type": "markdown",
      "metadata": {
        "id": "bm0XNe24dZVN"
      },
      "source": [
        "#### 19. Create a 8x8 matrix and fill it with a checkerboard pattern (★☆☆)"
      ]
    },
    {
      "cell_type": "code",
      "source": [
        "a = np.full((8,8), 'O', dtype='str')\n",
        "a[::2, 1::2] = 'X'\n",
        "a[1::2, ::2] = 'X'\n",
        "print(a)"
      ],
      "metadata": {
        "colab": {
          "base_uri": "https://localhost:8080/"
        },
        "id": "83-69ks22L1p",
        "outputId": "6aeb3ead-1e52-4585-e2e4-bd0de3668572"
      },
      "execution_count": 27,
      "outputs": [
        {
          "output_type": "stream",
          "name": "stdout",
          "text": [
            "[['O' 'X' 'O' 'X' 'O' 'X' 'O' 'X']\n",
            " ['X' 'O' 'X' 'O' 'X' 'O' 'X' 'O']\n",
            " ['O' 'X' 'O' 'X' 'O' 'X' 'O' 'X']\n",
            " ['X' 'O' 'X' 'O' 'X' 'O' 'X' 'O']\n",
            " ['O' 'X' 'O' 'X' 'O' 'X' 'O' 'X']\n",
            " ['X' 'O' 'X' 'O' 'X' 'O' 'X' 'O']\n",
            " ['O' 'X' 'O' 'X' 'O' 'X' 'O' 'X']\n",
            " ['X' 'O' 'X' 'O' 'X' 'O' 'X' 'O']]\n"
          ]
        }
      ]
    },
    {
      "cell_type": "markdown",
      "metadata": {
        "id": "KgpLNee5dZVO"
      },
      "source": [
        "#### 20. Consider a (6,7,8) shape array, what is the index (x,y,z) of the 100th element?"
      ]
    },
    {
      "cell_type": "code",
      "execution_count": 28,
      "metadata": {
        "id": "vIqf28pKdZVO",
        "colab": {
          "base_uri": "https://localhost:8080/"
        },
        "outputId": "353cbb1c-cefc-4ee1-f4ad-b9b78cf6acae"
      },
      "outputs": [
        {
          "output_type": "execute_result",
          "data": {
            "text/plain": [
              "(1, 5, 3)"
            ]
          },
          "metadata": {},
          "execution_count": 28
        }
      ],
      "source": [
        "np.unravel_index(99, (6,7,8))"
      ]
    },
    {
      "cell_type": "markdown",
      "metadata": {
        "id": "fVseJ_sFdZVO"
      },
      "source": [
        "#### 21. Create a checkerboard 8x8 matrix using the tile function (★☆☆)"
      ]
    },
    {
      "cell_type": "code",
      "execution_count": 29,
      "metadata": {
        "id": "PTdLiJyPdZVO",
        "colab": {
          "base_uri": "https://localhost:8080/"
        },
        "outputId": "6146099e-12fc-4a78-90bb-ae8f20e5facb"
      },
      "outputs": [
        {
          "output_type": "stream",
          "name": "stdout",
          "text": [
            "[['O' 'X' 'O' 'X' 'O' 'X' 'O' 'X']\n",
            " ['X' 'O' 'X' 'O' 'X' 'O' 'X' 'O']\n",
            " ['O' 'X' 'O' 'X' 'O' 'X' 'O' 'X']\n",
            " ['X' 'O' 'X' 'O' 'X' 'O' 'X' 'O']\n",
            " ['O' 'X' 'O' 'X' 'O' 'X' 'O' 'X']\n",
            " ['X' 'O' 'X' 'O' 'X' 'O' 'X' 'O']\n",
            " ['O' 'X' 'O' 'X' 'O' 'X' 'O' 'X']\n",
            " ['X' 'O' 'X' 'O' 'X' 'O' 'X' 'O']]\n"
          ]
        }
      ],
      "source": [
        "first = np.array(['O', 'X'])\n",
        "second = np.array(['X', 'O'])\n",
        "result =  np.tile([first,second], (4,4))\n",
        "print(result)\n"
      ]
    },
    {
      "cell_type": "markdown",
      "metadata": {
        "id": "cicAe_6OdZVO"
      },
      "source": [
        "#### 22. Normalize a 5x5 random matrix (★☆☆)"
      ]
    },
    {
      "cell_type": "code",
      "execution_count": 30,
      "metadata": {
        "id": "ByVFh5TPdZVP",
        "colab": {
          "base_uri": "https://localhost:8080/"
        },
        "outputId": "94ffcce9-43cf-442b-a6ae-06300b8b1783"
      },
      "outputs": [
        {
          "output_type": "stream",
          "name": "stdout",
          "text": [
            "Array is:\n",
            "[[24. 26.  7. 34. 29.]\n",
            " [ 4. 53. 53. 23. 38.]\n",
            " [33. 23. 18. 48. 54.]\n",
            " [48. 14. 40.  6. 25.]\n",
            " [51.  4. 29. 18. 47.]]\n",
            "Sum of all elements is 749.0\n",
            "Variance of all elements is 1.04\n"
          ]
        }
      ],
      "source": [
        "np.random.seed(2023)\n",
        "arr = np.random.randint(1,56, size=(5,5)).astype('float64')\n",
        "print(f'Array is:\\n{arr}')\n",
        "print(f'Sum of all elements is {np.round(np.sum(arr), 4)}')\n",
        "print(f'Variance of all elements is {np.round(np.var(res), 4)}')"
      ]
    },
    {
      "cell_type": "code",
      "source": [
        "res = arr.copy()\n",
        "res -= np.mean(res) \n",
        "res /= np.std(res)\n",
        "print(f'Array is:\\n{res}')\n",
        "print(f'Sum of all elements is {np.round(np.sum(res), 4)}')\n",
        "print(f'Variance of all elements is {np.round(np.var(res), 4)}')\n"
      ],
      "metadata": {
        "colab": {
          "base_uri": "https://localhost:8080/"
        },
        "id": "uo-HknGlBYIf",
        "outputId": "04dd94a2-f4d8-490e-a0f2-c2be458a8425"
      },
      "execution_count": 31,
      "outputs": [
        {
          "output_type": "stream",
          "name": "stdout",
          "text": [
            "Array is:\n",
            "[[-0.37311381 -0.24790783 -1.43736461  0.25291607 -0.06009887]\n",
            " [-1.62517358  1.44237285  1.44237285 -0.4357168   0.50332803]\n",
            " [ 0.19031308 -0.4357168  -0.74873174  1.12935791  1.50497584]\n",
            " [ 1.12935791 -0.99914369  0.628534   -1.4999676  -0.31051082]\n",
            " [ 1.31716688 -1.62517358 -0.06009887 -0.74873174  1.06675492]]\n",
            "Sum of all elements is -0.0\n",
            "Variance of all elements is 1.0\n"
          ]
        }
      ]
    },
    {
      "cell_type": "markdown",
      "source": [
        "> ## As Sum of all elements is zero(0) and variance is (1.0), we conclude that the data is now normalized."
      ],
      "metadata": {
        "id": "ntgOH3rZEtlT"
      }
    },
    {
      "cell_type": "markdown",
      "metadata": {
        "id": "JPv7iqs2dZVP"
      },
      "source": [
        "#### 23. Create a custom dtype that describes a color as four unsigned bytes (RGBA) (★☆☆)"
      ]
    },
    {
      "cell_type": "code",
      "execution_count": 32,
      "metadata": {
        "id": "vU3vjo4fdZVP",
        "colab": {
          "base_uri": "https://localhost:8080/"
        },
        "outputId": "72fdd547-83b2-44ac-c6c8-15a994cf6143"
      },
      "outputs": [
        {
          "output_type": "execute_result",
          "data": {
            "text/plain": [
              "dtype([('r', 'u1'), ('g', 'u1'), ('b', 'u1'), ('a', 'u1')])"
            ]
          },
          "metadata": {},
          "execution_count": 32
        }
      ],
      "source": [
        "color = np.dtype([(\"r\", np.ubyte),\n",
        "                  (\"g\", np.ubyte),\n",
        "                  (\"b\", np.ubyte),\n",
        "                  (\"a\", np.ubyte)])\n",
        "color"
      ]
    },
    {
      "cell_type": "markdown",
      "metadata": {
        "id": "h6-bx2vVdZVP"
      },
      "source": [
        "#### 24. Multiply a 5x3 matrix by a 3x2 matrix (real matrix product) (★☆☆)"
      ]
    },
    {
      "cell_type": "code",
      "execution_count": 33,
      "metadata": {
        "id": "sCkVCkn6dZVP",
        "colab": {
          "base_uri": "https://localhost:8080/"
        },
        "outputId": "460827a9-59ac-4e62-8f18-e010b901a313"
      },
      "outputs": [
        {
          "output_type": "execute_result",
          "data": {
            "text/plain": [
              "array([[4367, 3975],\n",
              "       [3582, 3875],\n",
              "       [4637, 4556],\n",
              "       [4697, 4657],\n",
              "       [4853, 4747]])"
            ]
          },
          "metadata": {},
          "execution_count": 33
        }
      ],
      "source": [
        "A = np.random.randint(1,56, size=(5, 3))\n",
        "B = np.random.randint(1,56, size=(3, 2))\n",
        "\n",
        "A @ B"
      ]
    },
    {
      "cell_type": "code",
      "source": [
        "np.dot(A, B)"
      ],
      "metadata": {
        "colab": {
          "base_uri": "https://localhost:8080/"
        },
        "id": "rksYZBQOGf3K",
        "outputId": "33b4f89a-7474-4628-ba91-20ccdca7f103"
      },
      "execution_count": 34,
      "outputs": [
        {
          "output_type": "execute_result",
          "data": {
            "text/plain": [
              "array([[4367, 3975],\n",
              "       [3582, 3875],\n",
              "       [4637, 4556],\n",
              "       [4697, 4657],\n",
              "       [4853, 4747]])"
            ]
          },
          "metadata": {},
          "execution_count": 34
        }
      ]
    },
    {
      "cell_type": "code",
      "source": [
        "np.matmul(A, B)"
      ],
      "metadata": {
        "colab": {
          "base_uri": "https://localhost:8080/"
        },
        "id": "PrDj7YCeGjOK",
        "outputId": "25e962f7-76c3-43e3-d43a-9cd54ba820c7"
      },
      "execution_count": 35,
      "outputs": [
        {
          "output_type": "execute_result",
          "data": {
            "text/plain": [
              "array([[4367, 3975],\n",
              "       [3582, 3875],\n",
              "       [4637, 4556],\n",
              "       [4697, 4657],\n",
              "       [4853, 4747]])"
            ]
          },
          "metadata": {},
          "execution_count": 35
        }
      ]
    },
    {
      "cell_type": "markdown",
      "metadata": {
        "id": "Dk-SXJjTdZVP"
      },
      "source": [
        "#### 25. Given a 1D array, negate all elements which are between 3 and 8, in place. (★☆☆)"
      ]
    },
    {
      "cell_type": "code",
      "execution_count": 36,
      "metadata": {
        "id": "eaH6z6ACdZVP",
        "colab": {
          "base_uri": "https://localhost:8080/"
        },
        "outputId": "32b1e644-61cc-4020-97f5-ec1089166397"
      },
      "outputs": [
        {
          "output_type": "stream",
          "name": "stdout",
          "text": [
            "Array: [8 7 8 2 4 5 5 7 6 1 7 2 6 8 6 9 3 4 2 1]\n",
            "Negated Array: [ 8 -7  8  2 -4 -5 -5 -7 -6  1 -7  2 -6  8 -6  9  3 -4  2  1]\n"
          ]
        }
      ],
      "source": [
        "np.random.seed(2023)\n",
        "\n",
        "arr = np.random.randint(1, 10, size=20)\n",
        "print(f'Array: {arr}')\n",
        "arr[(arr>3) & (arr<8)] *= -1\n",
        "print(f'Negated Array: {arr}')\n",
        "\n"
      ]
    },
    {
      "cell_type": "markdown",
      "metadata": {
        "id": "Y3EzwLpndZVP"
      },
      "source": [
        "#### 26. What is the output of the following script? (★☆☆)\n",
        "```python\n",
        "# Author: Jake VanderPlas\n",
        "\n",
        "print(sum(range(5),-1))\n",
        "from numpy import *\n",
        "print(sum(range(5),-1))\n",
        "```"
      ]
    },
    {
      "cell_type": "code",
      "execution_count": 37,
      "metadata": {
        "id": "6XILdfmodZVP",
        "colab": {
          "base_uri": "https://localhost:8080/"
        },
        "outputId": "08b7bf47-664a-44f9-bf20-40dbc42bdc67"
      },
      "outputs": [
        {
          "output_type": "stream",
          "name": "stdout",
          "text": [
            "9\n",
            "10\n"
          ]
        }
      ],
      "source": [
        "print(sum(range(5),-1)) # 9\n",
        "from numpy import *\n",
        "print(sum(range(5),-1)) # 10\n"
      ]
    },
    {
      "cell_type": "markdown",
      "metadata": {
        "id": "_U2ClrX4dZVP"
      },
      "source": [
        "#### 27. Consider an integer vector Z, which of these expressions are legal? (★☆☆)\n",
        "```python\n",
        "Z**Z\n",
        "2 << Z >> 2\n",
        "Z <- Z\n",
        "1j*Z\n",
        "Z/1/1\n",
        "Z<Z>Z\n",
        "```"
      ]
    },
    {
      "cell_type": "code",
      "source": [
        "Z = np.arange(10) # Initialize Unit Vector\n",
        "Z"
      ],
      "metadata": {
        "colab": {
          "base_uri": "https://localhost:8080/"
        },
        "id": "BwGs_-1-JZrD",
        "outputId": "5712b957-9803-4861-a097-f5eaa5e32756"
      },
      "execution_count": 38,
      "outputs": [
        {
          "output_type": "execute_result",
          "data": {
            "text/plain": [
              "array([0, 1, 2, 3, 4, 5, 6, 7, 8, 9])"
            ]
          },
          "metadata": {},
          "execution_count": 38
        }
      ]
    },
    {
      "cell_type": "code",
      "execution_count": 39,
      "metadata": {
        "id": "sXVyf6L-dZVP",
        "colab": {
          "base_uri": "https://localhost:8080/"
        },
        "outputId": "a0615834-bd29-498e-80cd-d8acb4e72a52"
      },
      "outputs": [
        {
          "output_type": "stream",
          "name": "stdout",
          "text": [
            "Error found!\n"
          ]
        }
      ],
      "source": [
        "try:\n",
        "    Z**Z            # LEGAL : Element-wise exponentation i.e. 1**1 = 1, 2**2 = 2, 3**3 = 27. NOTE 0**0 = 1\n",
        "    2 << Z >> 2     # LEGAL : Bitwise operations are performed from left to right\n",
        "    Z <- Z          # LEGAL : Element wise negation is compared to orginal element. Boolean Array is returned\n",
        "    1j*Z            # LEGAL : Element wise multiplication with unit imaginary number '0. + 1. j'\n",
        "    Z/1/1           # LEGAL : Element wise division twice, executed left to right. dtype changes to float due to diviion operation\n",
        "    Z<Z>Z           # ILLEGAL (VALUE ERROR): The truth value of an array with more than one element is ambiguous\n",
        "except: \n",
        "    print('Error found!')"
      ]
    },
    {
      "cell_type": "markdown",
      "metadata": {
        "id": "djX25xRYdZVP"
      },
      "source": [
        "#### 28. What are the result of the following expressions?\n",
        "```python\n",
        "np.array(0) / np.array(0)\n",
        "np.array(0) // np.array(0)\n",
        "np.array([np.nan]).astype(int).astype(float)\n",
        "```"
      ]
    },
    {
      "cell_type": "code",
      "execution_count": 40,
      "metadata": {
        "id": "77jACZ-ZdZVP",
        "colab": {
          "base_uri": "https://localhost:8080/"
        },
        "outputId": "9ebfca92-10ee-41f8-ed7e-4e7da8cc2bd4"
      },
      "outputs": [
        {
          "output_type": "stream",
          "name": "stdout",
          "text": [
            "nan\n",
            "****************************************\n",
            "0\n",
            "****************************************\n",
            "[-9.22337204e+18]\n"
          ]
        },
        {
          "output_type": "stream",
          "name": "stderr",
          "text": [
            "<ipython-input-40-b9927aff92a4>:1: RuntimeWarning: invalid value encountered in true_divide\n",
            "  print(np.array(0) / np.array(0))\n",
            "<ipython-input-40-b9927aff92a4>:3: RuntimeWarning: divide by zero encountered in floor_divide\n",
            "  print(np.array(0) // np.array(0))\n"
          ]
        }
      ],
      "source": [
        "print(np.array(0) / np.array(0))\n",
        "print('****************************************')\n",
        "print(np.array(0) // np.array(0))\n",
        "print('****************************************')\n",
        "print(np.array([np.nan]).astype(int).astype(float))"
      ]
    },
    {
      "cell_type": "markdown",
      "metadata": {
        "id": "swqXxxr5dZVQ"
      },
      "source": [
        "#### 29. How to round away from zero a float array ? (★☆☆)\n",
        "\n",
        "\n",
        "\n"
      ]
    },
    {
      "cell_type": "code",
      "execution_count": 41,
      "metadata": {
        "id": "jF5APqTmdZVQ",
        "colab": {
          "base_uri": "https://localhost:8080/"
        },
        "outputId": "35e17c66-2fc6-4ea8-82b6-abcfb5345705"
      },
      "outputs": [
        {
          "output_type": "execute_result",
          "data": {
            "text/plain": [
              "array([-2., -2., -1.,  1.,  2.,  2.,  2.])"
            ]
          },
          "metadata": {},
          "execution_count": 41
        }
      ],
      "source": [
        "arr = [-1.7, -1.5, -0.2, 0.2, 1.5, 1.7, 2.0]\n",
        "temp = np.ceil(np.abs(arr))\n",
        "res = np.copysign(temp, arr)\n",
        "res"
      ]
    },
    {
      "cell_type": "markdown",
      "metadata": {
        "id": "9lE0PTPFdZVQ"
      },
      "source": [
        "#### 30. How to find common values between two arrays? (★☆☆)"
      ]
    },
    {
      "cell_type": "code",
      "execution_count": 42,
      "metadata": {
        "id": "aejRBfnzdZVQ",
        "colab": {
          "base_uri": "https://localhost:8080/"
        },
        "outputId": "9d3f183f-a2f4-41ee-877b-74b3805f8eee"
      },
      "outputs": [
        {
          "output_type": "execute_result",
          "data": {
            "text/plain": [
              "array([-2])"
            ]
          },
          "metadata": {},
          "execution_count": 42
        }
      ],
      "source": [
        "arr1 = np.random.randint(-10, 10, size=12)\n",
        "arr2 = np.random.randint(-10, 10, size=5)\n",
        "np.intersect1d(arr1, arr2)\n"
      ]
    },
    {
      "cell_type": "markdown",
      "metadata": {
        "id": "WPDUwxo7dZVQ"
      },
      "source": [
        "#### 31. How to ignore all numpy warnings (not recommended)? (★☆☆)"
      ]
    },
    {
      "cell_type": "code",
      "execution_count": 43,
      "metadata": {
        "id": "PYvTQ4VtdZVQ",
        "colab": {
          "base_uri": "https://localhost:8080/"
        },
        "outputId": "7d95f691-b236-43b0-98ac-19ac77f89c39"
      },
      "outputs": [
        {
          "output_type": "execute_result",
          "data": {
            "text/plain": [
              "{'divide': 'warn', 'over': 'warn', 'under': 'ignore', 'invalid': 'warn'}"
            ]
          },
          "metadata": {},
          "execution_count": 43
        }
      ],
      "source": [
        "np.seterr(all=\"ignore\")"
      ]
    },
    {
      "cell_type": "code",
      "source": [
        "np.ones(1) / 0\n"
      ],
      "metadata": {
        "colab": {
          "base_uri": "https://localhost:8080/"
        },
        "id": "iCOEzECFa3OA",
        "outputId": "5d299e88-f7ab-414c-8086-f1fd5976fe14"
      },
      "execution_count": 44,
      "outputs": [
        {
          "output_type": "execute_result",
          "data": {
            "text/plain": [
              "array([inf])"
            ]
          },
          "metadata": {},
          "execution_count": 44
        }
      ]
    },
    {
      "cell_type": "code",
      "source": [
        "np.seterr(divide=\"warn\", over='warn', under='ignore', invalid='warn')"
      ],
      "metadata": {
        "colab": {
          "base_uri": "https://localhost:8080/"
        },
        "id": "s5g6ed7Nbl5_",
        "outputId": "c074b81b-ed6e-4916-961e-ecf5fd3d9934"
      },
      "execution_count": 45,
      "outputs": [
        {
          "output_type": "execute_result",
          "data": {
            "text/plain": [
              "{'divide': 'ignore', 'over': 'ignore', 'under': 'ignore', 'invalid': 'ignore'}"
            ]
          },
          "metadata": {},
          "execution_count": 45
        }
      ]
    },
    {
      "cell_type": "code",
      "source": [
        "np.ones(1) / 0"
      ],
      "metadata": {
        "colab": {
          "base_uri": "https://localhost:8080/"
        },
        "id": "L6DQu4-5boWN",
        "outputId": "ebafb251-0258-4a3d-8986-603a6278df82"
      },
      "execution_count": 46,
      "outputs": [
        {
          "output_type": "stream",
          "name": "stderr",
          "text": [
            "<ipython-input-46-29114bad1145>:1: RuntimeWarning: divide by zero encountered in true_divide\n",
            "  np.ones(1) / 0\n"
          ]
        },
        {
          "output_type": "execute_result",
          "data": {
            "text/plain": [
              "array([inf])"
            ]
          },
          "metadata": {},
          "execution_count": 46
        }
      ]
    },
    {
      "cell_type": "code",
      "source": [
        "with np.errstate(all=\"warn\"):\n",
        "    np.ones(1) / 0"
      ],
      "metadata": {
        "colab": {
          "base_uri": "https://localhost:8080/"
        },
        "id": "S1nkcWX0bvGL",
        "outputId": "6bc850a1-9615-4ebb-e6c7-23b25fc7c96f"
      },
      "execution_count": 47,
      "outputs": [
        {
          "output_type": "stream",
          "name": "stderr",
          "text": [
            "<ipython-input-47-42748a9956c2>:2: RuntimeWarning: divide by zero encountered in true_divide\n",
            "  np.ones(1) / 0\n"
          ]
        }
      ]
    },
    {
      "cell_type": "markdown",
      "metadata": {
        "id": "zb9KoAO4dZVQ"
      },
      "source": [
        "#### 32. Is the following expressions true? (★☆☆)\n",
        "```python\n",
        "np.sqrt(-1) == np.emath.sqrt(-1)\n",
        "```"
      ]
    },
    {
      "cell_type": "code",
      "source": [
        "np.sqrt(-1)"
      ],
      "metadata": {
        "colab": {
          "base_uri": "https://localhost:8080/"
        },
        "id": "D_xz4XELdAhG",
        "outputId": "53f59f79-2219-4d95-cb9e-928004fd07fe"
      },
      "execution_count": 48,
      "outputs": [
        {
          "output_type": "stream",
          "name": "stderr",
          "text": [
            "<ipython-input-48-597592b72a04>:1: RuntimeWarning: invalid value encountered in sqrt\n",
            "  np.sqrt(-1)\n"
          ]
        },
        {
          "output_type": "execute_result",
          "data": {
            "text/plain": [
              "nan"
            ]
          },
          "metadata": {},
          "execution_count": 48
        }
      ]
    },
    {
      "cell_type": "code",
      "source": [
        "np.emath.sqrt(-1)"
      ],
      "metadata": {
        "colab": {
          "base_uri": "https://localhost:8080/"
        },
        "id": "IED1QqY5dCb6",
        "outputId": "30240d89-2919-45e9-c1b1-332b73188532"
      },
      "execution_count": 49,
      "outputs": [
        {
          "output_type": "execute_result",
          "data": {
            "text/plain": [
              "1j"
            ]
          },
          "metadata": {},
          "execution_count": 49
        }
      ]
    },
    {
      "cell_type": "code",
      "execution_count": 50,
      "metadata": {
        "id": "mdbqj0ridZVR",
        "colab": {
          "base_uri": "https://localhost:8080/"
        },
        "outputId": "09ddafbd-841b-42ba-fd8b-59c8409a19cf"
      },
      "outputs": [
        {
          "output_type": "stream",
          "name": "stderr",
          "text": [
            "<ipython-input-50-16339fbc685e>:1: RuntimeWarning: invalid value encountered in sqrt\n",
            "  np.sqrt(-1) == np.emath.sqrt(-1)\n"
          ]
        },
        {
          "output_type": "execute_result",
          "data": {
            "text/plain": [
              "False"
            ]
          },
          "metadata": {},
          "execution_count": 50
        }
      ],
      "source": [
        "np.sqrt(-1) == np.emath.sqrt(-1)"
      ]
    },
    {
      "cell_type": "markdown",
      "metadata": {
        "id": "BPTlBd6kdZVR"
      },
      "source": [
        "#### 33. How to get the dates of yesterday, today and tomorrow? (★☆☆)"
      ]
    },
    {
      "cell_type": "code",
      "execution_count": 51,
      "metadata": {
        "id": "qdOTFw9pdZVR",
        "colab": {
          "base_uri": "https://localhost:8080/"
        },
        "outputId": "b689d393-ab00-442e-e59b-b2e2e21518e0"
      },
      "outputs": [
        {
          "output_type": "execute_result",
          "data": {
            "text/plain": [
              "numpy.datetime64('2023-01-24')"
            ]
          },
          "metadata": {},
          "execution_count": 51
        }
      ],
      "source": [
        "# Yesterday\n",
        "np.datetime64('today') - np.timedelta64(1)"
      ]
    },
    {
      "cell_type": "code",
      "source": [
        "# Today\n",
        "np.datetime64('today')"
      ],
      "metadata": {
        "colab": {
          "base_uri": "https://localhost:8080/"
        },
        "id": "yAMnxTZNd6ew",
        "outputId": "14a7a353-d2b3-4638-9293-52ebfeb2c75a"
      },
      "execution_count": 52,
      "outputs": [
        {
          "output_type": "execute_result",
          "data": {
            "text/plain": [
              "numpy.datetime64('2023-01-25')"
            ]
          },
          "metadata": {},
          "execution_count": 52
        }
      ]
    },
    {
      "cell_type": "code",
      "source": [
        "# Tomorrow\n",
        "np.datetime64('today') + np.timedelta64(1)"
      ],
      "metadata": {
        "colab": {
          "base_uri": "https://localhost:8080/"
        },
        "id": "17G3GsR8d6_4",
        "outputId": "3fb9472c-24c9-403a-821c-79749477e361"
      },
      "execution_count": 53,
      "outputs": [
        {
          "output_type": "execute_result",
          "data": {
            "text/plain": [
              "numpy.datetime64('2023-01-26')"
            ]
          },
          "metadata": {},
          "execution_count": 53
        }
      ]
    },
    {
      "cell_type": "markdown",
      "metadata": {
        "id": "VrKGotyedZVR"
      },
      "source": [
        "#### 34. How to get all the dates corresponding to the month of July 2016? (★★☆)"
      ]
    },
    {
      "cell_type": "code",
      "execution_count": 54,
      "metadata": {
        "id": "fYzeSaoudZVR",
        "colab": {
          "base_uri": "https://localhost:8080/"
        },
        "outputId": "35341e86-dbc5-43ba-8296-f13b9d9f8c8c"
      },
      "outputs": [
        {
          "output_type": "execute_result",
          "data": {
            "text/plain": [
              "array(['2016-07-01', '2016-07-02', '2016-07-03', '2016-07-04',\n",
              "       '2016-07-05', '2016-07-06', '2016-07-07', '2016-07-08',\n",
              "       '2016-07-09', '2016-07-10', '2016-07-11', '2016-07-12',\n",
              "       '2016-07-13', '2016-07-14', '2016-07-15', '2016-07-16',\n",
              "       '2016-07-17', '2016-07-18', '2016-07-19', '2016-07-20',\n",
              "       '2016-07-21', '2016-07-22', '2016-07-23', '2016-07-24',\n",
              "       '2016-07-25', '2016-07-26', '2016-07-27', '2016-07-28',\n",
              "       '2016-07-29', '2016-07-30', '2016-07-31'], dtype='datetime64[D]')"
            ]
          },
          "metadata": {},
          "execution_count": 54
        }
      ],
      "source": [
        "np.arange('2016-07', '2016-08', dtype='datetime64[D]')"
      ]
    },
    {
      "cell_type": "markdown",
      "metadata": {
        "id": "VIJmPTC9dZVR"
      },
      "source": [
        "#### 35. How to compute ((A+B)*(-A/2)) in place (without copy)? (★★☆)"
      ]
    },
    {
      "cell_type": "code",
      "execution_count": 55,
      "metadata": {
        "id": "s-Mu1oPAdZVR",
        "colab": {
          "base_uri": "https://localhost:8080/"
        },
        "outputId": "1e7174e4-ee0d-47f7-c5a5-eed40e091128"
      },
      "outputs": [
        {
          "output_type": "execute_result",
          "data": {
            "text/plain": [
              "array([ -0.,  -4., -10., -18., -28.])"
            ]
          },
          "metadata": {},
          "execution_count": 55
        }
      ],
      "source": [
        "A = np.arange(5).astype('float')\n",
        "B = np.arange(6,11).astype('float')\n",
        "\n",
        "\n",
        "np.add(A,B, out=B)\n",
        "\n",
        "np.negative(A, out=A)\n",
        "\n",
        "np.divide(A, 2, out=A)\n",
        "\n",
        "np.multiply(A, B, out=A)"
      ]
    },
    {
      "cell_type": "markdown",
      "metadata": {
        "id": "0fogjSxTdZVR"
      },
      "source": [
        "#### 36. Extract the integer part of a random array of positive numbers using 4 different methods (★★☆)"
      ]
    },
    {
      "cell_type": "code",
      "execution_count": 56,
      "metadata": {
        "id": "Tn8aO9TpdZVR",
        "colab": {
          "base_uri": "https://localhost:8080/"
        },
        "outputId": "29b82613-8968-4225-917b-e13c69b1a5dc"
      },
      "outputs": [
        {
          "output_type": "stream",
          "name": "stdout",
          "text": [
            "[4.84078625 2.65463608 2.05331869 4.06158364 6.23111306 8.0221535\n",
            " 0.9702613  8.16259979 0.28080463 0.15451639]\n",
            "[4 2 2 4 6 8 0 8 0 0]\n",
            "[4. 2. 2. 4. 6. 8. 0. 8. 0. 0.]\n",
            "[4. 2. 2. 4. 6. 8. 0. 8. 0. 0.]\n",
            "[4. 2. 2. 4. 6. 8. 0. 8. 0. 0.]\n",
            "[4. 2. 2. 4. 6. 8. 0. 8. 0. 0.]\n"
          ]
        }
      ],
      "source": [
        "arr = np.random.uniform(0,10,10)\n",
        "print(arr)\n",
        "print(arr.astype(np.int64))\n",
        "print(arr//1)\n",
        "print(arr-(arr%1))\n",
        "print(np.floor(arr))\n",
        "print(np.trunc(arr))"
      ]
    },
    {
      "cell_type": "markdown",
      "metadata": {
        "id": "JdAHEBG9dZVR"
      },
      "source": [
        "#### 37. Create a 5x5 matrix with row values ranging from 0 to 4 (★★☆)"
      ]
    },
    {
      "cell_type": "code",
      "source": [
        "np.zeros((5,5)) + np.arange(5)\n"
      ],
      "metadata": {
        "colab": {
          "base_uri": "https://localhost:8080/"
        },
        "id": "bPfZsAqWqL8i",
        "outputId": "44fc2075-bd82-4922-e35d-c4d653d68969"
      },
      "execution_count": 57,
      "outputs": [
        {
          "output_type": "execute_result",
          "data": {
            "text/plain": [
              "array([[0., 1., 2., 3., 4.],\n",
              "       [0., 1., 2., 3., 4.],\n",
              "       [0., 1., 2., 3., 4.],\n",
              "       [0., 1., 2., 3., 4.],\n",
              "       [0., 1., 2., 3., 4.]])"
            ]
          },
          "metadata": {},
          "execution_count": 57
        }
      ]
    },
    {
      "cell_type": "code",
      "execution_count": 58,
      "metadata": {
        "id": "LI0PeZlUdZVR",
        "colab": {
          "base_uri": "https://localhost:8080/"
        },
        "outputId": "bfca42a7-2f60-4795-9c25-fee21e63a9a2"
      },
      "outputs": [
        {
          "output_type": "execute_result",
          "data": {
            "text/plain": [
              "array([[0, 1, 2, 3, 4],\n",
              "       [0, 1, 2, 3, 4],\n",
              "       [0, 1, 2, 3, 4],\n",
              "       [0, 1, 2, 3, 4],\n",
              "       [0, 1, 2, 3, 4]])"
            ]
          },
          "metadata": {},
          "execution_count": 58
        }
      ],
      "source": [
        "np.tile(np.arange(5), (5,1))"
      ]
    },
    {
      "cell_type": "code",
      "source": [
        "np.tile(np.arange(5).reshape(-1,1), 5) # Just for fun"
      ],
      "metadata": {
        "colab": {
          "base_uri": "https://localhost:8080/"
        },
        "id": "7Trzh8DMpfji",
        "outputId": "e8d01419-e870-4731-bac6-790fab4db2fb"
      },
      "execution_count": 59,
      "outputs": [
        {
          "output_type": "execute_result",
          "data": {
            "text/plain": [
              "array([[0, 0, 0, 0, 0],\n",
              "       [1, 1, 1, 1, 1],\n",
              "       [2, 2, 2, 2, 2],\n",
              "       [3, 3, 3, 3, 3],\n",
              "       [4, 4, 4, 4, 4]])"
            ]
          },
          "metadata": {},
          "execution_count": 59
        }
      ]
    },
    {
      "cell_type": "markdown",
      "metadata": {
        "id": "IsPHd75PdZVR"
      },
      "source": [
        "#### 38. Consider a generator function that generates 10 integers and use it to build an array (★☆☆)"
      ]
    },
    {
      "cell_type": "code",
      "execution_count": 60,
      "metadata": {
        "id": "KILWB3sUdZVR",
        "colab": {
          "base_uri": "https://localhost:8080/"
        },
        "outputId": "66bccec3-256d-433a-a687-32c7879ef6bb"
      },
      "outputs": [
        {
          "output_type": "execute_result",
          "data": {
            "text/plain": [
              "array([0, 1, 2, 3, 4, 5])"
            ]
          },
          "metadata": {},
          "execution_count": 60
        }
      ],
      "source": [
        "def gen_10_int() :\n",
        "    for i in range(10) :\n",
        "        yield i\n",
        "\n",
        "np.fromiter(gen_10_int(), dtype=np.int64, count=6)"
      ]
    },
    {
      "cell_type": "markdown",
      "metadata": {
        "id": "GlRh5rjIdZVR"
      },
      "source": [
        "#### 39. Create a vector of size 10 with values ranging from 0 to 1, both excluded (★★☆)"
      ]
    },
    {
      "cell_type": "code",
      "execution_count": 61,
      "metadata": {
        "id": "F8rRXrd3dZVS",
        "colab": {
          "base_uri": "https://localhost:8080/"
        },
        "outputId": "91251bce-3de4-48d5-d49b-408572f48961"
      },
      "outputs": [
        {
          "output_type": "execute_result",
          "data": {
            "text/plain": [
              "array([0.09090909, 0.18181818, 0.27272727, 0.36363636, 0.45454545,\n",
              "       0.54545455, 0.63636364, 0.72727273, 0.81818182, 0.90909091])"
            ]
          },
          "metadata": {},
          "execution_count": 61
        }
      ],
      "source": [
        "np.linspace(0, 1, 11, endpoint=False)[1:]"
      ]
    },
    {
      "cell_type": "markdown",
      "metadata": {
        "id": "GLaIPLoYdZVS"
      },
      "source": [
        "#### 40. Create a random vector of size 10 and sort it (★★☆)"
      ]
    },
    {
      "cell_type": "code",
      "execution_count": 62,
      "metadata": {
        "id": "aeShNWggdZVS",
        "colab": {
          "base_uri": "https://localhost:8080/"
        },
        "outputId": "602c02a5-eb46-450d-8c87-55654268e9e9"
      },
      "outputs": [
        {
          "output_type": "execute_result",
          "data": {
            "text/plain": [
              "array([0.07173657, 0.25066314, 0.26788935, 0.30121014, 0.4034967 ,\n",
              "       0.47762815, 0.56690572, 0.59310305, 0.72442186, 0.9147945 ])"
            ]
          },
          "metadata": {},
          "execution_count": 62
        }
      ],
      "source": [
        "np.sort(np.random.rand(10))"
      ]
    },
    {
      "cell_type": "markdown",
      "metadata": {
        "id": "8aVxuxVzdZVS"
      },
      "source": [
        "#### 41. How to sum a small array faster than np.sum? (★★☆)"
      ]
    },
    {
      "cell_type": "code",
      "source": [
        "import timeit\n",
        "print(timeit.timeit('output = 10*5'))"
      ],
      "metadata": {
        "colab": {
          "base_uri": "https://localhost:8080/"
        },
        "id": "M5xNI9YVvZhN",
        "outputId": "83d740c4-9dcd-43bb-c314-d0fe0e5e9e5e"
      },
      "execution_count": 63,
      "outputs": [
        {
          "output_type": "stream",
          "name": "stdout",
          "text": [
            "0.0535638899999924\n"
          ]
        }
      ]
    },
    {
      "cell_type": "code",
      "execution_count": 64,
      "metadata": {
        "id": "w1x23wYmdZVS",
        "colab": {
          "base_uri": "https://localhost:8080/"
        },
        "outputId": "d4b2b329-39d7-4b63-b214-4a650bf471f9"
      },
      "outputs": [
        {
          "output_type": "stream",
          "name": "stdout",
          "text": [
            "np.sum speed is: 0.013760249999990037\n",
            "np.add.reduce execution time is: 0.014035459000012906\n"
          ]
        }
      ],
      "source": [
        "import timeit\n",
        "\n",
        "One = '''\n",
        "def method_one():\n",
        "    arr = np.random.uniform(-100,100, 150)\n",
        "    return np.sum(arr)\n",
        "    '''\n",
        "\n",
        "Two = '''\n",
        "def method_two():\n",
        "    arr = np.random.uniform(-100,100, 150)\n",
        "    return np.add.reduce(arr)\n",
        "    '''\n",
        "\n",
        "exec_time_method_one = timeit.timeit(One, number=100000)\n",
        "\n",
        "exec_time_method_two = timeit.timeit(Two, number=100000)\n",
        "\n",
        "print('np.sum speed is:', exec_time_method_one)\n",
        "print('np.add.reduce execution time is:', exec_time_method_two)"
      ]
    },
    {
      "cell_type": "markdown",
      "source": [
        "![Screenshot 2023-01-22 215800.png](data:image/png;base64,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)"
      ],
      "metadata": {
        "id": "fQongHItxqi1"
      }
    },
    {
      "cell_type": "markdown",
      "source": [
        "> np.add.reduce is nearly twice as fast as per our findings.\n"
      ],
      "metadata": {
        "id": "i7Qj1fS0wlpD"
      }
    },
    {
      "cell_type": "code",
      "source": [
        "np.arange(5)[::1]"
      ],
      "metadata": {
        "colab": {
          "base_uri": "https://localhost:8080/"
        },
        "id": "EewsGGuEwkGJ",
        "outputId": "ea8f1bec-3e1e-4da6-b6f1-6158979d64dc"
      },
      "execution_count": 65,
      "outputs": [
        {
          "output_type": "execute_result",
          "data": {
            "text/plain": [
              "array([0, 1, 2, 3, 4])"
            ]
          },
          "metadata": {},
          "execution_count": 65
        }
      ]
    },
    {
      "cell_type": "markdown",
      "metadata": {
        "id": "LVkLRJMndZVS"
      },
      "source": [
        "#### 42. Consider two random array A and B, check if they are equal (★★☆)"
      ]
    },
    {
      "cell_type": "code",
      "execution_count": 66,
      "metadata": {
        "id": "Ib58q0zBdZVS"
      },
      "outputs": [],
      "source": [
        "A = np.random.uniform(10)\n",
        "B = np.random.uniform(10)"
      ]
    },
    {
      "cell_type": "code",
      "source": [
        "A == B"
      ],
      "metadata": {
        "colab": {
          "base_uri": "https://localhost:8080/"
        },
        "id": "B-RvRlTOzwUP",
        "outputId": "16e61399-311b-420e-c5b9-d10edb35119d"
      },
      "execution_count": 67,
      "outputs": [
        {
          "output_type": "execute_result",
          "data": {
            "text/plain": [
              "False"
            ]
          },
          "metadata": {},
          "execution_count": 67
        }
      ]
    },
    {
      "cell_type": "code",
      "source": [
        "A == A"
      ],
      "metadata": {
        "colab": {
          "base_uri": "https://localhost:8080/"
        },
        "id": "jxZoTQN9zzBr",
        "outputId": "eab0e492-4130-4cb4-f5db-abfea47365a9"
      },
      "execution_count": 68,
      "outputs": [
        {
          "output_type": "execute_result",
          "data": {
            "text/plain": [
              "True"
            ]
          },
          "metadata": {},
          "execution_count": 68
        }
      ]
    },
    {
      "cell_type": "markdown",
      "metadata": {
        "id": "8J2H-jw-dZVS"
      },
      "source": [
        "#### 43. Make an array immutable (read-only) (★★☆)"
      ]
    },
    {
      "cell_type": "code",
      "execution_count": 69,
      "metadata": {
        "id": "QYaeJaVVdZVS",
        "colab": {
          "base_uri": "https://localhost:8080/"
        },
        "outputId": "13a02289-f4b4-41f3-c7d7-3231eb4bf108"
      },
      "outputs": [
        {
          "output_type": "stream",
          "name": "stdout",
          "text": [
            "Success!\n"
          ]
        }
      ],
      "source": [
        "arr = np.ones(10)\n",
        "arr.flags.writeable = False\n",
        "try: \n",
        "    arr[0] = 1\n",
        "except ValueError:\n",
        "    print('Success!')\n",
        "else:\n",
        "    print('Fail.')"
      ]
    },
    {
      "cell_type": "markdown",
      "metadata": {
        "id": "_7TvzaGbdZVS"
      },
      "source": [
        "#### 44. Consider a random 10x2 matrix representing cartesian coordinates, convert them to polar coordinates (★★☆)"
      ]
    },
    {
      "cell_type": "code",
      "execution_count": 70,
      "metadata": {
        "id": "bsNfuw6ndZVT",
        "colab": {
          "base_uri": "https://localhost:8080/"
        },
        "outputId": "07cbd92f-d40a-4669-acf3-384480529576"
      },
      "outputs": [
        {
          "output_type": "execute_result",
          "data": {
            "text/plain": [
              "array([[10.63014581,  0.71883   ],\n",
              "       [ 8.94427191,  0.46364761],\n",
              "       [ 8.06225775,  1.05165021],\n",
              "       [ 7.81024968,  0.69473828],\n",
              "       [10.81665383,  0.5880026 ],\n",
              "       [ 6.70820393,  1.10714872],\n",
              "       [ 3.60555128,  0.98279372],\n",
              "       [11.40175425,  0.66104317],\n",
              "       [10.63014581,  0.71883   ],\n",
              "       [10.29563014,  1.06369782]])"
            ]
          },
          "metadata": {},
          "execution_count": 70
        }
      ],
      "source": [
        "cartesian = np.random.randint(1, 10, size=(10,2))\n",
        "x = cartesian[:, 0]\n",
        "y = cartesian[:, 1]\n",
        "\n",
        "r = np.sqrt(x**2 + y**2)\n",
        "t = np.arctan2(y, x)\n",
        "\n",
        "np.vstack((r,t)).T"
      ]
    },
    {
      "cell_type": "markdown",
      "metadata": {
        "id": "yiJdM9nKdZVT"
      },
      "source": [
        "#### 45. Create random vector of size 10 and replace the maximum value by 0 (★★☆)"
      ]
    },
    {
      "cell_type": "code",
      "execution_count": 71,
      "metadata": {
        "id": "vx6_wbZXdZVT",
        "colab": {
          "base_uri": "https://localhost:8080/"
        },
        "outputId": "a8a6584c-dd1d-4da9-87fe-e5ab32d9ac9c"
      },
      "outputs": [
        {
          "output_type": "stream",
          "name": "stdout",
          "text": [
            "[0.13649596 0.05847877 0.40140807 0.43704097 0.95618137 0.94449386\n",
            " 0.03309001 0.35102746 0.78864627 0.21057478]\n",
            "[0.13649596 0.05847877 0.40140807 0.43704097 0.         0.94449386\n",
            " 0.03309001 0.35102746 0.78864627 0.21057478]\n"
          ]
        }
      ],
      "source": [
        "arr = np.random.rand(10)\n",
        "print(arr)\n",
        "arr[arr.argmax()] = 0\n",
        "print(arr)"
      ]
    },
    {
      "cell_type": "markdown",
      "metadata": {
        "id": "6M_-EQKQdZVT"
      },
      "source": [
        "#### 46. Create a structured array with `x` and `y` coordinates covering the [0,1]x[0,1] area (★★☆)"
      ]
    },
    {
      "cell_type": "code",
      "execution_count": 72,
      "metadata": {
        "id": "srEzcyJJdZVT",
        "colab": {
          "base_uri": "https://localhost:8080/"
        },
        "outputId": "efa26a11-0e80-4ae7-cc25-15b2fe6d3b0c"
      },
      "outputs": [
        {
          "output_type": "stream",
          "name": "stdout",
          "text": [
            "[[(0.  , 0.  ) (0.25, 0.  ) (0.5 , 0.  ) (0.75, 0.  ) (1.  , 0.  )]\n",
            " [(0.  , 0.25) (0.25, 0.25) (0.5 , 0.25) (0.75, 0.25) (1.  , 0.25)]\n",
            " [(0.  , 0.5 ) (0.25, 0.5 ) (0.5 , 0.5 ) (0.75, 0.5 ) (1.  , 0.5 )]\n",
            " [(0.  , 0.75) (0.25, 0.75) (0.5 , 0.75) (0.75, 0.75) (1.  , 0.75)]\n",
            " [(0.  , 1.  ) (0.25, 1.  ) (0.5 , 1.  ) (0.75, 1.  ) (1.  , 1.  )]]\n"
          ]
        }
      ],
      "source": [
        "grid = np.zeros(shape=(5,5), \n",
        "                dtype=[('x',np.float64),('y',np.float64)])\n",
        "\n",
        "grid['x'], grid['y'] = np.meshgrid(np.linspace(0,1,5),\n",
        "                                   np.linspace(0,1,5))\n",
        "print(grid)"
      ]
    },
    {
      "cell_type": "code",
      "source": [
        "import matplotlib.pyplot as plt\n",
        "\n",
        "foo = (grid['x']**2 + grid['y']**2)**0.5\n",
        "plt.pcolor(grid['x'], grid['y'], foo)\n",
        "plt.colorbar()"
      ],
      "metadata": {
        "id": "RG_I67m3C07b",
        "outputId": "d8fcaea2-d30e-4b18-ae50-9d65c4fd99d8",
        "colab": {
          "base_uri": "https://localhost:8080/",
          "height": 287
        }
      },
      "execution_count": 73,
      "outputs": [
        {
          "output_type": "execute_result",
          "data": {
            "text/plain": [
              "<matplotlib.colorbar.Colorbar at 0x7fb2d7beb190>"
            ]
          },
          "metadata": {},
          "execution_count": 73
        },
        {
          "output_type": "display_data",
          "data": {
            "text/plain": [
              "<Figure size 432x288 with 2 Axes>"
            ],
            "image/png": "[encoded data removed]"
          },
          "metadata": {
            "needs_background": "light"
          }
        }
      ]
    },
    {
      "cell_type": "markdown",
      "metadata": {
        "id": "-_2IdBQndZVT"
      },
      "source": [
        "#### 47. Given two arrays, X and Y, construct the Cauchy matrix C (Cij =1/(xi - yj))"
      ]
    },
    {
      "cell_type": "code",
      "execution_count": 74,
      "metadata": {
        "id": "hId7ZOcZdZVT",
        "colab": {
          "base_uri": "https://localhost:8080/"
        },
        "outputId": "9e1a29b6-85b2-4709-f936-4ffa3085fd1e"
      },
      "outputs": [
        {
          "output_type": "stream",
          "name": "stdout",
          "text": [
            "[0 1 2 3]\n",
            "[5 6 7 8]\n",
            "[[-0.2        -0.16666667 -0.14285714 -0.125     ]\n",
            " [-0.25       -0.2        -0.16666667 -0.14285714]\n",
            " [-0.33333333 -0.25       -0.2        -0.16666667]\n",
            " [-0.5        -0.33333333 -0.25       -0.2       ]]\n"
          ]
        },
        {
          "output_type": "execute_result",
          "data": {
            "text/plain": [
              "2.3620559334831962e-09"
            ]
          },
          "metadata": {},
          "execution_count": 74
        }
      ],
      "source": [
        "import numpy as np\n",
        "\n",
        "x = np.arange(4)\n",
        "y = x + 5\n",
        "print(x)\n",
        "print(y)\n",
        "\n",
        "c = 1/np.subtract.outer(x,y)\n",
        "print(c)\n",
        "np.linalg.det(c)"
      ]
    },
    {
      "cell_type": "markdown",
      "metadata": {
        "id": "Ycc0GiV6dZVT"
      },
      "source": [
        "#### 48. Print the minimum and maximum representable value for each numpy scalar type (★★☆)"
      ]
    },
    {
      "cell_type": "code",
      "source": [
        "import re\n",
        "\n",
        "txt = str(np.int8)\n",
        "print(txt)\n",
        "\n",
        "regex = \"^\\\".*\\\"\"\n",
        "\n",
        "y = re.search(regex, txt)\n",
        "print(y)"
      ],
      "metadata": {
        "colab": {
          "base_uri": "https://localhost:8080/"
        },
        "id": "q85TGWzA59Np",
        "outputId": "35725e63-e80d-411c-8b34-9715a317090f"
      },
      "execution_count": 75,
      "outputs": [
        {
          "output_type": "stream",
          "name": "stdout",
          "text": [
            "<class 'numpy.int8'>\n",
            "None\n"
          ]
        }
      ]
    },
    {
      "cell_type": "code",
      "execution_count": 76,
      "metadata": {
        "id": "MGDFiyCldZVT",
        "colab": {
          "base_uri": "https://localhost:8080/"
        },
        "outputId": "a20ac81e-7f6f-49bf-8795-6110cbdc698d"
      },
      "outputs": [
        {
          "output_type": "stream",
          "name": "stdout",
          "text": [
            "Min size of <class 'numpy.int8'> is: -128\n",
            "Max size of <class 'numpy.int8'> is: 127\n",
            "Min size of <class 'numpy.int16'> is: -32768\n",
            "Max size of <class 'numpy.int16'> is: 32767\n",
            "Min size of <class 'numpy.int32'> is: -2147483648\n",
            "Max size of <class 'numpy.int32'> is: 2147483647\n",
            "Min size of <class 'numpy.int64'> is: -9223372036854775808\n",
            "Max size of <class 'numpy.int64'> is: 9223372036854775807\n",
            "Min size of <class 'numpy.float32'> is: -3.4028234663852886e+38\n",
            "Max size of <class 'numpy.float32'> is: 3.4028234663852886e+38\n",
            "Resolution size of <class 'numpy.float32'> is: 1.1920928955078125e-07\n",
            "Min size of <class 'numpy.float64'> is: -1.7976931348623157e+308\n",
            "Max size of <class 'numpy.float64'> is: 1.7976931348623157e+308\n",
            "Resolution size of <class 'numpy.float64'> is: 2.220446049250313e-16\n",
            "Min size of <class 'numpy.float128'> is: -inf\n",
            "Max size of <class 'numpy.float128'> is: inf\n",
            "Resolution size of <class 'numpy.float128'> is: 1.0842021724855044e-19\n"
          ]
        }
      ],
      "source": [
        "def get_dtype_name(dtype):\n",
        "    temp = str(dtype)\n",
        "\n",
        "for dtype in [np.int8, np.int16, np.int32, np.int_]:\n",
        "    print(f\"Min size of {dtype} is: {np.iinfo(dtype).min}\")\n",
        "    print(f\"Max size of {dtype} is: {np.iinfo(dtype).max}\")\n",
        "for dtype in [np.float32, np.float64, np.float128]:\n",
        "    print(f\"Min size of {dtype} is: {np.finfo(dtype).min}\")\n",
        "    print(f\"Max size of {dtype} is: {np.finfo(dtype).max}\")\n",
        "    print(f\"Resolution size of {dtype} is: {np.finfo(dtype).eps}\")\n"
      ]
    },
    {
      "cell_type": "markdown",
      "metadata": {
        "id": "Y5lMqQdcdZVT"
      },
      "source": [
        "#### 49. How to print all the values of an array? (★★☆)"
      ]
    },
    {
      "cell_type": "code",
      "execution_count": 77,
      "metadata": {
        "id": "GZW5TLYMdZVT",
        "colab": {
          "base_uri": "https://localhost:8080/"
        },
        "outputId": "fc0a5055-ba36-449c-ed73-11e36602830b"
      },
      "outputs": [
        {
          "output_type": "stream",
          "name": "stdout",
          "text": [
            "[[0.1265 0.684  0.1955 0.4515 0.0169 0.3525 0.6528 0.8526 0.0198 0.8068]\n",
            " [0.655  0.4854 0.7268 0.4216 0.215  0.1649 0.6498 0.9841 0.0275 0.1696]\n",
            " [0.544  0.4517 0.6467 0.9788 0.254  0.6804 0.4743 0.3824 0.7273 0.0236]\n",
            " [0.0078 0.6885 0.6442 0.2842 0.8887 0.0651 0.2947 0.0804 0.6419 0.6864]\n",
            " [0.0466 0.6714 0.2671 0.0625 0.6302 0.4759 0.6085 0.0305 0.9844 0.9048]\n",
            " [0.7991 0.8088 0.9555 0.3135 0.3809 0.4162 0.7645 0.37   0.3917 0.9259]\n",
            " [0.8432 0.1795 0.6062 0.3186 0.7445 0.1519 0.0157 0.4718 0.3916 0.7614]\n",
            " [0.5766 0.1416 0.6909 0.5778 0.2348 0.199  0.5217 0.7684 0.2181 0.502 ]\n",
            " [0.6362 0.2333 0.8262 0.7281 0.8786 0.1398 0.1253 0.0426 0.3355 0.754 ]\n",
            " [0.4818 0.5506 0.5614 0.5997 0.0918 0.0071 0.9934 0.9556 0.0634 0.9804]]\n"
          ]
        }
      ],
      "source": [
        "np.set_printoptions(precision=4, threshold=float('inf'))\n",
        "print(np.random.rand(10,10))\n"
      ]
    },
    {
      "cell_type": "markdown",
      "metadata": {
        "id": "874ehZ6LdZVT"
      },
      "source": [
        "#### 50. How to find the closest value (to a given scalar) in a vector? (★★☆)"
      ]
    },
    {
      "cell_type": "code",
      "execution_count": 78,
      "metadata": {
        "id": "wmWhAUuIdZVT",
        "colab": {
          "base_uri": "https://localhost:8080/"
        },
        "outputId": "abe33dc6-e458-4e6b-fb10-04e16f92a130"
      },
      "outputs": [
        {
          "output_type": "stream",
          "name": "stdout",
          "text": [
            "[ 14  -6  16  15 -12  18  -7   7  19 -13]\n",
            "7\n",
            "True\n"
          ]
        }
      ],
      "source": [
        "target = 10\n",
        "arr = np.random.randint(-25,25,10)\n",
        "closest_value_mask = (np.abs(arr-target)).argmin() \n",
        "closest_value = arr[closest_value_mask]\n",
        "print(arr)\n",
        "print(closest_value)\n",
        "print(closest_value in arr)"
      ]
    },
    {
      "cell_type": "markdown",
      "metadata": {
        "id": "Qff6Jj-gdZVU"
      },
      "source": [
        "#### 51. Create a structured array representing a position (x,y) and a color (r,g,b) (★★☆)"
      ]
    },
    {
      "cell_type": "code",
      "execution_count": 79,
      "metadata": {
        "id": "dXZf8JePdZVU",
        "colab": {
          "base_uri": "https://localhost:8080/"
        },
        "outputId": "a2a286ab-0b2d-46dc-fc28-011c010856ee"
      },
      "outputs": [
        {
          "output_type": "stream",
          "name": "stdout",
          "text": [
            "[(15.1 , 91.16,  47, 207, 153) (55.95, 10.19, 194,  90, 168)\n",
            " (21.37,  0.95, 122, 215,  31) (69.56, 89.96,  97, 161, 169)\n",
            " (34.2 , 65.33, 232, 206, 118) (65.51,  9.18, 165,   5,  11)\n",
            " (55.89,  2.91, 245, 102,  21) (48.73, 10.37,  40,  83,  53)\n",
            " (29.45, 71.23,  88, 154,  88) (59.46, 51.43,  92,  81, 186)]\n"
          ]
        }
      ],
      "source": [
        "pos_color_dtype = [('x', float), ('y', float), ('r', int), ('g', int), ('b', int)]\n",
        "\n",
        "struc_arr = np.zeros(10, dtype = pos_color_dtype)\n",
        "for i in range(len(struc_arr)):\n",
        "    x, y    = np.round(np.random.uniform(0,100,1), 2), np.round(np.random.uniform(0,100,1), 2)\n",
        "    r, g, b = np.random.randint(0,256,1), np.random.randint(0,256,1), np.random.randint(0,256,1)\n",
        "    struc_arr[i] = x, y, r, g, b\n",
        "\n",
        "print(struc_arr)"
      ]
    },
    {
      "cell_type": "markdown",
      "metadata": {
        "id": "ERV0q_0odZVU"
      },
      "source": [
        "#### 52. Consider a random vector with shape (100,2) representing coordinates, find point by point distances (★★☆)"
      ]
    },
    {
      "cell_type": "code",
      "execution_count": 80,
      "metadata": {
        "id": "SkAyRVCQdZVU",
        "colab": {
          "base_uri": "https://localhost:8080/"
        },
        "outputId": "ba1efd16-ef1c-438d-b7af-1fb790e0d80a"
      },
      "outputs": [
        {
          "output_type": "stream",
          "name": "stdout",
          "text": [
            "\tX\t Y\t Distance\n",
            "[[ 38.4   24.08  54.31]\n",
            " [ 59.11  23.03  83.59]\n",
            " [ 66.42  20.19  93.93]\n",
            " [ 71.03  59.86 100.45]\n",
            " [ 79.82  17.3  112.88]\n",
            " [ 87.46  44.23 123.69]\n",
            " [ 85.89  31.77 121.47]\n",
            " [ 36.67  34.41  51.86]\n",
            " [ 79.75  49.89 112.78]\n",
            " [ 25.22  59.22  35.67]\n",
            " [ 10.9   35.73  15.41]\n",
            " [ 34.48  46.82  48.76]\n",
            " [ 96.11  52.15 135.92]\n",
            " [ 78.2   54.86 110.59]\n",
            " [ 78.8   16.88 111.44]\n",
            " [ 85.26  62.04 120.58]\n",
            " [ 88.38  23.73 124.99]\n",
            " [ 91.53  44.78 129.44]\n",
            " [ 16.7   68.5   23.62]\n",
            " [  8.54  66.55  12.08]\n",
            " [ 46.28  31.97  65.45]\n",
            " [ 54.99  39.3   77.77]\n",
            " [ 72.82  11.32 102.98]\n",
            " [ 31.21   0.24  44.14]\n",
            " [ 52.73   9.11  74.57]\n",
            " [ 83.57   8.77 118.19]\n",
            " [ 67.16  68.5   94.98]\n",
            " [ 47.43  22.14  67.08]\n",
            " [ 44.84  62.23  63.41]\n",
            " [ 62.68  33.29  88.64]\n",
            " [ 78.54  21.64 111.07]\n",
            " [ 99.6   87.4  140.86]\n",
            " [ 83.39  75.53 117.93]\n",
            " [ 56.17  77.17  79.44]\n",
            " [ 54.64  19.56  77.27]\n",
            " [ 34.71  89.68  49.09]\n",
            " [ 70.89  97.17 100.25]\n",
            " [ 34.92  51.47  49.38]\n",
            " [ 96.25  75.31 136.12]\n",
            " [ 61.71  13.07  87.27]\n",
            " [ 46.24   7.1   65.39]\n",
            " [ 85.97  66.38 121.58]\n",
            " [ 31.42  96.04  44.43]\n",
            " [ 77.96  54.2  110.25]\n",
            " [ 54.44  32.43  76.99]\n",
            " [  5.3   62.35   7.5 ]\n",
            " [ 78.7   78.61 111.3 ]\n",
            " [ 72.38  12.98 102.36]\n",
            " [ 36.94  33.01  52.24]\n",
            " [ 12.86  71.66  18.19]\n",
            " [ 32.21  55.7   45.55]\n",
            " [ 67.93  44.26  96.07]\n",
            " [ 33.59  48.21  47.5 ]\n",
            " [ 72.28  80.46 102.22]\n",
            " [  0.18  77.45   0.25]\n",
            " [ 60.8   49.17  85.98]\n",
            " [ 24.35  29.09  34.44]\n",
            " [ 52.09  66.49  73.67]\n",
            " [ 36.14  41.26  51.11]\n",
            " [ 81.54   5.48 115.31]\n",
            " [ 39.49  19.3   55.85]\n",
            " [ 66.56  75.32  94.13]\n",
            " [ 24.32  41.31  34.39]\n",
            " [ 31.71  99.95  44.84]\n",
            " [ 69.39  73.14  98.13]\n",
            " [ 96.19  77.35 136.03]\n",
            " [ 71.52  94.04 101.14]\n",
            " [ 57.81  59.89  81.76]\n",
            " [ 40.81  79.62  57.71]\n",
            " [ 78.66  18.6  111.24]\n",
            " [ 56.12  81.52  79.37]\n",
            " [ 46.19  81.01  65.32]\n",
            " [ 15.01  84.39  21.23]\n",
            " [  9.17  77.82  12.97]\n",
            " [ 14.09  33.66  19.93]\n",
            " [ 51.44  25.99  72.75]\n",
            " [ 15.98  74.77  22.6 ]\n",
            " [ 72.18  71.31 102.08]\n",
            " [ 96.18  70.08 136.02]\n",
            " [ 16.12  46.91  22.8 ]\n",
            " [ 83.83  15.06 118.55]\n",
            " [ 78.33  51.18 110.78]\n",
            " [ 65.77  63.3   93.01]\n",
            " [ 38.59   7.08  54.57]\n",
            " [ 46.04  70.62  65.11]\n",
            " [ 35.8   54.49  50.63]\n",
            " [ 11.01  51.94  15.57]\n",
            " [ 60.75  80.83  85.91]\n",
            " [ 75.3   16.52 106.49]\n",
            " [ 48.64  24.36  68.79]\n",
            " [ 64.82  26.58  91.67]\n",
            " [ 95.66  43.25 135.28]\n",
            " [ 81.52  51.32 115.29]\n",
            " [ 73.48  66.13 103.92]\n",
            " [ 32.11  34.81  45.41]\n",
            " [ 41.24  80.9   58.32]\n",
            " [ 86.16  29.2  121.85]\n",
            " [ 25.23  35.69  35.68]\n",
            " [ 15.43  37.02  21.82]\n",
            " [ 76.11  77.04 107.64]]\n"
          ]
        }
      ],
      "source": [
        "arr = np.round(np.random.uniform(0,100, size=(100,2)), 2)\n",
        "X, Y = arr[:, 0].reshape(-1,1), arr[:, 1].reshape(-1,1)\n",
        "\n",
        "D = np.round(np.sqrt(np.power(X, 2) + np.power(X, 2)).reshape(-1,1), 2)\n",
        "\n",
        "print(\"\\tX\\t\", \"Y\\t\", \"Distance\")\n",
        "print(np.hstack((X, Y, D)))"
      ]
    },
    {
      "cell_type": "markdown",
      "metadata": {
        "id": "ccoTlzdfdZVU"
      },
      "source": [
        "#### 53. How to convert a float (32 bits) array into an integer (32 bits) in place?"
      ]
    },
    {
      "cell_type": "code",
      "execution_count": 81,
      "metadata": {
        "id": "XZVkBxxrdZVU",
        "colab": {
          "base_uri": "https://localhost:8080/"
        },
        "outputId": "a8d7f371-1397-486d-9792-e8d5e439baa2"
      },
      "outputs": [
        {
          "output_type": "stream",
          "name": "stdout",
          "text": [
            "[8.7589 6.1117 6.0348 0.4777 4.9921 4.9642 5.1082 2.8175 9.9054 3.3713] float32\n",
            "[1091314781 1086559040 1086397702 1056214678 1084210986 1084152566\n",
            " 1084454465 1077170721 1092517002 1079493525] int32\n"
          ]
        }
      ],
      "source": [
        "arr = np.random.uniform(0,10,10).astype(np.float32)\n",
        "print(arr, arr.dtype)\n",
        "\n",
        "int_arr = arr.view(np.int32)\n",
        "print(int_arr, int_arr.dtype)"
      ]
    },
    {
      "cell_type": "markdown",
      "metadata": {
        "id": "2NE7mfSLdZVU"
      },
      "source": [
        "#### 54. How to read the following file? (★★☆)\n",
        "```\n",
        "1, 2, 3, 4, 5\n",
        "6,  ,  , 7, 8\n",
        " ,  , 9,10,11\n",
        "```"
      ]
    },
    {
      "cell_type": "code",
      "execution_count": 82,
      "metadata": {
        "id": "GNygrMHVdZVU",
        "colab": {
          "base_uri": "https://localhost:8080/"
        },
        "outputId": "2e910faa-fd75-44d6-ebb2-ed915069330c"
      },
      "outputs": [
        {
          "output_type": "execute_result",
          "data": {
            "text/plain": [
              "array([['1', ' 2', ' 3', ' 4', ' 5'],\n",
              "       ['6', '  ', '  ', ' 7', ' 8'],\n",
              "       ['', '  ', ' 9', '10', '11']], dtype='<U2')"
            ]
          },
          "metadata": {},
          "execution_count": 82
        }
      ],
      "source": [
        "from io import StringIO\n",
        "\n",
        "data = StringIO('''\n",
        "                1, 2, 3, 4, 5\n",
        "                6,  ,  , 7, 8\n",
        "                ,  , 9,10,11\n",
        "                ''')\n",
        "np.genfromtxt(data, delimiter=',', dtype=str)"
      ]
    },
    {
      "cell_type": "markdown",
      "metadata": {
        "id": "CRJxqltrdZVU"
      },
      "source": [
        "#### 55. What is the equivalent of enumerate for numpy arrays? (★★☆)"
      ]
    },
    {
      "cell_type": "code",
      "execution_count": 83,
      "metadata": {
        "id": "XlAEWNVldZVU",
        "colab": {
          "base_uri": "https://localhost:8080/"
        },
        "outputId": "c7df2dfe-f339-42b9-c9d9-e0c88a1028d6"
      },
      "outputs": [
        {
          "output_type": "stream",
          "name": "stdout",
          "text": [
            "(0, 0) 1\n",
            "(0, 1) 2\n",
            "(1, 0) 3\n",
            "(1, 1) 4\n"
          ]
        }
      ],
      "source": [
        "a = np.array([[1, 2], [3, 4]])\n",
        "for index, x in np.ndenumerate(a):\n",
        "    print(index, x)"
      ]
    },
    {
      "cell_type": "code",
      "source": [
        "for index in np.ndindex((1, 2, 3, 4)):\n",
        "    print(index)"
      ],
      "metadata": {
        "colab": {
          "base_uri": "https://localhost:8080/"
        },
        "id": "NxbHaZllJTit",
        "outputId": "905dcb58-5e81-478f-83fe-3befebb04170"
      },
      "execution_count": 84,
      "outputs": [
        {
          "output_type": "stream",
          "name": "stdout",
          "text": [
            "(0, 0, 0, 0)\n",
            "(0, 0, 0, 1)\n",
            "(0, 0, 0, 2)\n",
            "(0, 0, 0, 3)\n",
            "(0, 0, 1, 0)\n",
            "(0, 0, 1, 1)\n",
            "(0, 0, 1, 2)\n",
            "(0, 0, 1, 3)\n",
            "(0, 0, 2, 0)\n",
            "(0, 0, 2, 1)\n",
            "(0, 0, 2, 2)\n",
            "(0, 0, 2, 3)\n",
            "(0, 1, 0, 0)\n",
            "(0, 1, 0, 1)\n",
            "(0, 1, 0, 2)\n",
            "(0, 1, 0, 3)\n",
            "(0, 1, 1, 0)\n",
            "(0, 1, 1, 1)\n",
            "(0, 1, 1, 2)\n",
            "(0, 1, 1, 3)\n",
            "(0, 1, 2, 0)\n",
            "(0, 1, 2, 1)\n",
            "(0, 1, 2, 2)\n",
            "(0, 1, 2, 3)\n"
          ]
        }
      ]
    },
    {
      "cell_type": "markdown",
      "metadata": {
        "id": "iDUpcGx_dZVU"
      },
      "source": [
        "#### 56. Generate a generic 2D Gaussian-like array (★★☆)"
      ]
    },
    {
      "cell_type": "code",
      "execution_count": 85,
      "metadata": {
        "id": "DZiS_y7-dZVU",
        "colab": {
          "base_uri": "https://localhost:8080/",
          "height": 265
        },
        "outputId": "d04c298b-7396-48da-ff4c-1590ec02bfdf"
      },
      "outputs": [
        {
          "output_type": "display_data",
          "data": {
            "text/plain": [
              "<Figure size 432x288 with 1 Axes>"
            ],
            "image/png": "[encoded data removed]"
          },
          "metadata": {
            "needs_background": "light"
          }
        }
      ],
      "source": [
        "import numpy as np\n",
        "\n",
        "# Generating a grid in (-1, 1) space\n",
        "grid = x, y = np.meshgrid(np.linspace(-3,3,10),\n",
        "                          np.linspace(-3,3,10))\n",
        "\n",
        "# Calculating distance vector \n",
        "dist = (x**2 +y**2)**0.5\n",
        "\n",
        "# Assuming Standard Deviation as 1 and Arithmetic Mean as 0\n",
        "sd, mu = 1.0, 0\n",
        "\n",
        "normal = 1/(2.0 * np.pi * sd**2)\n",
        "\n",
        "gaussian = np.exp(-((dist-mu)**2 / (2.0 * sd**2))) * normal\n",
        "\n",
        "import matplotlib.pyplot as plt\n",
        "\n",
        "plt.plot(gaussian)\n",
        "plt.show()\n"
      ]
    },
    {
      "cell_type": "markdown",
      "metadata": {
        "id": "iDwz8b-1dZVU"
      },
      "source": [
        "#### 57. How to randomly place p elements in a 2D array? (★★☆)"
      ]
    },
    {
      "cell_type": "code",
      "execution_count": 104,
      "metadata": {
        "id": "WKkXwrbLdZVV",
        "outputId": "d2b64300-cc7a-43b1-cec1-0fce4ca41005",
        "colab": {
          "base_uri": "https://localhost:8080/"
        }
      },
      "outputs": [
        {
          "output_type": "stream",
          "name": "stdout",
          "text": [
            "[[7. 1. 8. 9. 4.]\n",
            " [2. 0. 0. 2. 6.]\n",
            " [2. 4. 6. 6. 3.]\n",
            " [3. 0. 4. 7. 1.]\n",
            " [2. 0. 0. 1. 6.]]\n"
          ]
        }
      ],
      "source": [
        "np.random.seed()\n",
        "\n",
        "arr= np.zeros((5, 5))   # Initialize Array\n",
        "p = 20                  # Assuming a 'p' value, this the number of elements to place\n",
        "seen = set()            # Set of position where random value has been inserted\n",
        "\n",
        "while p>0 and len(seen)<arr.size:\n",
        "    insert = x,y = np.random.randint(0, arr.shape[0]), np.random.randint(0, arr.shape[1])\n",
        "    if insert in seen:\n",
        "        continue\n",
        "    seen.add(insert)\n",
        "    if len(seen) == arr.size:\n",
        "        print('Size Limit Reached.')\n",
        "    arr[x, y] = np.random.randint(1, 10)\n",
        "    p -= 1\n",
        "\n",
        "print(arr)"
      ]
    },
    {
      "cell_type": "markdown",
      "metadata": {
        "id": "aFAnDyFndZVV"
      },
      "source": [
        "#### 58. Subtract the mean of each row of a matrix (★★☆)"
      ]
    },
    {
      "cell_type": "code",
      "execution_count": null,
      "metadata": {
        "id": "UmwFLdsfdZVV"
      },
      "outputs": [],
      "source": []
    },
    {
      "cell_type": "markdown",
      "metadata": {
        "id": "tBSFz9KLdZVV"
      },
      "source": [
        "#### 59. How to sort an array by the nth column? (★★☆)"
      ]
    },
    {
      "cell_type": "code",
      "execution_count": null,
      "metadata": {
        "id": "pspYNDDydZVV"
      },
      "outputs": [],
      "source": []
    },
    {
      "cell_type": "markdown",
      "metadata": {
        "id": "7QvGNFjpdZVV"
      },
      "source": [
        "#### 60. How to tell if a given 2D array has null columns? (★★☆)"
      ]
    },
    {
      "cell_type": "code",
      "execution_count": null,
      "metadata": {
        "id": "d7HcWwaydZVV"
      },
      "outputs": [],
      "source": []
    },
    {
      "cell_type": "markdown",
      "metadata": {
        "id": "i_fvQYs6dZVV"
      },
      "source": [
        "#### 61. Find the nearest value from a given value in an array (★★☆)"
      ]
    },
    {
      "cell_type": "code",
      "execution_count": null,
      "metadata": {
        "id": "UjnyHa0IdZVZ"
      },
      "outputs": [],
      "source": []
    },
    {
      "cell_type": "markdown",
      "metadata": {
        "id": "v0w8UZejdZVZ"
      },
      "source": [
        "#### 62. Considering two arrays with shape (1,3) and (3,1), how to compute their sum using an iterator? (★★☆)"
      ]
    },
    {
      "cell_type": "code",
      "execution_count": null,
      "metadata": {
        "id": "8ztglrApdZVZ"
      },
      "outputs": [],
      "source": []
    },
    {
      "cell_type": "markdown",
      "metadata": {
        "id": "O4lOUP_4dZVZ"
      },
      "source": [
        "#### 63. Create an array class that has a name attribute (★★☆)"
      ]
    },
    {
      "cell_type": "code",
      "execution_count": null,
      "metadata": {
        "id": "fLjUaa_AdZVZ"
      },
      "outputs": [],
      "source": []
    },
    {
      "cell_type": "markdown",
      "metadata": {
        "id": "M6gIIJtgdZVZ"
      },
      "source": [
        "#### 64. Consider a given vector, how to add 1 to each element indexed by a second vector (be careful with repeated indices)? (★★★)"
      ]
    },
    {
      "cell_type": "code",
      "execution_count": null,
      "metadata": {
        "id": "L5-AuJIndZVa"
      },
      "outputs": [],
      "source": []
    },
    {
      "cell_type": "markdown",
      "metadata": {
        "id": "P6tlmcC6dZVa"
      },
      "source": [
        "#### 65. How to accumulate elements of a vector (X) to an array (F) based on an index list (I)? (★★★)"
      ]
    },
    {
      "cell_type": "code",
      "execution_count": null,
      "metadata": {
        "id": "35jhVsFPdZVa"
      },
      "outputs": [],
      "source": []
    },
    {
      "cell_type": "markdown",
      "metadata": {
        "id": "tYNgB-EwdZVa"
      },
      "source": [
        "#### 66. Considering a (w,h,3) image of (dtype=ubyte), compute the number of unique colors (★★★)"
      ]
    },
    {
      "cell_type": "code",
      "execution_count": null,
      "metadata": {
        "id": "rLdxETkodZVa"
      },
      "outputs": [],
      "source": []
    },
    {
      "cell_type": "markdown",
      "metadata": {
        "id": "zuIZNBvwdZVa"
      },
      "source": [
        "#### 67. Considering a four dimensions array, how to get sum over the last two axis at once? (★★★)"
      ]
    },
    {
      "cell_type": "code",
      "execution_count": null,
      "metadata": {
        "id": "vMDdGvOedZVa"
      },
      "outputs": [],
      "source": []
    },
    {
      "cell_type": "markdown",
      "metadata": {
        "id": "Ulql9EERdZVa"
      },
      "source": [
        "#### 68. Considering a one-dimensional vector D, how to compute means of subsets of D using a vector S of same size describing subset  indices? (★★★)"
      ]
    },
    {
      "cell_type": "code",
      "execution_count": null,
      "metadata": {
        "id": "26AqUyl1dZVa"
      },
      "outputs": [],
      "source": []
    },
    {
      "cell_type": "markdown",
      "metadata": {
        "id": "WCo772tKdZVa"
      },
      "source": [
        "#### 69. How to get the diagonal of a dot product? (★★★)"
      ]
    },
    {
      "cell_type": "code",
      "execution_count": null,
      "metadata": {
        "id": "qSW83ouGdZVb"
      },
      "outputs": [],
      "source": []
    },
    {
      "cell_type": "markdown",
      "metadata": {
        "id": "SO62E1JhdZVb"
      },
      "source": [
        "#### 70. Consider the vector [1, 2, 3, 4, 5], how to build a new vector with 3 consecutive zeros interleaved between each value? (★★★)"
      ]
    },
    {
      "cell_type": "code",
      "execution_count": null,
      "metadata": {
        "id": "ZVMR1xoBdZVb"
      },
      "outputs": [],
      "source": []
    },
    {
      "cell_type": "code",
      "execution_count": null,
      "metadata": {
        "id": "EgorTrZSdZVb"
      },
      "outputs": [],
      "source": []
    },
    {
      "cell_type": "markdown",
      "metadata": {
        "id": "3Vbt-wDOdZVb"
      },
      "source": [
        "#### 71. Consider an array of dimension (5,5,3), how to mulitply it by an array with dimensions (5,5)? (★★★)"
      ]
    },
    {
      "cell_type": "code",
      "execution_count": null,
      "metadata": {
        "id": "xcsAYZj3dZVc"
      },
      "outputs": [],
      "source": []
    },
    {
      "cell_type": "markdown",
      "metadata": {
        "id": "ElwUvO0HdZVc"
      },
      "source": [
        "#### 72. How to swap two rows of an array? (★★★)"
      ]
    },
    {
      "cell_type": "code",
      "execution_count": null,
      "metadata": {
        "id": "I_rarq-ZdZVc"
      },
      "outputs": [],
      "source": []
    },
    {
      "cell_type": "markdown",
      "metadata": {
        "id": "S_88Q3u2dZVc"
      },
      "source": [
        "#### 73. Consider a set of 10 triplets describing 10 triangles (with shared vertices), find the set of unique line segments composing all the  triangles (★★★)"
      ]
    },
    {
      "cell_type": "code",
      "execution_count": null,
      "metadata": {
        "id": "oxLlmPk2dZVc"
      },
      "outputs": [],
      "source": []
    },
    {
      "cell_type": "markdown",
      "metadata": {
        "id": "ErFxMZtNdZVc"
      },
      "source": [
        "#### 74. Given an array C that is a bincount, how to produce an array A such that np.bincount(A) == C? (★★★)"
      ]
    },
    {
      "cell_type": "code",
      "execution_count": null,
      "metadata": {
        "id": "uxKYHfoQdZVc"
      },
      "outputs": [],
      "source": []
    },
    {
      "cell_type": "markdown",
      "metadata": {
        "id": "51QwWhuedZVc"
      },
      "source": [
        "#### 75. How to compute averages using a sliding window over an array? (★★★)"
      ]
    },
    {
      "cell_type": "code",
      "execution_count": null,
      "metadata": {
        "id": "-OFH55-IdZVc"
      },
      "outputs": [],
      "source": []
    },
    {
      "cell_type": "markdown",
      "metadata": {
        "id": "v7LOHXFodZVc"
      },
      "source": [
        "#### 76. Consider a one-dimensional array Z, build a two-dimensional array whose first row is (Z[0],Z[1],Z[2]) and each subsequent row is  shifted by 1 (last row should be (Z[-3],Z[-2],Z[-1]) (★★★)"
      ]
    },
    {
      "cell_type": "code",
      "execution_count": null,
      "metadata": {
        "id": "nxhA8ZrEdZVc"
      },
      "outputs": [],
      "source": []
    },
    {
      "cell_type": "markdown",
      "metadata": {
        "id": "BmvGvTubdZVc"
      },
      "source": [
        "#### 77. How to negate a boolean, or to change the sign of a float inplace? (★★★)"
      ]
    },
    {
      "cell_type": "code",
      "execution_count": null,
      "metadata": {
        "id": "RTfeHNPXdZVc"
      },
      "outputs": [],
      "source": []
    },
    {
      "cell_type": "markdown",
      "metadata": {
        "id": "JxMAMzTDdZVc"
      },
      "source": [
        "#### 78. Consider 2 sets of points P0,P1 describing lines (2d) and a point p, how to compute distance from p to each line i (P0[i],P1[i])? (★★★)"
      ]
    },
    {
      "cell_type": "code",
      "execution_count": null,
      "metadata": {
        "id": "arFu6nAzdZVd"
      },
      "outputs": [],
      "source": []
    },
    {
      "cell_type": "markdown",
      "metadata": {
        "id": "iwovzR7HdZVd"
      },
      "source": [
        "#### 79. Consider 2 sets of points P0,P1 describing lines (2d) and a set of points P, how to compute distance from each point j (P[j]) to each line i (P0[i],P1[i])? (★★★)"
      ]
    },
    {
      "cell_type": "code",
      "execution_count": null,
      "metadata": {
        "id": "CGFxbG7GdZVd"
      },
      "outputs": [],
      "source": []
    },
    {
      "cell_type": "markdown",
      "metadata": {
        "id": "kiH1qx8FdZVd"
      },
      "source": [
        "#### 80. Consider an arbitrary array, write a function that extract a subpart with a fixed shape and centered on a given element (pad with a `fill` value when necessary) (★★★)"
      ]
    },
    {
      "cell_type": "code",
      "execution_count": null,
      "metadata": {
        "id": "rXJ3vQhjdZVd"
      },
      "outputs": [],
      "source": []
    },
    {
      "cell_type": "markdown",
      "metadata": {
        "id": "xinpczeYdZVd"
      },
      "source": [
        "#### 81. Consider an array Z = [1,2,3,4,5,6,7,8,9,10,11,12,13,14], how to generate an array R = [[1,2,3,4], [2,3,4,5], [3,4,5,6], ..., [11,12,13,14]]? (★★★)"
      ]
    },
    {
      "cell_type": "code",
      "execution_count": null,
      "metadata": {
        "id": "Sxf_UaUNdZVd"
      },
      "outputs": [],
      "source": []
    },
    {
      "cell_type": "markdown",
      "metadata": {
        "id": "aZ-0iGXodZVd"
      },
      "source": [
        "#### 82. Compute a matrix rank (★★★)"
      ]
    },
    {
      "cell_type": "code",
      "execution_count": null,
      "metadata": {
        "id": "oIsV08vqdZVe"
      },
      "outputs": [],
      "source": []
    },
    {
      "cell_type": "markdown",
      "metadata": {
        "id": "AXotMym8dZVe"
      },
      "source": [
        "#### 83. How to find the most frequent value in an array?"
      ]
    },
    {
      "cell_type": "code",
      "execution_count": null,
      "metadata": {
        "id": "QNRcBy36dZVe"
      },
      "outputs": [],
      "source": []
    },
    {
      "cell_type": "markdown",
      "metadata": {
        "id": "uJMuDb_xdZVe"
      },
      "source": [
        "#### 84. Extract all the contiguous 3x3 blocks from a random 10x10 matrix (★★★)"
      ]
    },
    {
      "cell_type": "code",
      "execution_count": null,
      "metadata": {
        "id": "3rF_Kf-jdZVe"
      },
      "outputs": [],
      "source": []
    },
    {
      "cell_type": "markdown",
      "metadata": {
        "id": "xsC475c1dZVe"
      },
      "source": [
        "#### 85. Create a 2D array subclass such that Z[i,j] == Z[j,i] (★★★)"
      ]
    },
    {
      "cell_type": "code",
      "execution_count": null,
      "metadata": {
        "id": "q_jDUzs1dZVe"
      },
      "outputs": [],
      "source": []
    },
    {
      "cell_type": "markdown",
      "metadata": {
        "id": "zb1hA9OLdZVe"
      },
      "source": [
        "#### 86. Consider a set of p matrices wich shape (n,n) and a set of p vectors with shape (n,1). How to compute the sum of of the p matrix products at once? (result has shape (n,1)) (★★★)"
      ]
    },
    {
      "cell_type": "code",
      "execution_count": null,
      "metadata": {
        "id": "mdcAJNTndZVe"
      },
      "outputs": [],
      "source": []
    },
    {
      "cell_type": "markdown",
      "metadata": {
        "id": "EA_TgK3kdZVe"
      },
      "source": [
        "#### 87. Consider a 16x16 array, how to get the block-sum (block size is 4x4)? (★★★)"
      ]
    },
    {
      "cell_type": "code",
      "execution_count": null,
      "metadata": {
        "id": "HVzm0qQ8dZVe"
      },
      "outputs": [],
      "source": []
    },
    {
      "cell_type": "markdown",
      "metadata": {
        "id": "-0Wj2--XdZVe"
      },
      "source": [
        "#### 88. How to implement the Game of Life using numpy arrays? (★★★)"
      ]
    },
    {
      "cell_type": "code",
      "execution_count": null,
      "metadata": {
        "id": "-9z9BAhedZVe"
      },
      "outputs": [],
      "source": []
    },
    {
      "cell_type": "markdown",
      "metadata": {
        "id": "yw5DxmMfdZVe"
      },
      "source": [
        "#### 89. How to get the n largest values of an array (★★★)"
      ]
    },
    {
      "cell_type": "code",
      "execution_count": null,
      "metadata": {
        "id": "K5J1tqNhdZVe"
      },
      "outputs": [],
      "source": []
    },
    {
      "cell_type": "markdown",
      "metadata": {
        "id": "tpLHF8yddZVf"
      },
      "source": [
        "#### 90. Given an arbitrary number of vectors, build the cartesian product (every combinations of every item) (★★★)"
      ]
    },
    {
      "cell_type": "code",
      "execution_count": null,
      "metadata": {
        "id": "p4h7zYfJdZVf"
      },
      "outputs": [],
      "source": []
    },
    {
      "cell_type": "markdown",
      "metadata": {
        "id": "Y5FtoQ-HdZVf"
      },
      "source": [
        "#### 91. How to create a record array from a regular array? (★★★)"
      ]
    },
    {
      "cell_type": "code",
      "execution_count": null,
      "metadata": {
        "id": "4WP03NUAdZVf"
      },
      "outputs": [],
      "source": []
    },
    {
      "cell_type": "markdown",
      "metadata": {
        "id": "KIhnVuO0dZVf"
      },
      "source": [
        "#### 92. Consider a large vector Z, compute Z to the power of 3 using 3 different methods (★★★)"
      ]
    },
    {
      "cell_type": "code",
      "execution_count": null,
      "metadata": {
        "id": "R2BVOIzydZVf"
      },
      "outputs": [],
      "source": []
    },
    {
      "cell_type": "markdown",
      "metadata": {
        "id": "gsWav0QtdZVg"
      },
      "source": [
        "#### 93. Consider two arrays A and B of shape (8,3) and (2,2). How to find rows of A that contain elements of each row of B regardless of the order of the elements in B? (★★★)"
      ]
    },
    {
      "cell_type": "code",
      "execution_count": null,
      "metadata": {
        "id": "inazKrHtdZVg"
      },
      "outputs": [],
      "source": []
    },
    {
      "cell_type": "markdown",
      "metadata": {
        "id": "U8wbzWIIdZVg"
      },
      "source": [
        "#### 94. Considering a 10x3 matrix, extract rows with unequal values (e.g. [2,2,3]) (★★★)"
      ]
    },
    {
      "cell_type": "code",
      "execution_count": null,
      "metadata": {
        "id": "I9ZiuPyndZVg"
      },
      "outputs": [],
      "source": []
    },
    {
      "cell_type": "markdown",
      "metadata": {
        "id": "AFlWkvnidZVg"
      },
      "source": [
        "#### 95. Convert a vector of ints into a matrix binary representation (★★★)"
      ]
    },
    {
      "cell_type": "code",
      "execution_count": null,
      "metadata": {
        "id": "Hic33vGtdZVg"
      },
      "outputs": [],
      "source": []
    },
    {
      "cell_type": "markdown",
      "metadata": {
        "id": "rIVmXdQUdZVg"
      },
      "source": [
        "#### 96. Given a two dimensional array, how to extract unique rows? (★★★)"
      ]
    },
    {
      "cell_type": "code",
      "execution_count": null,
      "metadata": {
        "id": "l-_jkH8_dZVg"
      },
      "outputs": [],
      "source": []
    },
    {
      "cell_type": "markdown",
      "metadata": {
        "id": "06FYY3tqdZVg"
      },
      "source": [
        "#### 97. Considering 2 vectors A & B, write the einsum equivalent of inner, outer, sum, and mul function (★★★)"
      ]
    },
    {
      "cell_type": "code",
      "execution_count": null,
      "metadata": {
        "id": "bEYsbyEhdZVg"
      },
      "outputs": [],
      "source": []
    },
    {
      "cell_type": "markdown",
      "metadata": {
        "id": "_ldKIoe9dZVg"
      },
      "source": [
        "#### 98. Considering a path described by two vectors (X,Y), how to sample it using equidistant samples (★★★)?"
      ]
    },
    {
      "cell_type": "code",
      "execution_count": null,
      "metadata": {
        "id": "xNZYCAlEdZVg"
      },
      "outputs": [],
      "source": []
    },
    {
      "cell_type": "markdown",
      "metadata": {
        "id": "8qg6VahHdZVg"
      },
      "source": [
        "#### 99. Given an integer n and a 2D array X, select from X the rows which can be interpreted as draws from a multinomial distribution with n degrees, i.e., the rows which only contain integers and which sum to n. (★★★)"
      ]
    },
    {
      "cell_type": "code",
      "execution_count": null,
      "metadata": {
        "id": "lFmG4Ku6dZVg"
      },
      "outputs": [],
      "source": []
    },
    {
      "cell_type": "markdown",
      "metadata": {
        "id": "dby8sW16dZVg"
      },
      "source": [
        "#### 100. Compute bootstrapped 95% confidence intervals for the mean of a 1D array X (i.e., resample the elements of an array with replacement N times, compute the mean of each sample, and then compute percentiles over the means). (★★★)"
      ]
    },
    {
      "cell_type": "code",
      "execution_count": null,
      "metadata": {
        "id": "__BIVp9IdZVh"
      },
      "outputs": [],
      "source": []
    }
  ],
  "metadata": {
    "language_info": {
      "name": "python"
    },
    "colab": {
      "provenance": [],
      "include_colab_link": true
    },
    "kernelspec": {
      "name": "python3",
      "display_name": "Python 3"
    },
    "gpuClass": "standard"
  },
  "nbformat": 4,
  "nbformat_minor": 0
}
{
  "cells": [
    {
      "cell_type": "markdown",
      "metadata": {
        "id": "view-in-github",
        "colab_type": "text"
      },
      "source": [
        "<a href=\"https://colab.research.google.com/github/areeb-h-qureshi/Jovian/blob/main/Data%20Analysis%20with%20Python%3A%20Zero%20to%20Pandas/100_numpy_exercises.ipynb\" target=\"_parent\"><img src=\"https://colab.research.google.com/assets/colab-badge.svg\" alt=\"Open In Colab\"/></a>"
      ]
    },
    {
      "cell_type": "markdown",
      "metadata": {
        "id": "BMROB1nBdZVD"
      },
      "source": [
        "# 100 numpy exercises (Optional)\n",
        "\n",
        "Source: https://github.com/rougier/numpy-100\n"
      ]
    },
    {
      "cell_type": "markdown",
      "metadata": {
        "id": "MeFoQ4kydZVG"
      },
      "source": [
        "100 numpy exercises\n",
        "This is a collection of exercises that have been collected in the numpy mailing list, on stack overflow and in the numpy documentation. The goal of this collection is to offer a quick reference for both old and new users but also to provide a set of exercises for those who teach.\n",
        "\n",
        "If you find an error or think you've a better way to solve some of them, feel free to open an issue at https://github.com/rougier/numpy-100.\n",
        "\n",
        "File automatically generated. See the documentation to update questions/answers/hints programmatically.\n",
        "\n",
        "Run the initialize.py module, then for each question you can query the answer or an hint with hint(n) or answer(n) for n question number."
      ]
    },
    {
      "cell_type": "markdown",
      "metadata": {
        "id": "92bGkFCtdZVI"
      },
      "source": [
        "#### 1. Import the numpy package under the name `np` (★☆☆)"
      ]
    },
    {
      "cell_type": "code",
      "execution_count": 1,
      "metadata": {
        "id": "UhT4Sp0-dZVJ"
      },
      "outputs": [],
      "source": [
        "import numpy as np"
      ]
    },
    {
      "cell_type": "markdown",
      "metadata": {
        "id": "xMFOkfa5dZVJ"
      },
      "source": [
        "#### 2. Print the numpy version and the configuration (★☆☆)\n",
        "\n"
      ]
    },
    {
      "cell_type": "code",
      "execution_count": 2,
      "metadata": {
        "colab": {
          "base_uri": "https://localhost:8080/"
        },
        "id": "jb1Jfe7IdZVJ",
        "outputId": "d71b430c-b69c-4b26-e223-f15fbeb44e45"
      },
      "outputs": [
        {
          "output_type": "stream",
          "name": "stdout",
          "text": [
            "1.21.6\n",
            "blas_mkl_info:\n",
            "  NOT AVAILABLE\n",
            "blis_info:\n",
            "  NOT AVAILABLE\n",
            "openblas_info:\n",
            "    libraries = ['openblas', 'openblas']\n",
            "    library_dirs = ['/usr/local/lib']\n",
            "    language = c\n",
            "    define_macros = [('HAVE_CBLAS', None)]\n",
            "    runtime_library_dirs = ['/usr/local/lib']\n",
            "blas_opt_info:\n",
            "    libraries = ['openblas', 'openblas']\n",
            "    library_dirs = ['/usr/local/lib']\n",
            "    language = c\n",
            "    define_macros = [('HAVE_CBLAS', None)]\n",
            "    runtime_library_dirs = ['/usr/local/lib']\n",
            "lapack_mkl_info:\n",
            "  NOT AVAILABLE\n",
            "openblas_lapack_info:\n",
            "    libraries = ['openblas', 'openblas']\n",
            "    library_dirs = ['/usr/local/lib']\n",
            "    language = c\n",
            "    define_macros = [('HAVE_CBLAS', None)]\n",
            "    runtime_library_dirs = ['/usr/local/lib']\n",
            "lapack_opt_info:\n",
            "    libraries = ['openblas', 'openblas']\n",
            "    library_dirs = ['/usr/local/lib']\n",
            "    language = c\n",
            "    define_macros = [('HAVE_CBLAS', None)]\n",
            "    runtime_library_dirs = ['/usr/local/lib']\n",
            "Supported SIMD extensions in this NumPy install:\n",
            "    baseline = SSE,SSE2,SSE3\n",
            "    found = SSSE3,SSE41,POPCNT,SSE42,AVX,F16C,FMA3,AVX2\n",
            "    not found = AVX512F,AVX512CD,AVX512_KNL,AVX512_KNM,AVX512_SKX,AVX512_CLX,AVX512_CNL,AVX512_ICL\n",
            "None\n"
          ]
        }
      ],
      "source": [
        "print(np.__version__)\n",
        "print(np.show_config())"
      ]
    },
    {
      "cell_type": "markdown",
      "metadata": {
        "id": "oAWDWCsLdZVJ"
      },
      "source": [
        "#### 3. Create a null vector of size 10 (★☆☆)"
      ]
    },
    {
      "cell_type": "code",
      "execution_count": 3,
      "metadata": {
        "colab": {
          "base_uri": "https://localhost:8080/"
        },
        "id": "7NN59HCTdZVJ",
        "outputId": "192370ac-45e7-477f-fcf1-71e41cab5cf6"
      },
      "outputs": [
        {
          "output_type": "execute_result",
          "data": {
            "text/plain": [
              "array([0., 0., 0., 0., 0., 0., 0., 0., 0., 0.])"
            ]
          },
          "metadata": {},
          "execution_count": 3
        }
      ],
      "source": [
        "np.zeros(10)"
      ]
    },
    {
      "cell_type": "markdown",
      "metadata": {
        "id": "ygkSNHU7dZVK"
      },
      "source": [
        "#### 4. How to find the memory size of any array (★☆☆)"
      ]
    },
    {
      "cell_type": "code",
      "execution_count": 4,
      "metadata": {
        "colab": {
          "base_uri": "https://localhost:8080/"
        },
        "id": "pLzXdkBadZVK",
        "outputId": "7ab6bba6-6570-47e3-b2e7-fcf20f52968b"
      },
      "outputs": [
        {
          "output_type": "execute_result",
          "data": {
            "text/plain": [
              "32"
            ]
          },
          "metadata": {},
          "execution_count": 4
        }
      ],
      "source": [
        "np.array([0, 1, 2, 3]).nbytes"
      ]
    },
    {
      "cell_type": "code",
      "source": [
        "np.array([0, 1, 2, 3]).size * np.array([0, 1, 2, 3]).itemsize"
      ],
      "metadata": {
        "colab": {
          "base_uri": "https://localhost:8080/"
        },
        "id": "VtKPGsh2gGLl",
        "outputId": "ff8d1832-7d3f-425b-d7c0-2ad650d5d687"
      },
      "execution_count": 5,
      "outputs": [
        {
          "output_type": "execute_result",
          "data": {
            "text/plain": [
              "32"
            ]
          },
          "metadata": {},
          "execution_count": 5
        }
      ]
    },
    {
      "cell_type": "markdown",
      "metadata": {
        "id": "kVUCXHvbdZVK"
      },
      "source": [
        "#### 5. How to get the documentation of the numpy add function from the command line? (★☆☆)"
      ]
    },
    {
      "cell_type": "markdown",
      "metadata": {
        "id": "CkoMofyQdZVK"
      },
      "source": [
        "#### 6. Create a null vector of size 10 but the fifth value which is 1 (★☆☆)"
      ]
    },
    {
      "cell_type": "code",
      "execution_count": 8,
      "metadata": {
        "id": "PS7ZcUoadZVK"
      },
      "outputs": [],
      "source": [
        "arr = np.zeros(10)\n",
        "arr[4] = 1"
      ]
    },
    {
      "cell_type": "code",
      "source": [
        "arr"
      ],
      "metadata": {
        "colab": {
          "base_uri": "https://localhost:8080/"
        },
        "id": "LDmzuh_-g9Zf",
        "outputId": "e6feef01-4bc4-480f-d6a1-4e18917da675"
      },
      "execution_count": 9,
      "outputs": [
        {
          "output_type": "execute_result",
          "data": {
            "text/plain": [
              "array([0., 0., 0., 0., 1., 0., 0., 0., 0., 0.])"
            ]
          },
          "metadata": {},
          "execution_count": 9
        }
      ]
    },
    {
      "cell_type": "markdown",
      "metadata": {
        "id": "wNqUZVPxdZVK"
      },
      "source": [
        "#### 7. Create a vector with values ranging from 10 to 49 (★☆☆)"
      ]
    },
    {
      "cell_type": "code",
      "execution_count": 10,
      "metadata": {
        "colab": {
          "base_uri": "https://localhost:8080/"
        },
        "id": "uALat3xudZVK",
        "outputId": "d5564a7f-2632-4754-b658-e05f4fecd1b6"
      },
      "outputs": [
        {
          "output_type": "execute_result",
          "data": {
            "text/plain": [
              "array([10, 11, 12, 13, 14, 15, 16, 17, 18, 19, 20, 21, 22, 23, 24, 25, 26,\n",
              "       27, 28, 29, 30, 31, 32, 33, 34, 35, 36, 37, 38, 39, 40, 41, 42, 43,\n",
              "       44, 45, 46, 47, 48, 49])"
            ]
          },
          "metadata": {},
          "execution_count": 10
        }
      ],
      "source": [
        "np.arange(10,50)"
      ]
    },
    {
      "cell_type": "markdown",
      "metadata": {
        "id": "gjiBF3wRdZVL"
      },
      "source": [
        "#### 8. Reverse a vector (first element becomes last) (★☆☆)"
      ]
    },
    {
      "cell_type": "code",
      "execution_count": 11,
      "metadata": {
        "colab": {
          "base_uri": "https://localhost:8080/"
        },
        "id": "rjRuYK_ndZVL",
        "outputId": "cc63f0a6-e8cc-4fe4-adf0-db6dffd97675"
      },
      "outputs": [
        {
          "output_type": "execute_result",
          "data": {
            "text/plain": [
              "array([9, 8, 7, 6, 5, 4, 3, 2, 1, 0])"
            ]
          },
          "metadata": {},
          "execution_count": 11
        }
      ],
      "source": [
        "np.arange(10)[::-1]"
      ]
    },
    {
      "cell_type": "markdown",
      "metadata": {
        "id": "ipzXhqvAdZVL"
      },
      "source": [
        "#### 9. Create a 3x3 matrix with values ranging from 0 to 8 (★☆☆)"
      ]
    },
    {
      "cell_type": "code",
      "execution_count": 12,
      "metadata": {
        "colab": {
          "base_uri": "https://localhost:8080/"
        },
        "id": "V6GkdqlcdZVL",
        "outputId": "0e22549d-1094-4411-825a-78a8df272219"
      },
      "outputs": [
        {
          "output_type": "execute_result",
          "data": {
            "text/plain": [
              "array([[0, 1, 2],\n",
              "       [3, 4, 5],\n",
              "       [6, 7, 8]])"
            ]
          },
          "metadata": {},
          "execution_count": 12
        }
      ],
      "source": [
        "np.arange(9).reshape(3,3)"
      ]
    },
    {
      "cell_type": "markdown",
      "metadata": {
        "id": "Y3yQiYZYdZVL"
      },
      "source": [
        "#### 10. Find indices of non-zero elements from [1,2,0,0,4,0] (★☆☆)"
      ]
    },
    {
      "cell_type": "code",
      "execution_count": 13,
      "metadata": {
        "colab": {
          "base_uri": "https://localhost:8080/"
        },
        "id": "bsATEaaXdZVL",
        "outputId": "7da28c6e-984d-4964-fa4f-8812d75dd328"
      },
      "outputs": [
        {
          "output_type": "execute_result",
          "data": {
            "text/plain": [
              "(array([0, 1, 4]),)"
            ]
          },
          "metadata": {},
          "execution_count": 13
        }
      ],
      "source": [
        "np.nonzero([1,2,0,0,4,0])"
      ]
    },
    {
      "cell_type": "markdown",
      "metadata": {
        "id": "l6v5ttL6dZVM"
      },
      "source": [
        "#### 11. Create a 3x3 identity matrix (★☆☆)"
      ]
    },
    {
      "cell_type": "code",
      "execution_count": 14,
      "metadata": {
        "colab": {
          "base_uri": "https://localhost:8080/"
        },
        "id": "oHWyrROwdZVM",
        "outputId": "2e3237dc-312f-41cd-911f-7a3cd7000db6"
      },
      "outputs": [
        {
          "output_type": "execute_result",
          "data": {
            "text/plain": [
              "array([[1., 0., 0.],\n",
              "       [0., 1., 0.],\n",
              "       [0., 0., 1.]])"
            ]
          },
          "metadata": {},
          "execution_count": 14
        }
      ],
      "source": [
        "np.identity(3)"
      ]
    },
    {
      "cell_type": "code",
      "source": [
        "np.eye(3)"
      ],
      "metadata": {
        "colab": {
          "base_uri": "https://localhost:8080/"
        },
        "id": "sMTXfo_6jeeg",
        "outputId": "ad8ef3b0-4137-4e80-c0e9-85a80d6e9ac7"
      },
      "execution_count": 15,
      "outputs": [
        {
          "output_type": "execute_result",
          "data": {
            "text/plain": [
              "array([[1., 0., 0.],\n",
              "       [0., 1., 0.],\n",
              "       [0., 0., 1.]])"
            ]
          },
          "metadata": {},
          "execution_count": 15
        }
      ]
    },
    {
      "cell_type": "markdown",
      "metadata": {
        "id": "aQRi64n5dZVM"
      },
      "source": [
        "#### 12. Create a 3x3x3 array with random values (★☆☆)"
      ]
    },
    {
      "cell_type": "code",
      "execution_count": 16,
      "metadata": {
        "colab": {
          "base_uri": "https://localhost:8080/"
        },
        "id": "FPNz3DRFdZVM",
        "outputId": "4f619924-e1ef-4c86-c850-88fb5c332796"
      },
      "outputs": [
        {
          "output_type": "execute_result",
          "data": {
            "text/plain": [
              "array([[[0.5054142 , 0.31687044, 0.68579782],\n",
              "        [0.87624651, 0.88903492, 0.30089322],\n",
              "        [0.92155952, 0.25819134, 0.76995721]],\n",
              "\n",
              "       [[0.95863468, 0.13014837, 0.32011026],\n",
              "        [0.4304173 , 0.08799047, 0.69527491],\n",
              "        [0.07563861, 0.14534116, 0.54264094]],\n",
              "\n",
              "       [[0.56768599, 0.72712851, 0.544374  ],\n",
              "        [0.51477417, 0.25070348, 0.54012639],\n",
              "        [0.73865875, 0.78851206, 0.63380653]]])"
            ]
          },
          "metadata": {},
          "execution_count": 16
        }
      ],
      "source": [
        "np.random.rand(3,3,3)"
      ]
    },
    {
      "cell_type": "markdown",
      "metadata": {
        "id": "lNAgNtSJdZVM"
      },
      "source": [
        "#### 13. Create a 10x10 array with random values and find the minimum and maximum values (★☆☆)"
      ]
    },
    {
      "cell_type": "code",
      "execution_count": 17,
      "metadata": {
        "colab": {
          "base_uri": "https://localhost:8080/"
        },
        "id": "0qWTAt0adZVM",
        "outputId": "526777ad-bd22-4b55-e000-8b3a87b928b1"
      },
      "outputs": [
        {
          "output_type": "execute_result",
          "data": {
            "text/plain": [
              "(10, 10)"
            ]
          },
          "metadata": {},
          "execution_count": 17
        }
      ],
      "source": [
        "rand_arr = np.random.rand(10,10)\n",
        "rand_arr.shape"
      ]
    },
    {
      "cell_type": "code",
      "source": [
        "np.max(rand_arr)"
      ],
      "metadata": {
        "colab": {
          "base_uri": "https://localhost:8080/"
        },
        "id": "cVrOGGWLkMGT",
        "outputId": "7fa44c96-42f1-4034-cd68-3a5e44194daa"
      },
      "execution_count": 18,
      "outputs": [
        {
          "output_type": "execute_result",
          "data": {
            "text/plain": [
              "0.9942822208439069"
            ]
          },
          "metadata": {},
          "execution_count": 18
        }
      ]
    },
    {
      "cell_type": "code",
      "source": [
        "np.min(rand_arr)"
      ],
      "metadata": {
        "colab": {
          "base_uri": "https://localhost:8080/"
        },
        "id": "D_1qXAS1kQkh",
        "outputId": "3232724c-c215-44f5-ae4c-82a15f45f212"
      },
      "execution_count": 19,
      "outputs": [
        {
          "output_type": "execute_result",
          "data": {
            "text/plain": [
              "0.01584786585528486"
            ]
          },
          "metadata": {},
          "execution_count": 19
        }
      ]
    },
    {
      "cell_type": "markdown",
      "metadata": {
        "id": "i3fyc0g2dZVM"
      },
      "source": [
        "#### 14. Create a random vector of size 30 and find the mean value (★☆☆)"
      ]
    },
    {
      "cell_type": "code",
      "execution_count": 20,
      "metadata": {
        "colab": {
          "base_uri": "https://localhost:8080/"
        },
        "id": "jx5s38MWdZVN",
        "outputId": "7b2be02b-2677-4961-ea71-b27a0ab6163e"
      },
      "outputs": [
        {
          "output_type": "execute_result",
          "data": {
            "text/plain": [
              "0.5354174477058032"
            ]
          },
          "metadata": {},
          "execution_count": 20
        }
      ],
      "source": [
        "np.mean(np.random.rand(30))"
      ]
    },
    {
      "cell_type": "markdown",
      "metadata": {
        "id": "lxPuZXIvdZVN"
      },
      "source": [
        "#### 15. Create a 2d array with 1 on the border and 0 inside (★☆☆)"
      ]
    },
    {
      "cell_type": "code",
      "execution_count": 21,
      "metadata": {
        "id": "dyTDrcSGdZVN",
        "colab": {
          "base_uri": "https://localhost:8080/"
        },
        "outputId": "67cdd0a9-55cf-4b8e-fe55-721f9cc2756a"
      },
      "outputs": [
        {
          "output_type": "execute_result",
          "data": {
            "text/plain": [
              "array([[1., 1., 1., 1.],\n",
              "       [1., 0., 0., 1.],\n",
              "       [1., 0., 0., 1.],\n",
              "       [1., 1., 1., 1.]])"
            ]
          },
          "metadata": {},
          "execution_count": 21
        }
      ],
      "source": [
        "arr = np.ones([4,4])\n",
        "arr[1:-1, 1:-1] = 0\n",
        "arr"
      ]
    },
    {
      "cell_type": "code",
      "source": [
        "arr2 = np.zeros([4,4])\n",
        "arr2[0, :], arr2[-1, :] = 1, 1\n",
        "arr2[:, 0], arr2[:, -1] = 1, 1\n",
        "arr2"
      ],
      "metadata": {
        "colab": {
          "base_uri": "https://localhost:8080/"
        },
        "id": "-J4lTYEeqYtZ",
        "outputId": "e97e2005-6b1f-4b7c-9dff-39292afa12c5"
      },
      "execution_count": 22,
      "outputs": [
        {
          "output_type": "execute_result",
          "data": {
            "text/plain": [
              "array([[1., 1., 1., 1.],\n",
              "       [1., 0., 0., 1.],\n",
              "       [1., 0., 0., 1.],\n",
              "       [1., 1., 1., 1.]])"
            ]
          },
          "metadata": {},
          "execution_count": 22
        }
      ]
    },
    {
      "cell_type": "markdown",
      "metadata": {
        "id": "oHlBAPezdZVN"
      },
      "source": [
        "#### 16. How to add a border (filled with 0's) around an existing array? (★☆☆)"
      ]
    },
    {
      "cell_type": "code",
      "source": [
        "arr = np.eye(2)\n",
        "arr2 = np.pad(arr, pad_width=1, mode='constant', constant_values=0)\n",
        "arr2"
      ],
      "metadata": {
        "colab": {
          "base_uri": "https://localhost:8080/"
        },
        "id": "lWnh0smZrAB1",
        "outputId": "ef92355a-5d0e-49cd-9592-cfd5ac56b43f"
      },
      "execution_count": 23,
      "outputs": [
        {
          "output_type": "execute_result",
          "data": {
            "text/plain": [
              "array([[0., 0., 0., 0.],\n",
              "       [0., 1., 0., 0.],\n",
              "       [0., 0., 1., 0.],\n",
              "       [0., 0., 0., 0.]])"
            ]
          },
          "metadata": {},
          "execution_count": 23
        }
      ]
    },
    {
      "cell_type": "markdown",
      "metadata": {
        "id": "IYBQdLO9dZVN"
      },
      "source": [
        "#### 17. What is the result of the following expression? (★☆☆)\n",
        "```python\n",
        "0 * np.nan\n",
        "np.nan == np.nan\n",
        "np.inf > np.nan\n",
        "np.nan - np.nan\n",
        "np.nan in set([np.nan])\n",
        "0.3 == 3 * 0.1\n",
        "```"
      ]
    },
    {
      "cell_type": "code",
      "execution_count": 24,
      "metadata": {
        "id": "R46bhFBRdZVN",
        "colab": {
          "base_uri": "https://localhost:8080/"
        },
        "outputId": "4dd459d7-1757-47c3-d7cc-ccd5d874cf08"
      },
      "outputs": [
        {
          "output_type": "execute_result",
          "data": {
            "text/plain": [
              "False"
            ]
          },
          "metadata": {},
          "execution_count": 24
        }
      ],
      "source": [
        "0 * np.nan                  # nan\n",
        "np.nan == np.nan            # False\n",
        "np.inf > np.nan             # False\n",
        "np.nan - np.nan             # nan\n",
        "np.nan in set([np.nan])     # True\n",
        "0.3 == 3 * 0.1              # False"
      ]
    },
    {
      "cell_type": "code",
      "source": [
        "print(0 * np.nan)\n",
        "print(np.nan == np.nan)\n",
        "print(np.inf > np.nan)\n",
        "print(np.nan - np.nan)\n",
        "print(np.nan in set([np.nan]))\n",
        "print(0.3 == 3 * 0.1)"
      ],
      "metadata": {
        "colab": {
          "base_uri": "https://localhost:8080/"
        },
        "id": "77fc08Iutoz5",
        "outputId": "a5fe126e-e45b-4e26-b735-493434e495e1"
      },
      "execution_count": 25,
      "outputs": [
        {
          "output_type": "stream",
          "name": "stdout",
          "text": [
            "nan\n",
            "False\n",
            "False\n",
            "nan\n",
            "True\n",
            "False\n"
          ]
        }
      ]
    },
    {
      "cell_type": "markdown",
      "metadata": {
        "id": "W0NZhBOQdZVN"
      },
      "source": [
        "#### 18. Create a 5x5 matrix with values 1,2,3,4 just below the diagonal (★☆☆)"
      ]
    },
    {
      "cell_type": "code",
      "execution_count": 26,
      "metadata": {
        "id": "DcrsHo5TdZVN",
        "colab": {
          "base_uri": "https://localhost:8080/"
        },
        "outputId": "31baeba9-d57c-44d7-b873-3e3ef58cc6de"
      },
      "outputs": [
        {
          "output_type": "execute_result",
          "data": {
            "text/plain": [
              "array([[0., 0., 0., 0., 0.],\n",
              "       [1., 0., 0., 0., 0.],\n",
              "       [0., 2., 0., 0., 0.],\n",
              "       [0., 0., 3., 0., 0.],\n",
              "       [0., 0., 0., 4., 0.]])"
            ]
          },
          "metadata": {},
          "execution_count": 26
        }
      ],
      "source": [
        "temp = np.eye(4) * np.array([1,2,3,4])\n",
        "res = np.zeros([5,5])\n",
        "res[1:,0:-1] = temp\n",
        "res"
      ]
    },
    {
      "cell_type": "markdown",
      "metadata": {
        "id": "bm0XNe24dZVN"
      },
      "source": [
        "#### 19. Create a 8x8 matrix and fill it with a checkerboard pattern (★☆☆)"
      ]
    },
    {
      "cell_type": "code",
      "source": [
        "a = np.full((8,8), 'O', dtype='str')\n",
        "a[::2, 1::2] = 'X'\n",
        "a[1::2, ::2] = 'X'\n",
        "print(a)"
      ],
      "metadata": {
        "colab": {
          "base_uri": "https://localhost:8080/"
        },
        "id": "83-69ks22L1p",
        "outputId": "2d4a3236-ea4a-49c3-9d8d-f31f2b22b858"
      },
      "execution_count": 27,
      "outputs": [
        {
          "output_type": "stream",
          "name": "stdout",
          "text": [
            "[['O' 'X' 'O' 'X' 'O' 'X' 'O' 'X']\n",
            " ['X' 'O' 'X' 'O' 'X' 'O' 'X' 'O']\n",
            " ['O' 'X' 'O' 'X' 'O' 'X' 'O' 'X']\n",
            " ['X' 'O' 'X' 'O' 'X' 'O' 'X' 'O']\n",
            " ['O' 'X' 'O' 'X' 'O' 'X' 'O' 'X']\n",
            " ['X' 'O' 'X' 'O' 'X' 'O' 'X' 'O']\n",
            " ['O' 'X' 'O' 'X' 'O' 'X' 'O' 'X']\n",
            " ['X' 'O' 'X' 'O' 'X' 'O' 'X' 'O']]\n"
          ]
        }
      ]
    },
    {
      "cell_type": "markdown",
      "metadata": {
        "id": "KgpLNee5dZVO"
      },
      "source": [
        "#### 20. Consider a (6,7,8) shape array, what is the index (x,y,z) of the 100th element?"
      ]
    },
    {
      "cell_type": "code",
      "execution_count": 28,
      "metadata": {
        "id": "vIqf28pKdZVO",
        "colab": {
          "base_uri": "https://localhost:8080/"
        },
        "outputId": "6754416f-dc46-4a11-f098-e615fa845cb0"
      },
      "outputs": [
        {
          "output_type": "execute_result",
          "data": {
            "text/plain": [
              "(1, 5, 3)"
            ]
          },
          "metadata": {},
          "execution_count": 28
        }
      ],
      "source": [
        "np.unravel_index(99, (6,7,8))"
      ]
    },
    {
      "cell_type": "markdown",
      "metadata": {
        "id": "fVseJ_sFdZVO"
      },
      "source": [
        "#### 21. Create a checkerboard 8x8 matrix using the tile function (★☆☆)"
      ]
    },
    {
      "cell_type": "code",
      "execution_count": 29,
      "metadata": {
        "id": "PTdLiJyPdZVO",
        "colab": {
          "base_uri": "https://localhost:8080/"
        },
        "outputId": "017d295b-243b-4832-cd40-6c73d4f25e2e"
      },
      "outputs": [
        {
          "output_type": "stream",
          "name": "stdout",
          "text": [
            "[['O' 'X' 'O' 'X' 'O' 'X' 'O' 'X']\n",
            " ['X' 'O' 'X' 'O' 'X' 'O' 'X' 'O']\n",
            " ['O' 'X' 'O' 'X' 'O' 'X' 'O' 'X']\n",
            " ['X' 'O' 'X' 'O' 'X' 'O' 'X' 'O']\n",
            " ['O' 'X' 'O' 'X' 'O' 'X' 'O' 'X']\n",
            " ['X' 'O' 'X' 'O' 'X' 'O' 'X' 'O']\n",
            " ['O' 'X' 'O' 'X' 'O' 'X' 'O' 'X']\n",
            " ['X' 'O' 'X' 'O' 'X' 'O' 'X' 'O']]\n"
          ]
        }
      ],
      "source": [
        "first = np.array(['O', 'X'])\n",
        "second = np.array(['X', 'O'])\n",
        "result =  np.tile([first,second], (4,4))\n",
        "print(result)\n"
      ]
    },
    {
      "cell_type": "markdown",
      "metadata": {
        "id": "cicAe_6OdZVO"
      },
      "source": [
        "#### 22. Normalize a 5x5 random matrix (★☆☆)"
      ]
    },
    {
      "cell_type": "code",
      "execution_count": 30,
      "metadata": {
        "id": "ByVFh5TPdZVP",
        "colab": {
          "base_uri": "https://localhost:8080/"
        },
        "outputId": "13e9abac-f650-4307-ab6d-be3357ac4e43"
      },
      "outputs": [
        {
          "output_type": "stream",
          "name": "stdout",
          "text": [
            "Array is:\n",
            "[[24. 26.  7. 34. 29.]\n",
            " [ 4. 53. 53. 23. 38.]\n",
            " [33. 23. 18. 48. 54.]\n",
            " [48. 14. 40.  6. 25.]\n",
            " [51.  4. 29. 18. 47.]]\n",
            "Sum of all elements is 749.0\n",
            "Variance of all elements is 1.04\n"
          ]
        }
      ],
      "source": [
        "np.random.seed(2023)\n",
        "arr = np.random.randint(1,56, size=(5,5)).astype('float64')\n",
        "print(f'Array is:\\n{arr}')\n",
        "print(f'Sum of all elements is {np.round(np.sum(arr), 4)}')\n",
        "print(f'Variance of all elements is {np.round(np.var(res), 4)}')"
      ]
    },
    {
      "cell_type": "code",
      "source": [
        "res = arr.copy()\n",
        "res -= np.mean(res) \n",
        "res /= np.std(res)\n",
        "print(f'Array is:\\n{res}')\n",
        "print(f'Sum of all elements is {np.round(np.sum(res), 4)}')\n",
        "print(f'Variance of all elements is {np.round(np.var(res), 4)}')\n"
      ],
      "metadata": {
        "colab": {
          "base_uri": "https://localhost:8080/"
        },
        "id": "uo-HknGlBYIf",
        "outputId": "0d0ada41-9440-4844-ae3d-898a18a8f7f2"
      },
      "execution_count": 31,
      "outputs": [
        {
          "output_type": "stream",
          "name": "stdout",
          "text": [
            "Array is:\n",
            "[[-0.37311381 -0.24790783 -1.43736461  0.25291607 -0.06009887]\n",
            " [-1.62517358  1.44237285  1.44237285 -0.4357168   0.50332803]\n",
            " [ 0.19031308 -0.4357168  -0.74873174  1.12935791  1.50497584]\n",
            " [ 1.12935791 -0.99914369  0.628534   -1.4999676  -0.31051082]\n",
            " [ 1.31716688 -1.62517358 -0.06009887 -0.74873174  1.06675492]]\n",
            "Sum of all elements is -0.0\n",
            "Variance of all elements is 1.0\n"
          ]
        }
      ]
    },
    {
      "cell_type": "markdown",
      "source": [
        "> ## As Sum of all elements is zero(0) and variance is (1.0), we conclude that the data is now normalized."
      ],
      "metadata": {
        "id": "ntgOH3rZEtlT"
      }
    },
    {
      "cell_type": "markdown",
      "metadata": {
        "id": "JPv7iqs2dZVP"
      },
      "source": [
        "#### 23. Create a custom dtype that describes a color as four unsigned bytes (RGBA) (★☆☆)"
      ]
    },
    {
      "cell_type": "code",
      "execution_count": 32,
      "metadata": {
        "id": "vU3vjo4fdZVP",
        "colab": {
          "base_uri": "https://localhost:8080/"
        },
        "outputId": "e92cd780-b9fe-4b9d-b868-997005ed584e"
      },
      "outputs": [
        {
          "output_type": "execute_result",
          "data": {
            "text/plain": [
              "dtype([('r', 'u1'), ('g', 'u1'), ('b', 'u1'), ('a', 'u1')])"
            ]
          },
          "metadata": {},
          "execution_count": 32
        }
      ],
      "source": [
        "color = np.dtype([(\"r\", np.ubyte),\n",
        "                  (\"g\", np.ubyte),\n",
        "                  (\"b\", np.ubyte),\n",
        "                  (\"a\", np.ubyte)])\n",
        "color"
      ]
    },
    {
      "cell_type": "markdown",
      "metadata": {
        "id": "h6-bx2vVdZVP"
      },
      "source": [
        "#### 24. Multiply a 5x3 matrix by a 3x2 matrix (real matrix product) (★☆☆)"
      ]
    },
    {
      "cell_type": "code",
      "execution_count": 33,
      "metadata": {
        "id": "sCkVCkn6dZVP",
        "colab": {
          "base_uri": "https://localhost:8080/"
        },
        "outputId": "df9e1e66-0b94-4f8b-9f32-cbe5e6a41724"
      },
      "outputs": [
        {
          "output_type": "execute_result",
          "data": {
            "text/plain": [
              "array([[4367, 3975],\n",
              "       [3582, 3875],\n",
              "       [4637, 4556],\n",
              "       [4697, 4657],\n",
              "       [4853, 4747]])"
            ]
          },
          "metadata": {},
          "execution_count": 33
        }
      ],
      "source": [
        "A = np.random.randint(1,56, size=(5, 3))\n",
        "B = np.random.randint(1,56, size=(3, 2))\n",
        "\n",
        "A @ B"
      ]
    },
    {
      "cell_type": "code",
      "source": [
        "np.dot(A, B)"
      ],
      "metadata": {
        "colab": {
          "base_uri": "https://localhost:8080/"
        },
        "id": "rksYZBQOGf3K",
        "outputId": "0fc29067-0bf7-436e-cc4d-8ec32072aab9"
      },
      "execution_count": 34,
      "outputs": [
        {
          "output_type": "execute_result",
          "data": {
            "text/plain": [
              "array([[4367, 3975],\n",
              "       [3582, 3875],\n",
              "       [4637, 4556],\n",
              "       [4697, 4657],\n",
              "       [4853, 4747]])"
            ]
          },
          "metadata": {},
          "execution_count": 34
        }
      ]
    },
    {
      "cell_type": "code",
      "source": [
        "np.matmul(A, B)"
      ],
      "metadata": {
        "colab": {
          "base_uri": "https://localhost:8080/"
        },
        "id": "PrDj7YCeGjOK",
        "outputId": "8fe495f1-e3bc-44fd-8a69-586d72ef278e"
      },
      "execution_count": 35,
      "outputs": [
        {
          "output_type": "execute_result",
          "data": {
            "text/plain": [
              "array([[4367, 3975],\n",
              "       [3582, 3875],\n",
              "       [4637, 4556],\n",
              "       [4697, 4657],\n",
              "       [4853, 4747]])"
            ]
          },
          "metadata": {},
          "execution_count": 35
        }
      ]
    },
    {
      "cell_type": "markdown",
      "metadata": {
        "id": "Dk-SXJjTdZVP"
      },
      "source": [
        "#### 25. Given a 1D array, negate all elements which are between 3 and 8, in place. (★☆☆)"
      ]
    },
    {
      "cell_type": "code",
      "execution_count": 36,
      "metadata": {
        "id": "eaH6z6ACdZVP",
        "colab": {
          "base_uri": "https://localhost:8080/"
        },
        "outputId": "6128a94d-13f9-4921-fe6e-7a47418a393c"
      },
      "outputs": [
        {
          "output_type": "stream",
          "name": "stdout",
          "text": [
            "Array: [8 7 8 2 4 5 5 7 6 1 7 2 6 8 6 9 3 4 2 1]\n",
            "Negated Array: [ 8 -7  8  2 -4 -5 -5 -7 -6  1 -7  2 -6  8 -6  9  3 -4  2  1]\n"
          ]
        }
      ],
      "source": [
        "np.random.seed(2023)\n",
        "\n",
        "arr = np.random.randint(1, 10, size=20)\n",
        "print(f'Array: {arr}')\n",
        "arr[(arr>3) & (arr<8)] *= -1\n",
        "print(f'Negated Array: {arr}')\n",
        "\n"
      ]
    },
    {
      "cell_type": "markdown",
      "metadata": {
        "id": "Y3EzwLpndZVP"
      },
      "source": [
        "#### 26. What is the output of the following script? (★☆☆)\n",
        "```python\n",
        "# Author: Jake VanderPlas\n",
        "\n",
        "print(sum(range(5),-1))\n",
        "from numpy import *\n",
        "print(sum(range(5),-1))\n",
        "```"
      ]
    },
    {
      "cell_type": "code",
      "execution_count": 37,
      "metadata": {
        "id": "6XILdfmodZVP",
        "colab": {
          "base_uri": "https://localhost:8080/"
        },
        "outputId": "bcd3e9c5-7f03-4a5c-d249-4ff5b52313a5"
      },
      "outputs": [
        {
          "output_type": "stream",
          "name": "stdout",
          "text": [
            "9\n",
            "10\n"
          ]
        }
      ],
      "source": [
        "print(sum(range(5),-1)) # 9\n",
        "from numpy import *\n",
        "print(sum(range(5),-1)) # 10\n"
      ]
    },
    {
      "cell_type": "markdown",
      "metadata": {
        "id": "_U2ClrX4dZVP"
      },
      "source": [
        "#### 27. Consider an integer vector Z, which of these expressions are legal? (★☆☆)\n",
        "```python\n",
        "Z**Z\n",
        "2 << Z >> 2\n",
        "Z <- Z\n",
        "1j*Z\n",
        "Z/1/1\n",
        "Z<Z>Z\n",
        "```"
      ]
    },
    {
      "cell_type": "code",
      "source": [
        "Z = np.arange(10) # Initialize Unit Vector\n",
        "Z"
      ],
      "metadata": {
        "colab": {
          "base_uri": "https://localhost:8080/"
        },
        "id": "BwGs_-1-JZrD",
        "outputId": "2bd7cfbc-b765-42c1-9e6f-589de3a0873c"
      },
      "execution_count": 38,
      "outputs": [
        {
          "output_type": "execute_result",
          "data": {
            "text/plain": [
              "array([0, 1, 2, 3, 4, 5, 6, 7, 8, 9])"
            ]
          },
          "metadata": {},
          "execution_count": 38
        }
      ]
    },
    {
      "cell_type": "code",
      "execution_count": 40,
      "metadata": {
        "id": "sXVyf6L-dZVP",
        "colab": {
          "base_uri": "https://localhost:8080/"
        },
        "outputId": "bd258760-3389-4a65-b292-a4bb99376013"
      },
      "outputs": [
        {
          "output_type": "stream",
          "name": "stdout",
          "text": [
            "Error found!\n"
          ]
        }
      ],
      "source": [
        "try:\n",
        "    Z**Z            # LEGAL : Element-wise exponentation i.e. 1**1 = 1, 2**2 = 2, 3**3 = 27. NOTE 0**0 = 1\n",
        "    2 << Z >> 2     # LEGAL : Bitwise operations are performed from left to right\n",
        "    Z <- Z          # LEGAL : Element wise negation is compared to orginal element. Boolean Array is returned\n",
        "    1j*Z            # LEGAL : Element wise multiplication with unit imaginary number '0. + 1. j'\n",
        "    Z/1/1           # LEGAL : Element wise division twice, executed left to right. dtype changes to float due to diviion operation\n",
        "    Z<Z>Z           # ILLEGAL (VALUE ERROR): The truth value of an array with more than one element is ambiguous\n",
        "except: \n",
        "    print('Error found!')"
      ]
    },
    {
      "cell_type": "markdown",
      "metadata": {
        "id": "djX25xRYdZVP"
      },
      "source": [
        "#### 28. What are the result of the following expressions?\n",
        "```python\n",
        "np.array(0) / np.array(0)\n",
        "np.array(0) // np.array(0)\n",
        "np.array([np.nan]).astype(int).astype(float)\n",
        "```"
      ]
    },
    {
      "cell_type": "code",
      "execution_count": 41,
      "metadata": {
        "id": "77jACZ-ZdZVP",
        "colab": {
          "base_uri": "https://localhost:8080/"
        },
        "outputId": "8d6e483b-85d4-40a3-d576-1ccd4c36b838"
      },
      "outputs": [
        {
          "output_type": "stream",
          "name": "stdout",
          "text": [
            "nan\n",
            "****************************************\n",
            "0\n",
            "****************************************\n",
            "[-9.22337204e+18]\n"
          ]
        },
        {
          "output_type": "stream",
          "name": "stderr",
          "text": [
            "<ipython-input-41-b9927aff92a4>:1: RuntimeWarning: invalid value encountered in true_divide\n",
            "  print(np.array(0) / np.array(0))\n",
            "<ipython-input-41-b9927aff92a4>:3: RuntimeWarning: divide by zero encountered in floor_divide\n",
            "  print(np.array(0) // np.array(0))\n"
          ]
        }
      ],
      "source": [
        "print(np.array(0) / np.array(0))\n",
        "print('****************************************')\n",
        "print(np.array(0) // np.array(0))\n",
        "print('****************************************')\n",
        "print(np.array([np.nan]).astype(int).astype(float))"
      ]
    },
    {
      "cell_type": "markdown",
      "metadata": {
        "id": "swqXxxr5dZVQ"
      },
      "source": [
        "#### 29. How to round away from zero a float array ? (★☆☆)\n",
        "\n",
        "\n",
        "\n"
      ]
    },
    {
      "cell_type": "code",
      "execution_count": 42,
      "metadata": {
        "id": "jF5APqTmdZVQ",
        "colab": {
          "base_uri": "https://localhost:8080/"
        },
        "outputId": "514043d8-b06e-49c5-a6c4-8f83e52f0733"
      },
      "outputs": [
        {
          "output_type": "execute_result",
          "data": {
            "text/plain": [
              "array([-2., -2., -1.,  1.,  2.,  2.,  2.])"
            ]
          },
          "metadata": {},
          "execution_count": 42
        }
      ],
      "source": [
        "arr = [-1.7, -1.5, -0.2, 0.2, 1.5, 1.7, 2.0]\n",
        "temp = np.ceil(np.abs(arr))\n",
        "res = np.copysign(temp, arr)\n",
        "res"
      ]
    },
    {
      "cell_type": "markdown",
      "metadata": {
        "id": "9lE0PTPFdZVQ"
      },
      "source": [
        "#### 30. How to find common values between two arrays? (★☆☆)"
      ]
    },
    {
      "cell_type": "code",
      "execution_count": 43,
      "metadata": {
        "id": "aejRBfnzdZVQ",
        "colab": {
          "base_uri": "https://localhost:8080/"
        },
        "outputId": "2864772a-0df2-4054-b3e5-fa956e69673b"
      },
      "outputs": [
        {
          "output_type": "execute_result",
          "data": {
            "text/plain": [
              "array([-2])"
            ]
          },
          "metadata": {},
          "execution_count": 43
        }
      ],
      "source": [
        "arr1 = np.random.randint(-10, 10, size=12)\n",
        "arr2 = np.random.randint(-10, 10, size=5)\n",
        "np.intersect1d(arr1, arr2)\n"
      ]
    },
    {
      "cell_type": "markdown",
      "metadata": {
        "id": "WPDUwxo7dZVQ"
      },
      "source": [
        "#### 31. How to ignore all numpy warnings (not recommended)? (★☆☆)"
      ]
    },
    {
      "cell_type": "code",
      "execution_count": 44,
      "metadata": {
        "id": "PYvTQ4VtdZVQ",
        "colab": {
          "base_uri": "https://localhost:8080/"
        },
        "outputId": "c281e95f-7f38-4d77-c7f7-345c4ebd83cc"
      },
      "outputs": [
        {
          "output_type": "execute_result",
          "data": {
            "text/plain": [
              "{'divide': 'warn', 'over': 'warn', 'under': 'ignore', 'invalid': 'warn'}"
            ]
          },
          "metadata": {},
          "execution_count": 44
        }
      ],
      "source": [
        "np.seterr(all=\"ignore\")"
      ]
    },
    {
      "cell_type": "code",
      "source": [
        "np.ones(1) / 0\n"
      ],
      "metadata": {
        "colab": {
          "base_uri": "https://localhost:8080/"
        },
        "id": "iCOEzECFa3OA",
        "outputId": "a51ebe00-f1b9-4424-8e25-14bfcfaf1fb4"
      },
      "execution_count": 45,
      "outputs": [
        {
          "output_type": "execute_result",
          "data": {
            "text/plain": [
              "array([inf])"
            ]
          },
          "metadata": {},
          "execution_count": 45
        }
      ]
    },
    {
      "cell_type": "code",
      "source": [
        "np.seterr(divide=\"warn\", over='warn', under='ignore', invalid='warn')"
      ],
      "metadata": {
        "colab": {
          "base_uri": "https://localhost:8080/"
        },
        "id": "s5g6ed7Nbl5_",
        "outputId": "7fffd9f3-f36d-4014-d74e-e7fb310d579c"
      },
      "execution_count": 46,
      "outputs": [
        {
          "output_type": "execute_result",
          "data": {
            "text/plain": [
              "{'divide': 'ignore', 'over': 'ignore', 'under': 'ignore', 'invalid': 'ignore'}"
            ]
          },
          "metadata": {},
          "execution_count": 46
        }
      ]
    },
    {
      "cell_type": "code",
      "source": [
        "np.ones(1) / 0"
      ],
      "metadata": {
        "colab": {
          "base_uri": "https://localhost:8080/"
        },
        "id": "L6DQu4-5boWN",
        "outputId": "b7975e7f-aed0-468a-ff64-4199ca7147d7"
      },
      "execution_count": 47,
      "outputs": [
        {
          "output_type": "stream",
          "name": "stderr",
          "text": [
            "<ipython-input-47-29114bad1145>:1: RuntimeWarning: divide by zero encountered in true_divide\n",
            "  np.ones(1) / 0\n"
          ]
        },
        {
          "output_type": "execute_result",
          "data": {
            "text/plain": [
              "array([inf])"
            ]
          },
          "metadata": {},
          "execution_count": 47
        }
      ]
    },
    {
      "cell_type": "code",
      "source": [
        "with np.errstate(all=\"warn\"):\n",
        "    np.ones(1) / 0"
      ],
      "metadata": {
        "colab": {
          "base_uri": "https://localhost:8080/"
        },
        "id": "S1nkcWX0bvGL",
        "outputId": "2ff42eeb-0b63-4031-dfa2-8a8138f1f944"
      },
      "execution_count": 52,
      "outputs": [
        {
          "output_type": "stream",
          "name": "stderr",
          "text": [
            "<ipython-input-52-42748a9956c2>:2: RuntimeWarning: divide by zero encountered in true_divide\n",
            "  np.ones(1) / 0\n"
          ]
        }
      ]
    },
    {
      "cell_type": "markdown",
      "metadata": {
        "id": "zb9KoAO4dZVQ"
      },
      "source": [
        "#### 32. Is the following expressions true? (★☆☆)\n",
        "```python\n",
        "np.sqrt(-1) == np.emath.sqrt(-1)\n",
        "```"
      ]
    },
    {
      "cell_type": "code",
      "source": [
        "np.sqrt(-1)"
      ],
      "metadata": {
        "colab": {
          "base_uri": "https://localhost:8080/"
        },
        "id": "D_xz4XELdAhG",
        "outputId": "b0dbe2ec-7d18-49b2-edcb-8f5789f07d07"
      },
      "execution_count": 54,
      "outputs": [
        {
          "output_type": "stream",
          "name": "stderr",
          "text": [
            "<ipython-input-54-597592b72a04>:1: RuntimeWarning: invalid value encountered in sqrt\n",
            "  np.sqrt(-1)\n"
          ]
        },
        {
          "output_type": "execute_result",
          "data": {
            "text/plain": [
              "nan"
            ]
          },
          "metadata": {},
          "execution_count": 54
        }
      ]
    },
    {
      "cell_type": "code",
      "source": [
        "np.emath.sqrt(-1)"
      ],
      "metadata": {
        "colab": {
          "base_uri": "https://localhost:8080/"
        },
        "id": "IED1QqY5dCb6",
        "outputId": "4f9221b2-d03c-4e96-edf0-703372c52c51"
      },
      "execution_count": 55,
      "outputs": [
        {
          "output_type": "execute_result",
          "data": {
            "text/plain": [
              "1j"
            ]
          },
          "metadata": {},
          "execution_count": 55
        }
      ]
    },
    {
      "cell_type": "code",
      "execution_count": 53,
      "metadata": {
        "id": "mdbqj0ridZVR",
        "colab": {
          "base_uri": "https://localhost:8080/"
        },
        "outputId": "91d5dfd5-f0e1-4dcf-94fd-a85273174404"
      },
      "outputs": [
        {
          "output_type": "stream",
          "name": "stderr",
          "text": [
            "<ipython-input-53-16339fbc685e>:1: RuntimeWarning: invalid value encountered in sqrt\n",
            "  np.sqrt(-1) == np.emath.sqrt(-1)\n"
          ]
        },
        {
          "output_type": "execute_result",
          "data": {
            "text/plain": [
              "False"
            ]
          },
          "metadata": {},
          "execution_count": 53
        }
      ],
      "source": [
        "np.sqrt(-1) == np.emath.sqrt(-1)"
      ]
    },
    {
      "cell_type": "markdown",
      "metadata": {
        "id": "BPTlBd6kdZVR"
      },
      "source": [
        "#### 33. How to get the dates of yesterday, today and tomorrow? (★☆☆)"
      ]
    },
    {
      "cell_type": "code",
      "execution_count": 57,
      "metadata": {
        "id": "qdOTFw9pdZVR",
        "colab": {
          "base_uri": "https://localhost:8080/"
        },
        "outputId": "7b6572e0-a656-4997-e6b5-c37acd6ad3fc"
      },
      "outputs": [
        {
          "output_type": "execute_result",
          "data": {
            "text/plain": [
              "numpy.datetime64('2023-01-22')"
            ]
          },
          "metadata": {},
          "execution_count": 57
        }
      ],
      "source": [
        "# Yesterday\n",
        "np.datetime64('today') - np.timedelta64(1)"
      ]
    },
    {
      "cell_type": "code",
      "source": [
        "# Today\n",
        "np.datetime64('today')"
      ],
      "metadata": {
        "colab": {
          "base_uri": "https://localhost:8080/"
        },
        "id": "yAMnxTZNd6ew",
        "outputId": "efffdcf1-2338-4c42-a1c5-40dbaa0ae9d7"
      },
      "execution_count": 58,
      "outputs": [
        {
          "output_type": "execute_result",
          "data": {
            "text/plain": [
              "numpy.datetime64('2023-01-23')"
            ]
          },
          "metadata": {},
          "execution_count": 58
        }
      ]
    },
    {
      "cell_type": "code",
      "source": [
        "# Tomorrow\n",
        "np.datetime64('today') + np.timedelta64(1)"
      ],
      "metadata": {
        "colab": {
          "base_uri": "https://localhost:8080/"
        },
        "id": "17G3GsR8d6_4",
        "outputId": "2f784ee7-65a6-4736-845a-437dd49b6553"
      },
      "execution_count": 59,
      "outputs": [
        {
          "output_type": "execute_result",
          "data": {
            "text/plain": [
              "numpy.datetime64('2023-01-24')"
            ]
          },
          "metadata": {},
          "execution_count": 59
        }
      ]
    },
    {
      "cell_type": "markdown",
      "metadata": {
        "id": "VrKGotyedZVR"
      },
      "source": [
        "#### 34. How to get all the dates corresponding to the month of July 2016? (★★☆)"
      ]
    },
    {
      "cell_type": "code",
      "execution_count": 62,
      "metadata": {
        "id": "fYzeSaoudZVR",
        "colab": {
          "base_uri": "https://localhost:8080/"
        },
        "outputId": "dbd25d60-516b-4599-e254-7363bc2bacb8"
      },
      "outputs": [
        {
          "output_type": "execute_result",
          "data": {
            "text/plain": [
              "array(['2016-07-01', '2016-07-02', '2016-07-03', '2016-07-04',\n",
              "       '2016-07-05', '2016-07-06', '2016-07-07', '2016-07-08',\n",
              "       '2016-07-09', '2016-07-10', '2016-07-11', '2016-07-12',\n",
              "       '2016-07-13', '2016-07-14', '2016-07-15', '2016-07-16',\n",
              "       '2016-07-17', '2016-07-18', '2016-07-19', '2016-07-20',\n",
              "       '2016-07-21', '2016-07-22', '2016-07-23', '2016-07-24',\n",
              "       '2016-07-25', '2016-07-26', '2016-07-27', '2016-07-28',\n",
              "       '2016-07-29', '2016-07-30', '2016-07-31'], dtype='datetime64[D]')"
            ]
          },
          "metadata": {},
          "execution_count": 62
        }
      ],
      "source": [
        "np.arange('2016-07', '2016-08', dtype='datetime64[D]')"
      ]
    },
    {
      "cell_type": "markdown",
      "metadata": {
        "id": "VIJmPTC9dZVR"
      },
      "source": [
        "#### 35. How to compute ((A+B)*(-A/2)) in place (without copy)? (★★☆)"
      ]
    },
    {
      "cell_type": "code",
      "execution_count": 96,
      "metadata": {
        "id": "s-Mu1oPAdZVR",
        "colab": {
          "base_uri": "https://localhost:8080/"
        },
        "outputId": "10447c3e-e81d-4e5b-92ce-0935d2e24974"
      },
      "outputs": [
        {
          "output_type": "execute_result",
          "data": {
            "text/plain": [
              "array([ -0.,  -4., -10., -18., -28.])"
            ]
          },
          "metadata": {},
          "execution_count": 96
        }
      ],
      "source": [
        "A = np.arange(5).astype('float')\n",
        "B = np.arange(6,11).astype('float')\n",
        "\n",
        "\n",
        "np.add(A,B, out=B)\n",
        "\n",
        "np.negative(A, out=A)\n",
        "\n",
        "np.divide(A, 2, out=A)\n",
        "\n",
        "np.multiply(A, B, out=A)"
      ]
    },
    {
      "cell_type": "markdown",
      "metadata": {
        "id": "0fogjSxTdZVR"
      },
      "source": [
        "#### 36. Extract the integer part of a random array of positive numbers using 4 different methods (★★☆)"
      ]
    },
    {
      "cell_type": "code",
      "execution_count": 104,
      "metadata": {
        "id": "Tn8aO9TpdZVR",
        "colab": {
          "base_uri": "https://localhost:8080/"
        },
        "outputId": "762f5e2d-40c8-4321-f325-3a8e3a4a0517"
      },
      "outputs": [
        {
          "output_type": "stream",
          "name": "stdout",
          "text": [
            "[6.55048528 4.85440602 7.2683691  4.21614128 2.14963404 1.64886024\n",
            " 6.49758442 9.84063368 0.27450767 1.69569041]\n",
            "[6 4 7 4 2 1 6 9 0 1]\n",
            "[6. 4. 7. 4. 2. 1. 6. 9. 0. 1.]\n",
            "[6. 4. 7. 4. 2. 1. 6. 9. 0. 1.]\n",
            "[6. 4. 7. 4. 2. 1. 6. 9. 0. 1.]\n",
            "[6. 4. 7. 4. 2. 1. 6. 9. 0. 1.]\n"
          ]
        }
      ],
      "source": [
        "arr = np.random.uniform(0,10,10)\n",
        "print(arr)\n",
        "print(arr.astype(np.int64))\n",
        "print(arr//1)\n",
        "print(arr-(arr%1))\n",
        "print(np.floor(arr))\n",
        "print(np.trunc(arr))"
      ]
    },
    {
      "cell_type": "markdown",
      "metadata": {
        "id": "JdAHEBG9dZVR"
      },
      "source": [
        "#### 37. Create a 5x5 matrix with row values ranging from 0 to 4 (★★☆)"
      ]
    },
    {
      "cell_type": "code",
      "source": [
        "np.zeros((5,5)) + np.arange(5)\n"
      ],
      "metadata": {
        "colab": {
          "base_uri": "https://localhost:8080/"
        },
        "id": "bPfZsAqWqL8i",
        "outputId": "530c6015-790a-4be9-926d-3d97913a6b03"
      },
      "execution_count": 112,
      "outputs": [
        {
          "output_type": "execute_result",
          "data": {
            "text/plain": [
              "array([[0., 1., 2., 3., 4.],\n",
              "       [0., 1., 2., 3., 4.],\n",
              "       [0., 1., 2., 3., 4.],\n",
              "       [0., 1., 2., 3., 4.],\n",
              "       [0., 1., 2., 3., 4.]])"
            ]
          },
          "metadata": {},
          "execution_count": 112
        }
      ]
    },
    {
      "cell_type": "code",
      "execution_count": 109,
      "metadata": {
        "id": "LI0PeZlUdZVR",
        "colab": {
          "base_uri": "https://localhost:8080/"
        },
        "outputId": "713c8248-2d44-4a60-90a6-e79847de6ae0"
      },
      "outputs": [
        {
          "output_type": "execute_result",
          "data": {
            "text/plain": [
              "array([[0, 1, 2, 3, 4],\n",
              "       [0, 1, 2, 3, 4],\n",
              "       [0, 1, 2, 3, 4],\n",
              "       [0, 1, 2, 3, 4],\n",
              "       [0, 1, 2, 3, 4]])"
            ]
          },
          "metadata": {},
          "execution_count": 109
        }
      ],
      "source": [
        "np.tile(np.arange(5), (5,1))"
      ]
    },
    {
      "cell_type": "code",
      "source": [
        "np.tile(np.arange(5).reshape(-1,1), 5) # Just for fun"
      ],
      "metadata": {
        "colab": {
          "base_uri": "https://localhost:8080/"
        },
        "id": "7Trzh8DMpfji",
        "outputId": "00532a4d-01b7-4b73-9a89-87f668c7b639"
      },
      "execution_count": 171,
      "outputs": [
        {
          "output_type": "execute_result",
          "data": {
            "text/plain": [
              "array([[0, 0, 0, 0, 0],\n",
              "       [1, 1, 1, 1, 1],\n",
              "       [2, 2, 2, 2, 2],\n",
              "       [3, 3, 3, 3, 3],\n",
              "       [4, 4, 4, 4, 4]])"
            ]
          },
          "metadata": {},
          "execution_count": 171
        }
      ]
    },
    {
      "cell_type": "markdown",
      "metadata": {
        "id": "IsPHd75PdZVR"
      },
      "source": [
        "#### 38. Consider a generator function that generates 10 integers and use it to build an array (★☆☆)"
      ]
    },
    {
      "cell_type": "code",
      "execution_count": 120,
      "metadata": {
        "id": "KILWB3sUdZVR",
        "colab": {
          "base_uri": "https://localhost:8080/"
        },
        "outputId": "cffec01b-666d-4add-e961-3a025be34e66"
      },
      "outputs": [
        {
          "output_type": "execute_result",
          "data": {
            "text/plain": [
              "array([0, 1, 2, 3, 4, 5])"
            ]
          },
          "metadata": {},
          "execution_count": 120
        }
      ],
      "source": [
        "def gen_10_int() :\n",
        "    for i in range(10) :\n",
        "        yield i\n",
        "\n",
        "np.fromiter(gen_10_int(), dtype=np.int64, count=6)"
      ]
    },
    {
      "cell_type": "markdown",
      "metadata": {
        "id": "GlRh5rjIdZVR"
      },
      "source": [
        "#### 39. Create a vector of size 10 with values ranging from 0 to 1, both excluded (★★☆)"
      ]
    },
    {
      "cell_type": "code",
      "execution_count": 125,
      "metadata": {
        "id": "F8rRXrd3dZVS",
        "colab": {
          "base_uri": "https://localhost:8080/"
        },
        "outputId": "1de05d4f-9108-42a1-de7e-6dc1bec650c3"
      },
      "outputs": [
        {
          "output_type": "execute_result",
          "data": {
            "text/plain": [
              "array([0.09090909, 0.18181818, 0.27272727, 0.36363636, 0.45454545,\n",
              "       0.54545455, 0.63636364, 0.72727273, 0.81818182, 0.90909091])"
            ]
          },
          "metadata": {},
          "execution_count": 125
        }
      ],
      "source": [
        "np.linspace(0, 1, 11, endpoint=False)[1:]"
      ]
    },
    {
      "cell_type": "markdown",
      "metadata": {
        "id": "GLaIPLoYdZVS"
      },
      "source": [
        "#### 40. Create a random vector of size 10 and sort it (★★☆)"
      ]
    },
    {
      "cell_type": "code",
      "execution_count": 131,
      "metadata": {
        "id": "aeShNWggdZVS",
        "colab": {
          "base_uri": "https://localhost:8080/"
        },
        "outputId": "c09a7b1b-b2e9-4407-ee91-1c319040c45d"
      },
      "outputs": [
        {
          "output_type": "execute_result",
          "data": {
            "text/plain": [
              "array([0.14163902, 0.19897144, 0.21808453, 0.23478103, 0.50199552,\n",
              "       0.5216621 , 0.57661277, 0.57783448, 0.69091533, 0.76836872])"
            ]
          },
          "metadata": {},
          "execution_count": 131
        }
      ],
      "source": [
        "np.sort(np.random.rand(10))"
      ]
    },
    {
      "cell_type": "markdown",
      "metadata": {
        "id": "8aVxuxVzdZVS"
      },
      "source": [
        "#### 41. How to sum a small array faster than np.sum? (★★☆)"
      ]
    },
    {
      "cell_type": "code",
      "source": [
        "import timeit\n",
        "print(timeit.timeit('output = 10*5'))"
      ],
      "metadata": {
        "colab": {
          "base_uri": "https://localhost:8080/"
        },
        "id": "M5xNI9YVvZhN",
        "outputId": "5d1a0361-75ad-4eaa-eb58-1a688a61c908"
      },
      "execution_count": 148,
      "outputs": [
        {
          "output_type": "stream",
          "name": "stdout",
          "text": [
            "0.02190009799960535\n"
          ]
        }
      ]
    },
    {
      "cell_type": "code",
      "execution_count": 166,
      "metadata": {
        "id": "w1x23wYmdZVS",
        "colab": {
          "base_uri": "https://localhost:8080/"
        },
        "outputId": "f5e09022-df94-433e-cf5a-2e759d57dc40"
      },
      "outputs": [
        {
          "output_type": "stream",
          "name": "stdout",
          "text": [
            "np.sum speed is: 0.00898373900054139\n",
            "np.add.reduce execution time is: 0.004441280001628911\n"
          ]
        }
      ],
      "source": [
        "import timeit\n",
        "\n",
        "One = '''\n",
        "def method_one():\n",
        "    arr = np.random.uniform(-100,100, 150)\n",
        "    return np.sum(arr)\n",
        "    '''\n",
        "\n",
        "Two = '''\n",
        "def method_two():\n",
        "    arr = np.random.uniform(-100,100, 150)\n",
        "    return np.add.reduce(arr)\n",
        "    '''\n",
        "\n",
        "exec_time_method_one = timeit.timeit(One, number=100000)\n",
        "\n",
        "exec_time_method_two = timeit.timeit(Two, number=100000)\n",
        "\n",
        "print('np.sum speed is:', exec_time_method_one)\n",
        "print('np.add.reduce execution time is:', exec_time_method_two)"
      ]
    },
    {
      "cell_type": "markdown",
      "source": [
        "![Screenshot 2023-01-22 215800.png](data:image/png;base64,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)"
      ],
      "metadata": {
        "id": "fQongHItxqi1"
      }
    },
    {
      "cell_type": "markdown",
      "source": [
        "> np.add.reduce is nearly twice as fast as per our findings.\n"
      ],
      "metadata": {
        "id": "i7Qj1fS0wlpD"
      }
    },
    {
      "cell_type": "code",
      "source": [
        "np.arange(5)[::1]"
      ],
      "metadata": {
        "colab": {
          "base_uri": "https://localhost:8080/"
        },
        "id": "EewsGGuEwkGJ",
        "outputId": "3a2a6635-ad46-4dd8-f0e0-ceb7e3cb795c"
      },
      "execution_count": 169,
      "outputs": [
        {
          "output_type": "execute_result",
          "data": {
            "text/plain": [
              "array([0, 1, 2, 3, 4])"
            ]
          },
          "metadata": {},
          "execution_count": 169
        }
      ]
    },
    {
      "cell_type": "markdown",
      "metadata": {
        "id": "LVkLRJMndZVS"
      },
      "source": [
        "#### 42. Consider two random array A and B, check if they are equal (★★☆)"
      ]
    },
    {
      "cell_type": "code",
      "execution_count": 173,
      "metadata": {
        "id": "Ib58q0zBdZVS"
      },
      "outputs": [],
      "source": [
        "A = np.random.uniform(10)\n",
        "B = np.random.uniform(10)"
      ]
    },
    {
      "cell_type": "code",
      "source": [
        "A == B"
      ],
      "metadata": {
        "colab": {
          "base_uri": "https://localhost:8080/"
        },
        "id": "B-RvRlTOzwUP",
        "outputId": "74137a14-5dc3-4aad-a4dd-a38072db922e"
      },
      "execution_count": 174,
      "outputs": [
        {
          "output_type": "execute_result",
          "data": {
            "text/plain": [
              "False"
            ]
          },
          "metadata": {},
          "execution_count": 174
        }
      ]
    },
    {
      "cell_type": "code",
      "source": [
        "A == A"
      ],
      "metadata": {
        "colab": {
          "base_uri": "https://localhost:8080/"
        },
        "id": "jxZoTQN9zzBr",
        "outputId": "67367298-ce78-4f2b-f60e-b5d747127c12"
      },
      "execution_count": 176,
      "outputs": [
        {
          "output_type": "execute_result",
          "data": {
            "text/plain": [
              "True"
            ]
          },
          "metadata": {},
          "execution_count": 176
        }
      ]
    },
    {
      "cell_type": "code",
      "source": [
        "B == B"
      ],
      "metadata": {
        "colab": {
          "base_uri": "https://localhost:8080/"
        },
        "id": "pTf56spnz1Wk",
        "outputId": "8a5dec0d-4ffa-4eac-fc11-78524f387bd5"
      },
      "execution_count": 177,
      "outputs": [
        {
          "output_type": "execute_result",
          "data": {
            "text/plain": [
              "True"
            ]
          },
          "metadata": {},
          "execution_count": 177
        }
      ]
    },
    {
      "cell_type": "markdown",
      "metadata": {
        "id": "8J2H-jw-dZVS"
      },
      "source": [
        "#### 43. Make an array immutable (read-only) (★★☆)"
      ]
    },
    {
      "cell_type": "code",
      "execution_count": 181,
      "metadata": {
        "id": "QYaeJaVVdZVS",
        "colab": {
          "base_uri": "https://localhost:8080/"
        },
        "outputId": "c85d74ea-1121-4f3d-d854-a36a76569d22"
      },
      "outputs": [
        {
          "output_type": "stream",
          "name": "stdout",
          "text": [
            "Success!\n"
          ]
        }
      ],
      "source": [
        "arr = np.ones(10)\n",
        "arr.flags.writeable = False\n",
        "try: \n",
        "    arr[0] = 1\n",
        "except ValueError:\n",
        "    print('Success!')\n",
        "else:\n",
        "    print('Fail.')"
      ]
    },
    {
      "cell_type": "markdown",
      "metadata": {
        "id": "_7TvzaGbdZVS"
      },
      "source": [
        "#### 44. Consider a random 10x2 matrix representing cartesian coordinates, convert them to polar coordinates (★★☆)"
      ]
    },
    {
      "cell_type": "code",
      "execution_count": 211,
      "metadata": {
        "id": "bsNfuw6ndZVT",
        "colab": {
          "base_uri": "https://localhost:8080/"
        },
        "outputId": "9d8c222b-29bd-40d0-e25a-6ca68dad652a"
      },
      "outputs": [
        {
          "output_type": "execute_result",
          "data": {
            "text/plain": [
              "array([[10.29563014,  1.06369782],\n",
              "       [11.40175425,  0.66104317],\n",
              "       [ 8.60232527,  0.62024949],\n",
              "       [ 8.54400375,  1.21202566],\n",
              "       [ 7.61577311,  0.40489179],\n",
              "       [11.3137085 ,  0.78539816],\n",
              "       [ 3.60555128,  0.98279372],\n",
              "       [ 2.23606798,  1.10714872],\n",
              "       [ 9.21954446,  1.35212738],\n",
              "       [ 6.32455532,  0.32175055]])"
            ]
          },
          "metadata": {},
          "execution_count": 211
        }
      ],
      "source": [
        "cartesian = np.random.randint(1, 10, size=(10,2))\n",
        "x = cartesian[:, 0]\n",
        "y = cartesian[:, 1]\n",
        "\n",
        "r = np.sqrt(x**2 + y**2)\n",
        "t = np.arctan2(y, x)\n",
        "\n",
        "np.vstack((r,t)).T"
      ]
    },
    {
      "cell_type": "markdown",
      "metadata": {
        "id": "yiJdM9nKdZVT"
      },
      "source": [
        "#### 45. Create random vector of size 10 and replace the maximum value by 0 (★★☆)"
      ]
    },
    {
      "cell_type": "code",
      "execution_count": 215,
      "metadata": {
        "id": "vx6_wbZXdZVT",
        "colab": {
          "base_uri": "https://localhost:8080/"
        },
        "outputId": "64b3f061-d5ac-42ee-bc53-9554bedec7f2"
      },
      "outputs": [
        {
          "output_type": "stream",
          "name": "stdout",
          "text": [
            "[0.68628344 0.51790561 0.61955303 0.33107259 0.22609061 0.12227067\n",
            " 0.78083656 0.8708515  0.56108491 0.07369003]\n",
            "[0.68628344 0.51790561 0.61955303 0.33107259 0.22609061 0.12227067\n",
            " 0.78083656 0.         0.56108491 0.07369003]\n"
          ]
        }
      ],
      "source": [
        "arr = np.random.rand(10)\n",
        "print(arr)\n",
        "arr[arr.argmax()] = 0\n",
        "print(arr)"
      ]
    },
    {
      "cell_type": "markdown",
      "metadata": {
        "id": "6M_-EQKQdZVT"
      },
      "source": [
        "#### 46. Create a structured array with `x` and `y` coordinates covering the [0,1]x[0,1] area (★★☆)"
      ]
    },
    {
      "cell_type": "code",
      "execution_count": null,
      "metadata": {
        "id": "srEzcyJJdZVT"
      },
      "outputs": [],
      "source": []
    },
    {
      "cell_type": "markdown",
      "metadata": {
        "id": "-_2IdBQndZVT"
      },
      "source": [
        "#### 47. Given two arrays, X and Y, construct the Cauchy matrix C (Cij =1/(xi - yj))"
      ]
    },
    {
      "cell_type": "code",
      "execution_count": null,
      "metadata": {
        "id": "hId7ZOcZdZVT"
      },
      "outputs": [],
      "source": []
    },
    {
      "cell_type": "markdown",
      "metadata": {
        "id": "Ycc0GiV6dZVT"
      },
      "source": [
        "#### 48. Print the minimum and maximum representable value for each numpy scalar type (★★☆)"
      ]
    },
    {
      "cell_type": "code",
      "execution_count": null,
      "metadata": {
        "id": "MGDFiyCldZVT"
      },
      "outputs": [],
      "source": []
    },
    {
      "cell_type": "markdown",
      "metadata": {
        "id": "Y5lMqQdcdZVT"
      },
      "source": [
        "#### 49. How to print all the values of an array? (★★☆)"
      ]
    },
    {
      "cell_type": "code",
      "execution_count": null,
      "metadata": {
        "id": "GZW5TLYMdZVT"
      },
      "outputs": [],
      "source": []
    },
    {
      "cell_type": "markdown",
      "metadata": {
        "id": "874ehZ6LdZVT"
      },
      "source": [
        "#### 50. How to find the closest value (to a given scalar) in a vector? (★★☆)"
      ]
    },
    {
      "cell_type": "code",
      "execution_count": null,
      "metadata": {
        "id": "wmWhAUuIdZVT"
      },
      "outputs": [],
      "source": []
    },
    {
      "cell_type": "markdown",
      "metadata": {
        "id": "Qff6Jj-gdZVU"
      },
      "source": [
        "#### 51. Create a structured array representing a position (x,y) and a color (r,g,b) (★★☆)"
      ]
    },
    {
      "cell_type": "code",
      "execution_count": null,
      "metadata": {
        "id": "dXZf8JePdZVU"
      },
      "outputs": [],
      "source": []
    },
    {
      "cell_type": "markdown",
      "metadata": {
        "id": "ERV0q_0odZVU"
      },
      "source": [
        "#### 52. Consider a random vector with shape (100,2) representing coordinates, find point by point distances (★★☆)"
      ]
    },
    {
      "cell_type": "code",
      "execution_count": null,
      "metadata": {
        "id": "SkAyRVCQdZVU"
      },
      "outputs": [],
      "source": []
    },
    {
      "cell_type": "markdown",
      "metadata": {
        "id": "ccoTlzdfdZVU"
      },
      "source": [
        "#### 53. How to convert a float (32 bits) array into an integer (32 bits) in place?"
      ]
    },
    {
      "cell_type": "code",
      "execution_count": null,
      "metadata": {
        "id": "XZVkBxxrdZVU"
      },
      "outputs": [],
      "source": []
    },
    {
      "cell_type": "markdown",
      "metadata": {
        "id": "2NE7mfSLdZVU"
      },
      "source": [
        "#### 54. How to read the following file? (★★☆)\n",
        "```\n",
        "1, 2, 3, 4, 5\n",
        "6,  ,  , 7, 8\n",
        " ,  , 9,10,11\n",
        "```"
      ]
    },
    {
      "cell_type": "code",
      "execution_count": null,
      "metadata": {
        "id": "GNygrMHVdZVU"
      },
      "outputs": [],
      "source": []
    },
    {
      "cell_type": "markdown",
      "metadata": {
        "id": "CRJxqltrdZVU"
      },
      "source": [
        "#### 55. What is the equivalent of enumerate for numpy arrays? (★★☆)"
      ]
    },
    {
      "cell_type": "code",
      "execution_count": null,
      "metadata": {
        "id": "XlAEWNVldZVU"
      },
      "outputs": [],
      "source": []
    },
    {
      "cell_type": "markdown",
      "metadata": {
        "id": "iDUpcGx_dZVU"
      },
      "source": [
        "#### 56. Generate a generic 2D Gaussian-like array (★★☆)"
      ]
    },
    {
      "cell_type": "code",
      "execution_count": null,
      "metadata": {
        "id": "DZiS_y7-dZVU"
      },
      "outputs": [],
      "source": []
    },
    {
      "cell_type": "markdown",
      "metadata": {
        "id": "iDwz8b-1dZVU"
      },
      "source": [
        "#### 57. How to randomly place p elements in a 2D array? (★★☆)"
      ]
    },
    {
      "cell_type": "code",
      "execution_count": null,
      "metadata": {
        "id": "WKkXwrbLdZVV"
      },
      "outputs": [],
      "source": []
    },
    {
      "cell_type": "markdown",
      "metadata": {
        "id": "aFAnDyFndZVV"
      },
      "source": [
        "#### 58. Subtract the mean of each row of a matrix (★★☆)"
      ]
    },
    {
      "cell_type": "code",
      "execution_count": null,
      "metadata": {
        "id": "UmwFLdsfdZVV"
      },
      "outputs": [],
      "source": []
    },
    {
      "cell_type": "markdown",
      "metadata": {
        "id": "tBSFz9KLdZVV"
      },
      "source": [
        "#### 59. How to sort an array by the nth column? (★★☆)"
      ]
    },
    {
      "cell_type": "code",
      "execution_count": null,
      "metadata": {
        "id": "pspYNDDydZVV"
      },
      "outputs": [],
      "source": []
    },
    {
      "cell_type": "markdown",
      "metadata": {
        "id": "7QvGNFjpdZVV"
      },
      "source": [
        "#### 60. How to tell if a given 2D array has null columns? (★★☆)"
      ]
    },
    {
      "cell_type": "code",
      "execution_count": null,
      "metadata": {
        "id": "d7HcWwaydZVV"
      },
      "outputs": [],
      "source": []
    },
    {
      "cell_type": "markdown",
      "metadata": {
        "id": "i_fvQYs6dZVV"
      },
      "source": [
        "#### 61. Find the nearest value from a given value in an array (★★☆)"
      ]
    },
    {
      "cell_type": "code",
      "execution_count": null,
      "metadata": {
        "id": "UjnyHa0IdZVZ"
      },
      "outputs": [],
      "source": []
    },
    {
      "cell_type": "markdown",
      "metadata": {
        "id": "v0w8UZejdZVZ"
      },
      "source": [
        "#### 62. Considering two arrays with shape (1,3) and (3,1), how to compute their sum using an iterator? (★★☆)"
      ]
    },
    {
      "cell_type": "code",
      "execution_count": null,
      "metadata": {
        "id": "8ztglrApdZVZ"
      },
      "outputs": [],
      "source": []
    },
    {
      "cell_type": "markdown",
      "metadata": {
        "id": "O4lOUP_4dZVZ"
      },
      "source": [
        "#### 63. Create an array class that has a name attribute (★★☆)"
      ]
    },
    {
      "cell_type": "code",
      "execution_count": null,
      "metadata": {
        "id": "fLjUaa_AdZVZ"
      },
      "outputs": [],
      "source": []
    },
    {
      "cell_type": "markdown",
      "metadata": {
        "id": "M6gIIJtgdZVZ"
      },
      "source": [
        "#### 64. Consider a given vector, how to add 1 to each element indexed by a second vector (be careful with repeated indices)? (★★★)"
      ]
    },
    {
      "cell_type": "code",
      "execution_count": null,
      "metadata": {
        "id": "L5-AuJIndZVa"
      },
      "outputs": [],
      "source": []
    },
    {
      "cell_type": "markdown",
      "metadata": {
        "id": "P6tlmcC6dZVa"
      },
      "source": [
        "#### 65. How to accumulate elements of a vector (X) to an array (F) based on an index list (I)? (★★★)"
      ]
    },
    {
      "cell_type": "code",
      "execution_count": null,
      "metadata": {
        "id": "35jhVsFPdZVa"
      },
      "outputs": [],
      "source": []
    },
    {
      "cell_type": "markdown",
      "metadata": {
        "id": "tYNgB-EwdZVa"
      },
      "source": [
        "#### 66. Considering a (w,h,3) image of (dtype=ubyte), compute the number of unique colors (★★★)"
      ]
    },
    {
      "cell_type": "code",
      "execution_count": null,
      "metadata": {
        "id": "rLdxETkodZVa"
      },
      "outputs": [],
      "source": []
    },
    {
      "cell_type": "markdown",
      "metadata": {
        "id": "zuIZNBvwdZVa"
      },
      "source": [
        "#### 67. Considering a four dimensions array, how to get sum over the last two axis at once? (★★★)"
      ]
    },
    {
      "cell_type": "code",
      "execution_count": null,
      "metadata": {
        "id": "vMDdGvOedZVa"
      },
      "outputs": [],
      "source": []
    },
    {
      "cell_type": "markdown",
      "metadata": {
        "id": "Ulql9EERdZVa"
      },
      "source": [
        "#### 68. Considering a one-dimensional vector D, how to compute means of subsets of D using a vector S of same size describing subset  indices? (★★★)"
      ]
    },
    {
      "cell_type": "code",
      "execution_count": null,
      "metadata": {
        "id": "26AqUyl1dZVa"
      },
      "outputs": [],
      "source": []
    },
    {
      "cell_type": "markdown",
      "metadata": {
        "id": "WCo772tKdZVa"
      },
      "source": [
        "#### 69. How to get the diagonal of a dot product? (★★★)"
      ]
    },
    {
      "cell_type": "code",
      "execution_count": null,
      "metadata": {
        "id": "qSW83ouGdZVb"
      },
      "outputs": [],
      "source": []
    },
    {
      "cell_type": "markdown",
      "metadata": {
        "id": "SO62E1JhdZVb"
      },
      "source": [
        "#### 70. Consider the vector [1, 2, 3, 4, 5], how to build a new vector with 3 consecutive zeros interleaved between each value? (★★★)"
      ]
    },
    {
      "cell_type": "code",
      "execution_count": null,
      "metadata": {
        "id": "ZVMR1xoBdZVb"
      },
      "outputs": [],
      "source": []
    },
    {
      "cell_type": "code",
      "execution_count": null,
      "metadata": {
        "id": "EgorTrZSdZVb"
      },
      "outputs": [],
      "source": []
    },
    {
      "cell_type": "markdown",
      "metadata": {
        "id": "3Vbt-wDOdZVb"
      },
      "source": [
        "#### 71. Consider an array of dimension (5,5,3), how to mulitply it by an array with dimensions (5,5)? (★★★)"
      ]
    },
    {
      "cell_type": "code",
      "execution_count": null,
      "metadata": {
        "id": "xcsAYZj3dZVc"
      },
      "outputs": [],
      "source": []
    },
    {
      "cell_type": "markdown",
      "metadata": {
        "id": "ElwUvO0HdZVc"
      },
      "source": [
        "#### 72. How to swap two rows of an array? (★★★)"
      ]
    },
    {
      "cell_type": "code",
      "execution_count": null,
      "metadata": {
        "id": "I_rarq-ZdZVc"
      },
      "outputs": [],
      "source": []
    },
    {
      "cell_type": "markdown",
      "metadata": {
        "id": "S_88Q3u2dZVc"
      },
      "source": [
        "#### 73. Consider a set of 10 triplets describing 10 triangles (with shared vertices), find the set of unique line segments composing all the  triangles (★★★)"
      ]
    },
    {
      "cell_type": "code",
      "execution_count": null,
      "metadata": {
        "id": "oxLlmPk2dZVc"
      },
      "outputs": [],
      "source": []
    },
    {
      "cell_type": "markdown",
      "metadata": {
        "id": "ErFxMZtNdZVc"
      },
      "source": [
        "#### 74. Given an array C that is a bincount, how to produce an array A such that np.bincount(A) == C? (★★★)"
      ]
    },
    {
      "cell_type": "code",
      "execution_count": null,
      "metadata": {
        "id": "uxKYHfoQdZVc"
      },
      "outputs": [],
      "source": []
    },
    {
      "cell_type": "markdown",
      "metadata": {
        "id": "51QwWhuedZVc"
      },
      "source": [
        "#### 75. How to compute averages using a sliding window over an array? (★★★)"
      ]
    },
    {
      "cell_type": "code",
      "execution_count": null,
      "metadata": {
        "id": "-OFH55-IdZVc"
      },
      "outputs": [],
      "source": []
    },
    {
      "cell_type": "markdown",
      "metadata": {
        "id": "v7LOHXFodZVc"
      },
      "source": [
        "#### 76. Consider a one-dimensional array Z, build a two-dimensional array whose first row is (Z[0],Z[1],Z[2]) and each subsequent row is  shifted by 1 (last row should be (Z[-3],Z[-2],Z[-1]) (★★★)"
      ]
    },
    {
      "cell_type": "code",
      "execution_count": null,
      "metadata": {
        "id": "nxhA8ZrEdZVc"
      },
      "outputs": [],
      "source": []
    },
    {
      "cell_type": "markdown",
      "metadata": {
        "id": "BmvGvTubdZVc"
      },
      "source": [
        "#### 77. How to negate a boolean, or to change the sign of a float inplace? (★★★)"
      ]
    },
    {
      "cell_type": "code",
      "execution_count": null,
      "metadata": {
        "id": "RTfeHNPXdZVc"
      },
      "outputs": [],
      "source": []
    },
    {
      "cell_type": "markdown",
      "metadata": {
        "id": "JxMAMzTDdZVc"
      },
      "source": [
        "#### 78. Consider 2 sets of points P0,P1 describing lines (2d) and a point p, how to compute distance from p to each line i (P0[i],P1[i])? (★★★)"
      ]
    },
    {
      "cell_type": "code",
      "execution_count": null,
      "metadata": {
        "id": "arFu6nAzdZVd"
      },
      "outputs": [],
      "source": []
    },
    {
      "cell_type": "markdown",
      "metadata": {
        "id": "iwovzR7HdZVd"
      },
      "source": [
        "#### 79. Consider 2 sets of points P0,P1 describing lines (2d) and a set of points P, how to compute distance from each point j (P[j]) to each line i (P0[i],P1[i])? (★★★)"
      ]
    },
    {
      "cell_type": "code",
      "execution_count": null,
      "metadata": {
        "id": "CGFxbG7GdZVd"
      },
      "outputs": [],
      "source": []
    },
    {
      "cell_type": "markdown",
      "metadata": {
        "id": "kiH1qx8FdZVd"
      },
      "source": [
        "#### 80. Consider an arbitrary array, write a function that extract a subpart with a fixed shape and centered on a given element (pad with a `fill` value when necessary) (★★★)"
      ]
    },
    {
      "cell_type": "code",
      "execution_count": null,
      "metadata": {
        "id": "rXJ3vQhjdZVd"
      },
      "outputs": [],
      "source": []
    },
    {
      "cell_type": "markdown",
      "metadata": {
        "id": "xinpczeYdZVd"
      },
      "source": [
        "#### 81. Consider an array Z = [1,2,3,4,5,6,7,8,9,10,11,12,13,14], how to generate an array R = [[1,2,3,4], [2,3,4,5], [3,4,5,6], ..., [11,12,13,14]]? (★★★)"
      ]
    },
    {
      "cell_type": "code",
      "execution_count": null,
      "metadata": {
        "id": "Sxf_UaUNdZVd"
      },
      "outputs": [],
      "source": []
    },
    {
      "cell_type": "markdown",
      "metadata": {
        "id": "aZ-0iGXodZVd"
      },
      "source": [
        "#### 82. Compute a matrix rank (★★★)"
      ]
    },
    {
      "cell_type": "code",
      "execution_count": null,
      "metadata": {
        "id": "oIsV08vqdZVe"
      },
      "outputs": [],
      "source": []
    },
    {
      "cell_type": "markdown",
      "metadata": {
        "id": "AXotMym8dZVe"
      },
      "source": [
        "#### 83. How to find the most frequent value in an array?"
      ]
    },
    {
      "cell_type": "code",
      "execution_count": null,
      "metadata": {
        "id": "QNRcBy36dZVe"
      },
      "outputs": [],
      "source": []
    },
    {
      "cell_type": "markdown",
      "metadata": {
        "id": "uJMuDb_xdZVe"
      },
      "source": [
        "#### 84. Extract all the contiguous 3x3 blocks from a random 10x10 matrix (★★★)"
      ]
    },
    {
      "cell_type": "code",
      "execution_count": null,
      "metadata": {
        "id": "3rF_Kf-jdZVe"
      },
      "outputs": [],
      "source": []
    },
    {
      "cell_type": "markdown",
      "metadata": {
        "id": "xsC475c1dZVe"
      },
      "source": [
        "#### 85. Create a 2D array subclass such that Z[i,j] == Z[j,i] (★★★)"
      ]
    },
    {
      "cell_type": "code",
      "execution_count": null,
      "metadata": {
        "id": "q_jDUzs1dZVe"
      },
      "outputs": [],
      "source": []
    },
    {
      "cell_type": "markdown",
      "metadata": {
        "id": "zb1hA9OLdZVe"
      },
      "source": [
        "#### 86. Consider a set of p matrices wich shape (n,n) and a set of p vectors with shape (n,1). How to compute the sum of of the p matrix products at once? (result has shape (n,1)) (★★★)"
      ]
    },
    {
      "cell_type": "code",
      "execution_count": null,
      "metadata": {
        "id": "mdcAJNTndZVe"
      },
      "outputs": [],
      "source": []
    },
    {
      "cell_type": "markdown",
      "metadata": {
        "id": "EA_TgK3kdZVe"
      },
      "source": [
        "#### 87. Consider a 16x16 array, how to get the block-sum (block size is 4x4)? (★★★)"
      ]
    },
    {
      "cell_type": "code",
      "execution_count": null,
      "metadata": {
        "id": "HVzm0qQ8dZVe"
      },
      "outputs": [],
      "source": []
    },
    {
      "cell_type": "markdown",
      "metadata": {
        "id": "-0Wj2--XdZVe"
      },
      "source": [
        "#### 88. How to implement the Game of Life using numpy arrays? (★★★)"
      ]
    },
    {
      "cell_type": "code",
      "execution_count": null,
      "metadata": {
        "id": "-9z9BAhedZVe"
      },
      "outputs": [],
      "source": []
    },
    {
      "cell_type": "markdown",
      "metadata": {
        "id": "yw5DxmMfdZVe"
      },
      "source": [
        "#### 89. How to get the n largest values of an array (★★★)"
      ]
    },
    {
      "cell_type": "code",
      "execution_count": null,
      "metadata": {
        "id": "K5J1tqNhdZVe"
      },
      "outputs": [],
      "source": []
    },
    {
      "cell_type": "markdown",
      "metadata": {
        "id": "tpLHF8yddZVf"
      },
      "source": [
        "#### 90. Given an arbitrary number of vectors, build the cartesian product (every combinations of every item) (★★★)"
      ]
    },
    {
      "cell_type": "code",
      "execution_count": null,
      "metadata": {
        "id": "p4h7zYfJdZVf"
      },
      "outputs": [],
      "source": []
    },
    {
      "cell_type": "markdown",
      "metadata": {
        "id": "Y5FtoQ-HdZVf"
      },
      "source": [
        "#### 91. How to create a record array from a regular array? (★★★)"
      ]
    },
    {
      "cell_type": "code",
      "execution_count": null,
      "metadata": {
        "id": "4WP03NUAdZVf"
      },
      "outputs": [],
      "source": []
    },
    {
      "cell_type": "markdown",
      "metadata": {
        "id": "KIhnVuO0dZVf"
      },
      "source": [
        "#### 92. Consider a large vector Z, compute Z to the power of 3 using 3 different methods (★★★)"
      ]
    },
    {
      "cell_type": "code",
      "execution_count": null,
      "metadata": {
        "id": "R2BVOIzydZVf"
      },
      "outputs": [],
      "source": []
    },
    {
      "cell_type": "markdown",
      "metadata": {
        "id": "gsWav0QtdZVg"
      },
      "source": [
        "#### 93. Consider two arrays A and B of shape (8,3) and (2,2). How to find rows of A that contain elements of each row of B regardless of the order of the elements in B? (★★★)"
      ]
    },
    {
      "cell_type": "code",
      "execution_count": null,
      "metadata": {
        "id": "inazKrHtdZVg"
      },
      "outputs": [],
      "source": []
    },
    {
      "cell_type": "markdown",
      "metadata": {
        "id": "U8wbzWIIdZVg"
      },
      "source": [
        "#### 94. Considering a 10x3 matrix, extract rows with unequal values (e.g. [2,2,3]) (★★★)"
      ]
    },
    {
      "cell_type": "code",
      "execution_count": null,
      "metadata": {
        "id": "I9ZiuPyndZVg"
      },
      "outputs": [],
      "source": []
    },
    {
      "cell_type": "markdown",
      "metadata": {
        "id": "AFlWkvnidZVg"
      },
      "source": [
        "#### 95. Convert a vector of ints into a matrix binary representation (★★★)"
      ]
    },
    {
      "cell_type": "code",
      "execution_count": null,
      "metadata": {
        "id": "Hic33vGtdZVg"
      },
      "outputs": [],
      "source": []
    },
    {
      "cell_type": "markdown",
      "metadata": {
        "id": "rIVmXdQUdZVg"
      },
      "source": [
        "#### 96. Given a two dimensional array, how to extract unique rows? (★★★)"
      ]
    },
    {
      "cell_type": "code",
      "execution_count": null,
      "metadata": {
        "id": "l-_jkH8_dZVg"
      },
      "outputs": [],
      "source": []
    },
    {
      "cell_type": "markdown",
      "metadata": {
        "id": "06FYY3tqdZVg"
      },
      "source": [
        "#### 97. Considering 2 vectors A & B, write the einsum equivalent of inner, outer, sum, and mul function (★★★)"
      ]
    },
    {
      "cell_type": "code",
      "execution_count": null,
      "metadata": {
        "id": "bEYsbyEhdZVg"
      },
      "outputs": [],
      "source": []
    },
    {
      "cell_type": "markdown",
      "metadata": {
        "id": "_ldKIoe9dZVg"
      },
      "source": [
        "#### 98. Considering a path described by two vectors (X,Y), how to sample it using equidistant samples (★★★)?"
      ]
    },
    {
      "cell_type": "code",
      "execution_count": null,
      "metadata": {
        "id": "xNZYCAlEdZVg"
      },
      "outputs": [],
      "source": []
    },
    {
      "cell_type": "markdown",
      "metadata": {
        "id": "8qg6VahHdZVg"
      },
      "source": [
        "#### 99. Given an integer n and a 2D array X, select from X the rows which can be interpreted as draws from a multinomial distribution with n degrees, i.e., the rows which only contain integers and which sum to n. (★★★)"
      ]
    },
    {
      "cell_type": "code",
      "execution_count": null,
      "metadata": {
        "id": "lFmG4Ku6dZVg"
      },
      "outputs": [],
      "source": []
    },
    {
      "cell_type": "markdown",
      "metadata": {
        "id": "dby8sW16dZVg"
      },
      "source": [
        "#### 100. Compute bootstrapped 95% confidence intervals for the mean of a 1D array X (i.e., resample the elements of an array with replacement N times, compute the mean of each sample, and then compute percentiles over the means). (★★★)"
      ]
    },
    {
      "cell_type": "code",
      "execution_count": null,
      "metadata": {
        "id": "__BIVp9IdZVh"
      },
      "outputs": [],
      "source": []
    }
  ],
  "metadata": {
    "language_info": {
      "name": "python"
    },
    "colab": {
      "provenance": [],
      "include_colab_link": true
    },
    "kernelspec": {
      "name": "python3",
      "display_name": "Python 3"
    },
    "gpuClass": "standard"
  },
  "nbformat": 4,
  "nbformat_minor": 0
}
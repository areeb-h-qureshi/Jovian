{
  "cells": [
    {
      "cell_type": "markdown",
      "metadata": {
        "id": "view-in-github",
        "colab_type": "text"
      },
      "source": [
        "<a href=\"https://colab.research.google.com/github/areeb-h-qureshi/Jovian/blob/main/Data%20Analysis%20with%20Python%3A%20Zero%20to%20Pandas/100_numpy_exercises.ipynb\" target=\"_parent\"><img src=\"https://colab.research.google.com/assets/colab-badge.svg\" alt=\"Open In Colab\"/></a>"
      ]
    },
    {
      "cell_type": "markdown",
      "metadata": {
        "id": "BMROB1nBdZVD"
      },
      "source": [
        "# 100 numpy exercises (Optional)\n",
        "\n",
        "Source: https://github.com/rougier/numpy-100\n"
      ]
    },
    {
      "cell_type": "markdown",
      "metadata": {
        "id": "MeFoQ4kydZVG"
      },
      "source": [
        "100 numpy exercises\n",
        "This is a collection of exercises that have been collected in the numpy mailing list, on stack overflow and in the numpy documentation. The goal of this collection is to offer a quick reference for both old and new users but also to provide a set of exercises for those who teach.\n",
        "\n",
        "If you find an error or think you've a better way to solve some of them, feel free to open an issue at https://github.com/rougier/numpy-100.\n",
        "\n",
        "File automatically generated. See the documentation to update questions/answers/hints programmatically.\n",
        "\n",
        "Run the initialize.py module, then for each question you can query the answer or an hint with hint(n) or answer(n) for n question number."
      ]
    },
    {
      "cell_type": "markdown",
      "metadata": {
        "id": "92bGkFCtdZVI"
      },
      "source": [
        "#### 1. Import the numpy package under the name `np` (★☆☆)"
      ]
    },
    {
      "cell_type": "code",
      "execution_count": 2,
      "metadata": {
        "id": "UhT4Sp0-dZVJ"
      },
      "outputs": [],
      "source": [
        "import numpy as np"
      ]
    },
    {
      "cell_type": "markdown",
      "metadata": {
        "id": "xMFOkfa5dZVJ"
      },
      "source": [
        "#### 2. Print the numpy version and the configuration (★☆☆)\n",
        "\n"
      ]
    },
    {
      "cell_type": "code",
      "execution_count": 3,
      "metadata": {
        "colab": {
          "base_uri": "https://localhost:8080/"
        },
        "id": "jb1Jfe7IdZVJ",
        "outputId": "03e6a348-d4c0-43a9-9a6c-91281c2f5f57"
      },
      "outputs": [
        {
          "output_type": "stream",
          "name": "stdout",
          "text": [
            "1.21.6\n",
            "blas_mkl_info:\n",
            "  NOT AVAILABLE\n",
            "blis_info:\n",
            "  NOT AVAILABLE\n",
            "openblas_info:\n",
            "    libraries = ['openblas', 'openblas']\n",
            "    library_dirs = ['/usr/local/lib']\n",
            "    language = c\n",
            "    define_macros = [('HAVE_CBLAS', None)]\n",
            "    runtime_library_dirs = ['/usr/local/lib']\n",
            "blas_opt_info:\n",
            "    libraries = ['openblas', 'openblas']\n",
            "    library_dirs = ['/usr/local/lib']\n",
            "    language = c\n",
            "    define_macros = [('HAVE_CBLAS', None)]\n",
            "    runtime_library_dirs = ['/usr/local/lib']\n",
            "lapack_mkl_info:\n",
            "  NOT AVAILABLE\n",
            "openblas_lapack_info:\n",
            "    libraries = ['openblas', 'openblas']\n",
            "    library_dirs = ['/usr/local/lib']\n",
            "    language = c\n",
            "    define_macros = [('HAVE_CBLAS', None)]\n",
            "    runtime_library_dirs = ['/usr/local/lib']\n",
            "lapack_opt_info:\n",
            "    libraries = ['openblas', 'openblas']\n",
            "    library_dirs = ['/usr/local/lib']\n",
            "    language = c\n",
            "    define_macros = [('HAVE_CBLAS', None)]\n",
            "    runtime_library_dirs = ['/usr/local/lib']\n",
            "Supported SIMD extensions in this NumPy install:\n",
            "    baseline = SSE,SSE2,SSE3\n",
            "    found = SSSE3,SSE41,POPCNT,SSE42,AVX,F16C,FMA3,AVX2\n",
            "    not found = AVX512F,AVX512CD,AVX512_KNL,AVX512_KNM,AVX512_SKX,AVX512_CLX,AVX512_CNL,AVX512_ICL\n",
            "None\n"
          ]
        }
      ],
      "source": [
        "print(np.__version__)\n",
        "print(np.show_config())"
      ]
    },
    {
      "cell_type": "markdown",
      "metadata": {
        "id": "oAWDWCsLdZVJ"
      },
      "source": [
        "#### 3. Create a null vector of size 10 (★☆☆)"
      ]
    },
    {
      "cell_type": "code",
      "execution_count": 4,
      "metadata": {
        "colab": {
          "base_uri": "https://localhost:8080/"
        },
        "id": "7NN59HCTdZVJ",
        "outputId": "9f371b2f-3e60-42c4-ad88-1b98221b77c7"
      },
      "outputs": [
        {
          "output_type": "execute_result",
          "data": {
            "text/plain": [
              "array([0., 0., 0., 0., 0., 0., 0., 0., 0., 0.])"
            ]
          },
          "metadata": {},
          "execution_count": 4
        }
      ],
      "source": [
        "np.zeros(10)"
      ]
    },
    {
      "cell_type": "markdown",
      "metadata": {
        "id": "ygkSNHU7dZVK"
      },
      "source": [
        "#### 4. How to find the memory size of any array (★☆☆)"
      ]
    },
    {
      "cell_type": "code",
      "execution_count": 5,
      "metadata": {
        "colab": {
          "base_uri": "https://localhost:8080/"
        },
        "id": "pLzXdkBadZVK",
        "outputId": "1af55f3e-010d-4b13-85af-d3208811e3fc"
      },
      "outputs": [
        {
          "output_type": "execute_result",
          "data": {
            "text/plain": [
              "32"
            ]
          },
          "metadata": {},
          "execution_count": 5
        }
      ],
      "source": [
        "np.array([0, 1, 2, 3]).nbytes"
      ]
    },
    {
      "cell_type": "code",
      "source": [
        "np.array([0, 1, 2, 3]).size * np.array([0, 1, 2, 3]).itemsize"
      ],
      "metadata": {
        "colab": {
          "base_uri": "https://localhost:8080/"
        },
        "id": "VtKPGsh2gGLl",
        "outputId": "06dff20e-2251-4d71-b135-6fdaaf43ccc5"
      },
      "execution_count": 6,
      "outputs": [
        {
          "output_type": "execute_result",
          "data": {
            "text/plain": [
              "32"
            ]
          },
          "metadata": {},
          "execution_count": 6
        }
      ]
    },
    {
      "cell_type": "markdown",
      "metadata": {
        "id": "kVUCXHvbdZVK"
      },
      "source": [
        "#### 5. How to get the documentation of the numpy add function from the command line? (★☆☆)"
      ]
    },
    {
      "cell_type": "code",
      "execution_count": 7,
      "metadata": {
        "id": "gomGXPSRdZVK",
        "colab": {
          "base_uri": "https://localhost:8080/"
        },
        "outputId": "e6fbedbc-bf18-4a9d-f7db-cca2558f12ca"
      },
      "outputs": [
        {
          "output_type": "stream",
          "name": "stdout",
          "text": [
            "Help on ufunc object:\n",
            "\n",
            "add = class ufunc(builtins.object)\n",
            " |  Functions that operate element by element on whole arrays.\n",
            " |  \n",
            " |  To see the documentation for a specific ufunc, use `info`.  For\n",
            " |  example, ``np.info(np.sin)``.  Because ufuncs are written in C\n",
            " |  (for speed) and linked into Python with NumPy's ufunc facility,\n",
            " |  Python's help() function finds this page whenever help() is called\n",
            " |  on a ufunc.\n",
            " |  \n",
            " |  A detailed explanation of ufuncs can be found in the docs for :ref:`ufuncs`.\n",
            " |  \n",
            " |  **Calling ufuncs:** ``op(*x[, out], where=True, **kwargs)``\n",
            " |  \n",
            " |  Apply `op` to the arguments `*x` elementwise, broadcasting the arguments.\n",
            " |  \n",
            " |  The broadcasting rules are:\n",
            " |  \n",
            " |  * Dimensions of length 1 may be prepended to either array.\n",
            " |  * Arrays may be repeated along dimensions of length 1.\n",
            " |  \n",
            " |  Parameters\n",
            " |  ----------\n",
            " |  *x : array_like\n",
            " |      Input arrays.\n",
            " |  out : ndarray, None, or tuple of ndarray and None, optional\n",
            " |      Alternate array object(s) in which to put the result; if provided, it\n",
            " |      must have a shape that the inputs broadcast to. A tuple of arrays\n",
            " |      (possible only as a keyword argument) must have length equal to the\n",
            " |      number of outputs; use None for uninitialized outputs to be\n",
            " |      allocated by the ufunc.\n",
            " |  where : array_like, optional\n",
            " |      This condition is broadcast over the input. At locations where the\n",
            " |      condition is True, the `out` array will be set to the ufunc result.\n",
            " |      Elsewhere, the `out` array will retain its original value.\n",
            " |      Note that if an uninitialized `out` array is created via the default\n",
            " |      ``out=None``, locations within it where the condition is False will\n",
            " |      remain uninitialized.\n",
            " |  **kwargs\n",
            " |      For other keyword-only arguments, see the :ref:`ufunc docs <ufuncs.kwargs>`.\n",
            " |  \n",
            " |  Returns\n",
            " |  -------\n",
            " |  r : ndarray or tuple of ndarray\n",
            " |      `r` will have the shape that the arrays in `x` broadcast to; if `out` is\n",
            " |      provided, it will be returned. If not, `r` will be allocated and\n",
            " |      may contain uninitialized values. If the function has more than one\n",
            " |      output, then the result will be a tuple of arrays.\n",
            " |  \n",
            " |  Methods defined here:\n",
            " |  \n",
            " |  __call__(self, /, *args, **kwargs)\n",
            " |      Call self as a function.\n",
            " |  \n",
            " |  __repr__(self, /)\n",
            " |      Return repr(self).\n",
            " |  \n",
            " |  __str__(self, /)\n",
            " |      Return str(self).\n",
            " |  \n",
            " |  accumulate(...)\n",
            " |      accumulate(array, axis=0, dtype=None, out=None)\n",
            " |      \n",
            " |      Accumulate the result of applying the operator to all elements.\n",
            " |      \n",
            " |      For a one-dimensional array, accumulate produces results equivalent to::\n",
            " |      \n",
            " |        r = np.empty(len(A))\n",
            " |        t = op.identity        # op = the ufunc being applied to A's  elements\n",
            " |        for i in range(len(A)):\n",
            " |            t = op(t, A[i])\n",
            " |            r[i] = t\n",
            " |        return r\n",
            " |      \n",
            " |      For example, add.accumulate() is equivalent to np.cumsum().\n",
            " |      \n",
            " |      For a multi-dimensional array, accumulate is applied along only one\n",
            " |      axis (axis zero by default; see Examples below) so repeated use is\n",
            " |      necessary if one wants to accumulate over multiple axes.\n",
            " |      \n",
            " |      Parameters\n",
            " |      ----------\n",
            " |      array : array_like\n",
            " |          The array to act on.\n",
            " |      axis : int, optional\n",
            " |          The axis along which to apply the accumulation; default is zero.\n",
            " |      dtype : data-type code, optional\n",
            " |          The data-type used to represent the intermediate results. Defaults\n",
            " |          to the data-type of the output array if such is provided, or the\n",
            " |          the data-type of the input array if no output array is provided.\n",
            " |      out : ndarray, None, or tuple of ndarray and None, optional\n",
            " |          A location into which the result is stored. If not provided or None,\n",
            " |          a freshly-allocated array is returned. For consistency with\n",
            " |          ``ufunc.__call__``, if given as a keyword, this may be wrapped in a\n",
            " |          1-element tuple.\n",
            " |      \n",
            " |          .. versionchanged:: 1.13.0\n",
            " |             Tuples are allowed for keyword argument.\n",
            " |      \n",
            " |      Returns\n",
            " |      -------\n",
            " |      r : ndarray\n",
            " |          The accumulated values. If `out` was supplied, `r` is a reference to\n",
            " |          `out`.\n",
            " |      \n",
            " |      Examples\n",
            " |      --------\n",
            " |      1-D array examples:\n",
            " |      \n",
            " |      >>> np.add.accumulate([2, 3, 5])\n",
            " |      array([ 2,  5, 10])\n",
            " |      >>> np.multiply.accumulate([2, 3, 5])\n",
            " |      array([ 2,  6, 30])\n",
            " |      \n",
            " |      2-D array examples:\n",
            " |      \n",
            " |      >>> I = np.eye(2)\n",
            " |      >>> I\n",
            " |      array([[1.,  0.],\n",
            " |             [0.,  1.]])\n",
            " |      \n",
            " |      Accumulate along axis 0 (rows), down columns:\n",
            " |      \n",
            " |      >>> np.add.accumulate(I, 0)\n",
            " |      array([[1.,  0.],\n",
            " |             [1.,  1.]])\n",
            " |      >>> np.add.accumulate(I) # no axis specified = axis zero\n",
            " |      array([[1.,  0.],\n",
            " |             [1.,  1.]])\n",
            " |      \n",
            " |      Accumulate along axis 1 (columns), through rows:\n",
            " |      \n",
            " |      >>> np.add.accumulate(I, 1)\n",
            " |      array([[1.,  1.],\n",
            " |             [0.,  1.]])\n",
            " |  \n",
            " |  at(...)\n",
            " |      at(a, indices, b=None, /)\n",
            " |      \n",
            " |      Performs unbuffered in place operation on operand 'a' for elements\n",
            " |      specified by 'indices'. For addition ufunc, this method is equivalent to\n",
            " |      ``a[indices] += b``, except that results are accumulated for elements that\n",
            " |      are indexed more than once. For example, ``a[[0,0]] += 1`` will only\n",
            " |      increment the first element once because of buffering, whereas\n",
            " |      ``add.at(a, [0,0], 1)`` will increment the first element twice.\n",
            " |      \n",
            " |      .. versionadded:: 1.8.0\n",
            " |      \n",
            " |      Parameters\n",
            " |      ----------\n",
            " |      a : array_like\n",
            " |          The array to perform in place operation on.\n",
            " |      indices : array_like or tuple\n",
            " |          Array like index object or slice object for indexing into first\n",
            " |          operand. If first operand has multiple dimensions, indices can be a\n",
            " |          tuple of array like index objects or slice objects.\n",
            " |      b : array_like\n",
            " |          Second operand for ufuncs requiring two operands. Operand must be\n",
            " |          broadcastable over first operand after indexing or slicing.\n",
            " |      \n",
            " |      Examples\n",
            " |      --------\n",
            " |      Set items 0 and 1 to their negative values:\n",
            " |      \n",
            " |      >>> a = np.array([1, 2, 3, 4])\n",
            " |      >>> np.negative.at(a, [0, 1])\n",
            " |      >>> a\n",
            " |      array([-1, -2,  3,  4])\n",
            " |      \n",
            " |      Increment items 0 and 1, and increment item 2 twice:\n",
            " |      \n",
            " |      >>> a = np.array([1, 2, 3, 4])\n",
            " |      >>> np.add.at(a, [0, 1, 2, 2], 1)\n",
            " |      >>> a\n",
            " |      array([2, 3, 5, 4])\n",
            " |      \n",
            " |      Add items 0 and 1 in first array to second array,\n",
            " |      and store results in first array:\n",
            " |      \n",
            " |      >>> a = np.array([1, 2, 3, 4])\n",
            " |      >>> b = np.array([1, 2])\n",
            " |      >>> np.add.at(a, [0, 1], b)\n",
            " |      >>> a\n",
            " |      array([2, 4, 3, 4])\n",
            " |  \n",
            " |  outer(...)\n",
            " |      outer(A, B, /, **kwargs)\n",
            " |      \n",
            " |      Apply the ufunc `op` to all pairs (a, b) with a in `A` and b in `B`.\n",
            " |      \n",
            " |      Let ``M = A.ndim``, ``N = B.ndim``. Then the result, `C`, of\n",
            " |      ``op.outer(A, B)`` is an array of dimension M + N such that:\n",
            " |      \n",
            " |      .. math:: C[i_0, ..., i_{M-1}, j_0, ..., j_{N-1}] =\n",
            " |         op(A[i_0, ..., i_{M-1}], B[j_0, ..., j_{N-1}])\n",
            " |      \n",
            " |      For `A` and `B` one-dimensional, this is equivalent to::\n",
            " |      \n",
            " |        r = empty(len(A),len(B))\n",
            " |        for i in range(len(A)):\n",
            " |            for j in range(len(B)):\n",
            " |                r[i,j] = op(A[i], B[j])  # op = ufunc in question\n",
            " |      \n",
            " |      Parameters\n",
            " |      ----------\n",
            " |      A : array_like\n",
            " |          First array\n",
            " |      B : array_like\n",
            " |          Second array\n",
            " |      kwargs : any\n",
            " |          Arguments to pass on to the ufunc. Typically `dtype` or `out`.\n",
            " |          See `ufunc` for a comprehensive overview of all available arguments.\n",
            " |      \n",
            " |      Returns\n",
            " |      -------\n",
            " |      r : ndarray\n",
            " |          Output array\n",
            " |      \n",
            " |      See Also\n",
            " |      --------\n",
            " |      numpy.outer : A less powerful version of ``np.multiply.outer``\n",
            " |                    that `ravel`\\ s all inputs to 1D. This exists\n",
            " |                    primarily for compatibility with old code.\n",
            " |      \n",
            " |      tensordot : ``np.tensordot(a, b, axes=((), ()))`` and\n",
            " |                  ``np.multiply.outer(a, b)`` behave same for all\n",
            " |                  dimensions of a and b.\n",
            " |      \n",
            " |      Examples\n",
            " |      --------\n",
            " |      >>> np.multiply.outer([1, 2, 3], [4, 5, 6])\n",
            " |      array([[ 4,  5,  6],\n",
            " |             [ 8, 10, 12],\n",
            " |             [12, 15, 18]])\n",
            " |      \n",
            " |      A multi-dimensional example:\n",
            " |      \n",
            " |      >>> A = np.array([[1, 2, 3], [4, 5, 6]])\n",
            " |      >>> A.shape\n",
            " |      (2, 3)\n",
            " |      >>> B = np.array([[1, 2, 3, 4]])\n",
            " |      >>> B.shape\n",
            " |      (1, 4)\n",
            " |      >>> C = np.multiply.outer(A, B)\n",
            " |      >>> C.shape; C\n",
            " |      (2, 3, 1, 4)\n",
            " |      array([[[[ 1,  2,  3,  4]],\n",
            " |              [[ 2,  4,  6,  8]],\n",
            " |              [[ 3,  6,  9, 12]]],\n",
            " |             [[[ 4,  8, 12, 16]],\n",
            " |              [[ 5, 10, 15, 20]],\n",
            " |              [[ 6, 12, 18, 24]]]])\n",
            " |  \n",
            " |  reduce(...)\n",
            " |      reduce(array, axis=0, dtype=None, out=None, keepdims=False, initial=<no value>, where=True)\n",
            " |      \n",
            " |      Reduces `array`'s dimension by one, by applying ufunc along one axis.\n",
            " |      \n",
            " |      Let :math:`array.shape = (N_0, ..., N_i, ..., N_{M-1})`.  Then\n",
            " |      :math:`ufunc.reduce(array, axis=i)[k_0, ..,k_{i-1}, k_{i+1}, .., k_{M-1}]` =\n",
            " |      the result of iterating `j` over :math:`range(N_i)`, cumulatively applying\n",
            " |      ufunc to each :math:`array[k_0, ..,k_{i-1}, j, k_{i+1}, .., k_{M-1}]`.\n",
            " |      For a one-dimensional array, reduce produces results equivalent to:\n",
            " |      ::\n",
            " |      \n",
            " |       r = op.identity # op = ufunc\n",
            " |       for i in range(len(A)):\n",
            " |         r = op(r, A[i])\n",
            " |       return r\n",
            " |      \n",
            " |      For example, add.reduce() is equivalent to sum().\n",
            " |      \n",
            " |      Parameters\n",
            " |      ----------\n",
            " |      array : array_like\n",
            " |          The array to act on.\n",
            " |      axis : None or int or tuple of ints, optional\n",
            " |          Axis or axes along which a reduction is performed.\n",
            " |          The default (`axis` = 0) is perform a reduction over the first\n",
            " |          dimension of the input array. `axis` may be negative, in\n",
            " |          which case it counts from the last to the first axis.\n",
            " |      \n",
            " |          .. versionadded:: 1.7.0\n",
            " |      \n",
            " |          If this is None, a reduction is performed over all the axes.\n",
            " |          If this is a tuple of ints, a reduction is performed on multiple\n",
            " |          axes, instead of a single axis or all the axes as before.\n",
            " |      \n",
            " |          For operations which are either not commutative or not associative,\n",
            " |          doing a reduction over multiple axes is not well-defined. The\n",
            " |          ufuncs do not currently raise an exception in this case, but will\n",
            " |          likely do so in the future.\n",
            " |      dtype : data-type code, optional\n",
            " |          The type used to represent the intermediate results. Defaults\n",
            " |          to the data-type of the output array if this is provided, or\n",
            " |          the data-type of the input array if no output array is provided.\n",
            " |      out : ndarray, None, or tuple of ndarray and None, optional\n",
            " |          A location into which the result is stored. If not provided or None,\n",
            " |          a freshly-allocated array is returned. For consistency with\n",
            " |          ``ufunc.__call__``, if given as a keyword, this may be wrapped in a\n",
            " |          1-element tuple.\n",
            " |      \n",
            " |          .. versionchanged:: 1.13.0\n",
            " |             Tuples are allowed for keyword argument.\n",
            " |      keepdims : bool, optional\n",
            " |          If this is set to True, the axes which are reduced are left\n",
            " |          in the result as dimensions with size one. With this option,\n",
            " |          the result will broadcast correctly against the original `array`.\n",
            " |      \n",
            " |          .. versionadded:: 1.7.0\n",
            " |      initial : scalar, optional\n",
            " |          The value with which to start the reduction.\n",
            " |          If the ufunc has no identity or the dtype is object, this defaults\n",
            " |          to None - otherwise it defaults to ufunc.identity.\n",
            " |          If ``None`` is given, the first element of the reduction is used,\n",
            " |          and an error is thrown if the reduction is empty.\n",
            " |      \n",
            " |          .. versionadded:: 1.15.0\n",
            " |      \n",
            " |      where : array_like of bool, optional\n",
            " |          A boolean array which is broadcasted to match the dimensions\n",
            " |          of `array`, and selects elements to include in the reduction. Note\n",
            " |          that for ufuncs like ``minimum`` that do not have an identity\n",
            " |          defined, one has to pass in also ``initial``.\n",
            " |      \n",
            " |          .. versionadded:: 1.17.0\n",
            " |      \n",
            " |      Returns\n",
            " |      -------\n",
            " |      r : ndarray\n",
            " |          The reduced array. If `out` was supplied, `r` is a reference to it.\n",
            " |      \n",
            " |      Examples\n",
            " |      --------\n",
            " |      >>> np.multiply.reduce([2,3,5])\n",
            " |      30\n",
            " |      \n",
            " |      A multi-dimensional array example:\n",
            " |      \n",
            " |      >>> X = np.arange(8).reshape((2,2,2))\n",
            " |      >>> X\n",
            " |      array([[[0, 1],\n",
            " |              [2, 3]],\n",
            " |             [[4, 5],\n",
            " |              [6, 7]]])\n",
            " |      >>> np.add.reduce(X, 0)\n",
            " |      array([[ 4,  6],\n",
            " |             [ 8, 10]])\n",
            " |      >>> np.add.reduce(X) # confirm: default axis value is 0\n",
            " |      array([[ 4,  6],\n",
            " |             [ 8, 10]])\n",
            " |      >>> np.add.reduce(X, 1)\n",
            " |      array([[ 2,  4],\n",
            " |             [10, 12]])\n",
            " |      >>> np.add.reduce(X, 2)\n",
            " |      array([[ 1,  5],\n",
            " |             [ 9, 13]])\n",
            " |      \n",
            " |      You can use the ``initial`` keyword argument to initialize the reduction\n",
            " |      with a different value, and ``where`` to select specific elements to include:\n",
            " |      \n",
            " |      >>> np.add.reduce([10], initial=5)\n",
            " |      15\n",
            " |      >>> np.add.reduce(np.ones((2, 2, 2)), axis=(0, 2), initial=10)\n",
            " |      array([14., 14.])\n",
            " |      >>> a = np.array([10., np.nan, 10])\n",
            " |      >>> np.add.reduce(a, where=~np.isnan(a))\n",
            " |      20.0\n",
            " |      \n",
            " |      Allows reductions of empty arrays where they would normally fail, i.e.\n",
            " |      for ufuncs without an identity.\n",
            " |      \n",
            " |      >>> np.minimum.reduce([], initial=np.inf)\n",
            " |      inf\n",
            " |      >>> np.minimum.reduce([[1., 2.], [3., 4.]], initial=10., where=[True, False])\n",
            " |      array([ 1., 10.])\n",
            " |      >>> np.minimum.reduce([])\n",
            " |      Traceback (most recent call last):\n",
            " |          ...\n",
            " |      ValueError: zero-size array to reduction operation minimum which has no identity\n",
            " |  \n",
            " |  reduceat(...)\n",
            " |      reduceat(array, indices, axis=0, dtype=None, out=None)\n",
            " |      \n",
            " |      Performs a (local) reduce with specified slices over a single axis.\n",
            " |      \n",
            " |      For i in ``range(len(indices))``, `reduceat` computes\n",
            " |      ``ufunc.reduce(array[indices[i]:indices[i+1]])``, which becomes the i-th\n",
            " |      generalized \"row\" parallel to `axis` in the final result (i.e., in a\n",
            " |      2-D array, for example, if `axis = 0`, it becomes the i-th row, but if\n",
            " |      `axis = 1`, it becomes the i-th column).  There are three exceptions to this:\n",
            " |      \n",
            " |      * when ``i = len(indices) - 1`` (so for the last index),\n",
            " |        ``indices[i+1] = array.shape[axis]``.\n",
            " |      * if ``indices[i] >= indices[i + 1]``, the i-th generalized \"row\" is\n",
            " |        simply ``array[indices[i]]``.\n",
            " |      * if ``indices[i] >= len(array)`` or ``indices[i] < 0``, an error is raised.\n",
            " |      \n",
            " |      The shape of the output depends on the size of `indices`, and may be\n",
            " |      larger than `array` (this happens if ``len(indices) > array.shape[axis]``).\n",
            " |      \n",
            " |      Parameters\n",
            " |      ----------\n",
            " |      array : array_like\n",
            " |          The array to act on.\n",
            " |      indices : array_like\n",
            " |          Paired indices, comma separated (not colon), specifying slices to\n",
            " |          reduce.\n",
            " |      axis : int, optional\n",
            " |          The axis along which to apply the reduceat.\n",
            " |      dtype : data-type code, optional\n",
            " |          The type used to represent the intermediate results. Defaults\n",
            " |          to the data type of the output array if this is provided, or\n",
            " |          the data type of the input array if no output array is provided.\n",
            " |      out : ndarray, None, or tuple of ndarray and None, optional\n",
            " |          A location into which the result is stored. If not provided or None,\n",
            " |          a freshly-allocated array is returned. For consistency with\n",
            " |          ``ufunc.__call__``, if given as a keyword, this may be wrapped in a\n",
            " |          1-element tuple.\n",
            " |      \n",
            " |          .. versionchanged:: 1.13.0\n",
            " |             Tuples are allowed for keyword argument.\n",
            " |      \n",
            " |      Returns\n",
            " |      -------\n",
            " |      r : ndarray\n",
            " |          The reduced values. If `out` was supplied, `r` is a reference to\n",
            " |          `out`.\n",
            " |      \n",
            " |      Notes\n",
            " |      -----\n",
            " |      A descriptive example:\n",
            " |      \n",
            " |      If `array` is 1-D, the function `ufunc.accumulate(array)` is the same as\n",
            " |      ``ufunc.reduceat(array, indices)[::2]`` where `indices` is\n",
            " |      ``range(len(array) - 1)`` with a zero placed\n",
            " |      in every other element:\n",
            " |      ``indices = zeros(2 * len(array) - 1)``,\n",
            " |      ``indices[1::2] = range(1, len(array))``.\n",
            " |      \n",
            " |      Don't be fooled by this attribute's name: `reduceat(array)` is not\n",
            " |      necessarily smaller than `array`.\n",
            " |      \n",
            " |      Examples\n",
            " |      --------\n",
            " |      To take the running sum of four successive values:\n",
            " |      \n",
            " |      >>> np.add.reduceat(np.arange(8),[0,4, 1,5, 2,6, 3,7])[::2]\n",
            " |      array([ 6, 10, 14, 18])\n",
            " |      \n",
            " |      A 2-D example:\n",
            " |      \n",
            " |      >>> x = np.linspace(0, 15, 16).reshape(4,4)\n",
            " |      >>> x\n",
            " |      array([[ 0.,   1.,   2.,   3.],\n",
            " |             [ 4.,   5.,   6.,   7.],\n",
            " |             [ 8.,   9.,  10.,  11.],\n",
            " |             [12.,  13.,  14.,  15.]])\n",
            " |      \n",
            " |      ::\n",
            " |      \n",
            " |       # reduce such that the result has the following five rows:\n",
            " |       # [row1 + row2 + row3]\n",
            " |       # [row4]\n",
            " |       # [row2]\n",
            " |       # [row3]\n",
            " |       # [row1 + row2 + row3 + row4]\n",
            " |      \n",
            " |      >>> np.add.reduceat(x, [0, 3, 1, 2, 0])\n",
            " |      array([[12.,  15.,  18.,  21.],\n",
            " |             [12.,  13.,  14.,  15.],\n",
            " |             [ 4.,   5.,   6.,   7.],\n",
            " |             [ 8.,   9.,  10.,  11.],\n",
            " |             [24.,  28.,  32.,  36.]])\n",
            " |      \n",
            " |      ::\n",
            " |      \n",
            " |       # reduce such that result has the following two columns:\n",
            " |       # [col1 * col2 * col3, col4]\n",
            " |      \n",
            " |      >>> np.multiply.reduceat(x, [0, 3], 1)\n",
            " |      array([[   0.,     3.],\n",
            " |             [ 120.,     7.],\n",
            " |             [ 720.,    11.],\n",
            " |             [2184.,    15.]])\n",
            " |  \n",
            " |  ----------------------------------------------------------------------\n",
            " |  Data descriptors defined here:\n",
            " |  \n",
            " |  identity\n",
            " |      The identity value.\n",
            " |      \n",
            " |      Data attribute containing the identity element for the ufunc, if it has one.\n",
            " |      If it does not, the attribute value is None.\n",
            " |      \n",
            " |      Examples\n",
            " |      --------\n",
            " |      >>> np.add.identity\n",
            " |      0\n",
            " |      >>> np.multiply.identity\n",
            " |      1\n",
            " |      >>> np.power.identity\n",
            " |      1\n",
            " |      >>> print(np.exp.identity)\n",
            " |      None\n",
            " |  \n",
            " |  nargs\n",
            " |      The number of arguments.\n",
            " |      \n",
            " |      Data attribute containing the number of arguments the ufunc takes, including\n",
            " |      optional ones.\n",
            " |      \n",
            " |      Notes\n",
            " |      -----\n",
            " |      Typically this value will be one more than what you might expect because all\n",
            " |      ufuncs take  the optional \"out\" argument.\n",
            " |      \n",
            " |      Examples\n",
            " |      --------\n",
            " |      >>> np.add.nargs\n",
            " |      3\n",
            " |      >>> np.multiply.nargs\n",
            " |      3\n",
            " |      >>> np.power.nargs\n",
            " |      3\n",
            " |      >>> np.exp.nargs\n",
            " |      2\n",
            " |  \n",
            " |  nin\n",
            " |      The number of inputs.\n",
            " |      \n",
            " |      Data attribute containing the number of arguments the ufunc treats as input.\n",
            " |      \n",
            " |      Examples\n",
            " |      --------\n",
            " |      >>> np.add.nin\n",
            " |      2\n",
            " |      >>> np.multiply.nin\n",
            " |      2\n",
            " |      >>> np.power.nin\n",
            " |      2\n",
            " |      >>> np.exp.nin\n",
            " |      1\n",
            " |  \n",
            " |  nout\n",
            " |      The number of outputs.\n",
            " |      \n",
            " |      Data attribute containing the number of arguments the ufunc treats as output.\n",
            " |      \n",
            " |      Notes\n",
            " |      -----\n",
            " |      Since all ufuncs can take output arguments, this will always be (at least) 1.\n",
            " |      \n",
            " |      Examples\n",
            " |      --------\n",
            " |      >>> np.add.nout\n",
            " |      1\n",
            " |      >>> np.multiply.nout\n",
            " |      1\n",
            " |      >>> np.power.nout\n",
            " |      1\n",
            " |      >>> np.exp.nout\n",
            " |      1\n",
            " |  \n",
            " |  ntypes\n",
            " |      The number of types.\n",
            " |      \n",
            " |      The number of numerical NumPy types - of which there are 18 total - on which\n",
            " |      the ufunc can operate.\n",
            " |      \n",
            " |      See Also\n",
            " |      --------\n",
            " |      numpy.ufunc.types\n",
            " |      \n",
            " |      Examples\n",
            " |      --------\n",
            " |      >>> np.add.ntypes\n",
            " |      18\n",
            " |      >>> np.multiply.ntypes\n",
            " |      18\n",
            " |      >>> np.power.ntypes\n",
            " |      17\n",
            " |      >>> np.exp.ntypes\n",
            " |      7\n",
            " |      >>> np.remainder.ntypes\n",
            " |      14\n",
            " |  \n",
            " |  signature\n",
            " |      Definition of the core elements a generalized ufunc operates on.\n",
            " |      \n",
            " |      The signature determines how the dimensions of each input/output array\n",
            " |      are split into core and loop dimensions:\n",
            " |      \n",
            " |      1. Each dimension in the signature is matched to a dimension of the\n",
            " |         corresponding passed-in array, starting from the end of the shape tuple.\n",
            " |      2. Core dimensions assigned to the same label in the signature must have\n",
            " |         exactly matching sizes, no broadcasting is performed.\n",
            " |      3. The core dimensions are removed from all inputs and the remaining\n",
            " |         dimensions are broadcast together, defining the loop dimensions.\n",
            " |      \n",
            " |      Notes\n",
            " |      -----\n",
            " |      Generalized ufuncs are used internally in many linalg functions, and in\n",
            " |      the testing suite; the examples below are taken from these.\n",
            " |      For ufuncs that operate on scalars, the signature is None, which is\n",
            " |      equivalent to '()' for every argument.\n",
            " |      \n",
            " |      Examples\n",
            " |      --------\n",
            " |      >>> np.core.umath_tests.matrix_multiply.signature\n",
            " |      '(m,n),(n,p)->(m,p)'\n",
            " |      >>> np.linalg._umath_linalg.det.signature\n",
            " |      '(m,m)->()'\n",
            " |      >>> np.add.signature is None\n",
            " |      True  # equivalent to '(),()->()'\n",
            " |  \n",
            " |  types\n",
            " |      Returns a list with types grouped input->output.\n",
            " |      \n",
            " |      Data attribute listing the data-type \"Domain-Range\" groupings the ufunc can\n",
            " |      deliver. The data-types are given using the character codes.\n",
            " |      \n",
            " |      See Also\n",
            " |      --------\n",
            " |      numpy.ufunc.ntypes\n",
            " |      \n",
            " |      Examples\n",
            " |      --------\n",
            " |      >>> np.add.types\n",
            " |      ['??->?', 'bb->b', 'BB->B', 'hh->h', 'HH->H', 'ii->i', 'II->I', 'll->l',\n",
            " |      'LL->L', 'qq->q', 'QQ->Q', 'ff->f', 'dd->d', 'gg->g', 'FF->F', 'DD->D',\n",
            " |      'GG->G', 'OO->O']\n",
            " |      \n",
            " |      >>> np.multiply.types\n",
            " |      ['??->?', 'bb->b', 'BB->B', 'hh->h', 'HH->H', 'ii->i', 'II->I', 'll->l',\n",
            " |      'LL->L', 'qq->q', 'QQ->Q', 'ff->f', 'dd->d', 'gg->g', 'FF->F', 'DD->D',\n",
            " |      'GG->G', 'OO->O']\n",
            " |      \n",
            " |      >>> np.power.types\n",
            " |      ['bb->b', 'BB->B', 'hh->h', 'HH->H', 'ii->i', 'II->I', 'll->l', 'LL->L',\n",
            " |      'qq->q', 'QQ->Q', 'ff->f', 'dd->d', 'gg->g', 'FF->F', 'DD->D', 'GG->G',\n",
            " |      'OO->O']\n",
            " |      \n",
            " |      >>> np.exp.types\n",
            " |      ['f->f', 'd->d', 'g->g', 'F->F', 'D->D', 'G->G', 'O->O']\n",
            " |      \n",
            " |      >>> np.remainder.types\n",
            " |      ['bb->b', 'BB->B', 'hh->h', 'HH->H', 'ii->i', 'II->I', 'll->l', 'LL->L',\n",
            " |      'qq->q', 'QQ->Q', 'ff->f', 'dd->d', 'gg->g', 'OO->O']\n",
            "\n"
          ]
        }
      ],
      "source": [
        "help(np.add)"
      ]
    },
    {
      "cell_type": "code",
      "source": [
        "np.info(np.add)"
      ],
      "metadata": {
        "id": "_hNBWCf7gk38",
        "colab": {
          "base_uri": "https://localhost:8080/"
        },
        "outputId": "f53b64ab-d217-489f-88fa-fbbade83326f"
      },
      "execution_count": 8,
      "outputs": [
        {
          "output_type": "stream",
          "name": "stdout",
          "text": [
            "add(x1, x2, /, out=None, *, where=True, casting='same_kind', order='K', dtype=None, subok=True[, signature, extobj])\n",
            "\n",
            "Add arguments element-wise.\n",
            "\n",
            "Parameters\n",
            "----------\n",
            "x1, x2 : array_like\n",
            "    The arrays to be added.\n",
            "    If ``x1.shape != x2.shape``, they must be broadcastable to a common\n",
            "    shape (which becomes the shape of the output).\n",
            "out : ndarray, None, or tuple of ndarray and None, optional\n",
            "    A location into which the result is stored. If provided, it must have\n",
            "    a shape that the inputs broadcast to. If not provided or None,\n",
            "    a freshly-allocated array is returned. A tuple (possible only as a\n",
            "    keyword argument) must have length equal to the number of outputs.\n",
            "where : array_like, optional\n",
            "    This condition is broadcast over the input. At locations where the\n",
            "    condition is True, the `out` array will be set to the ufunc result.\n",
            "    Elsewhere, the `out` array will retain its original value.\n",
            "    Note that if an uninitialized `out` array is created via the default\n",
            "    ``out=None``, locations within it where the condition is False will\n",
            "    remain uninitialized.\n",
            "**kwargs\n",
            "    For other keyword-only arguments, see the\n",
            "    :ref:`ufunc docs <ufuncs.kwargs>`.\n",
            "\n",
            "Returns\n",
            "-------\n",
            "add : ndarray or scalar\n",
            "    The sum of `x1` and `x2`, element-wise.\n",
            "    This is a scalar if both `x1` and `x2` are scalars.\n",
            "\n",
            "Notes\n",
            "-----\n",
            "Equivalent to `x1` + `x2` in terms of array broadcasting.\n",
            "\n",
            "Examples\n",
            "--------\n",
            ">>> np.add(1.0, 4.0)\n",
            "5.0\n",
            ">>> x1 = np.arange(9.0).reshape((3, 3))\n",
            ">>> x2 = np.arange(3.0)\n",
            ">>> np.add(x1, x2)\n",
            "array([[  0.,   2.,   4.],\n",
            "       [  3.,   5.,   7.],\n",
            "       [  6.,   8.,  10.]])\n",
            "\n",
            "The ``+`` operator can be used as a shorthand for ``np.add`` on ndarrays.\n",
            "\n",
            ">>> x1 = np.arange(9.0).reshape((3, 3))\n",
            ">>> x2 = np.arange(3.0)\n",
            ">>> x1 + x2\n",
            "array([[ 0.,  2.,  4.],\n",
            "       [ 3.,  5.,  7.],\n",
            "       [ 6.,  8., 10.]])\n"
          ]
        }
      ]
    },
    {
      "cell_type": "markdown",
      "metadata": {
        "id": "CkoMofyQdZVK"
      },
      "source": [
        "#### 6. Create a null vector of size 10 but the fifth value which is 1 (★☆☆)"
      ]
    },
    {
      "cell_type": "code",
      "execution_count": 9,
      "metadata": {
        "id": "PS7ZcUoadZVK"
      },
      "outputs": [],
      "source": [
        "arr = np.zeros(10)\n",
        "arr[4] = 1"
      ]
    },
    {
      "cell_type": "code",
      "source": [
        "arr"
      ],
      "metadata": {
        "colab": {
          "base_uri": "https://localhost:8080/"
        },
        "id": "LDmzuh_-g9Zf",
        "outputId": "2f97807d-30c5-4816-c72c-bc17b13526c8"
      },
      "execution_count": 10,
      "outputs": [
        {
          "output_type": "execute_result",
          "data": {
            "text/plain": [
              "array([0., 0., 0., 0., 1., 0., 0., 0., 0., 0.])"
            ]
          },
          "metadata": {},
          "execution_count": 10
        }
      ]
    },
    {
      "cell_type": "markdown",
      "metadata": {
        "id": "wNqUZVPxdZVK"
      },
      "source": [
        "#### 7. Create a vector with values ranging from 10 to 49 (★☆☆)"
      ]
    },
    {
      "cell_type": "code",
      "execution_count": 11,
      "metadata": {
        "colab": {
          "base_uri": "https://localhost:8080/"
        },
        "id": "uALat3xudZVK",
        "outputId": "147658a7-109d-42e7-d014-4327362191dd"
      },
      "outputs": [
        {
          "output_type": "execute_result",
          "data": {
            "text/plain": [
              "array([10, 11, 12, 13, 14, 15, 16, 17, 18, 19, 20, 21, 22, 23, 24, 25, 26,\n",
              "       27, 28, 29, 30, 31, 32, 33, 34, 35, 36, 37, 38, 39, 40, 41, 42, 43,\n",
              "       44, 45, 46, 47, 48, 49])"
            ]
          },
          "metadata": {},
          "execution_count": 11
        }
      ],
      "source": [
        "np.arange(10,50)"
      ]
    },
    {
      "cell_type": "markdown",
      "metadata": {
        "id": "gjiBF3wRdZVL"
      },
      "source": [
        "#### 8. Reverse a vector (first element becomes last) (★☆☆)"
      ]
    },
    {
      "cell_type": "code",
      "execution_count": 12,
      "metadata": {
        "colab": {
          "base_uri": "https://localhost:8080/"
        },
        "id": "rjRuYK_ndZVL",
        "outputId": "fa530190-d200-4941-851d-b78840cef06b"
      },
      "outputs": [
        {
          "output_type": "execute_result",
          "data": {
            "text/plain": [
              "array([9, 8, 7, 6, 5, 4, 3, 2, 1, 0])"
            ]
          },
          "metadata": {},
          "execution_count": 12
        }
      ],
      "source": [
        "np.arange(10)[::-1]"
      ]
    },
    {
      "cell_type": "markdown",
      "metadata": {
        "id": "ipzXhqvAdZVL"
      },
      "source": [
        "#### 9. Create a 3x3 matrix with values ranging from 0 to 8 (★☆☆)"
      ]
    },
    {
      "cell_type": "code",
      "execution_count": 13,
      "metadata": {
        "colab": {
          "base_uri": "https://localhost:8080/"
        },
        "id": "V6GkdqlcdZVL",
        "outputId": "d7bd29fa-2600-4334-83f5-76d47d384c62"
      },
      "outputs": [
        {
          "output_type": "execute_result",
          "data": {
            "text/plain": [
              "array([[0, 1, 2],\n",
              "       [3, 4, 5],\n",
              "       [6, 7, 8]])"
            ]
          },
          "metadata": {},
          "execution_count": 13
        }
      ],
      "source": [
        "np.arange(9).reshape(3,3)"
      ]
    },
    {
      "cell_type": "markdown",
      "metadata": {
        "id": "Y3yQiYZYdZVL"
      },
      "source": [
        "#### 10. Find indices of non-zero elements from [1,2,0,0,4,0] (★☆☆)"
      ]
    },
    {
      "cell_type": "code",
      "execution_count": 14,
      "metadata": {
        "colab": {
          "base_uri": "https://localhost:8080/"
        },
        "id": "bsATEaaXdZVL",
        "outputId": "fe2c8168-07b0-4750-8502-330b47e232b1"
      },
      "outputs": [
        {
          "output_type": "execute_result",
          "data": {
            "text/plain": [
              "(array([0, 1, 4]),)"
            ]
          },
          "metadata": {},
          "execution_count": 14
        }
      ],
      "source": [
        "np.nonzero([1,2,0,0,4,0])"
      ]
    },
    {
      "cell_type": "markdown",
      "metadata": {
        "id": "l6v5ttL6dZVM"
      },
      "source": [
        "#### 11. Create a 3x3 identity matrix (★☆☆)"
      ]
    },
    {
      "cell_type": "code",
      "execution_count": 15,
      "metadata": {
        "colab": {
          "base_uri": "https://localhost:8080/"
        },
        "id": "oHWyrROwdZVM",
        "outputId": "9ca8a1f4-1fb4-48b6-a51a-e5b2c3b0cd0e"
      },
      "outputs": [
        {
          "output_type": "execute_result",
          "data": {
            "text/plain": [
              "array([[1., 0., 0.],\n",
              "       [0., 1., 0.],\n",
              "       [0., 0., 1.]])"
            ]
          },
          "metadata": {},
          "execution_count": 15
        }
      ],
      "source": [
        "np.identity(3)"
      ]
    },
    {
      "cell_type": "code",
      "source": [
        "np.eye(3)"
      ],
      "metadata": {
        "colab": {
          "base_uri": "https://localhost:8080/"
        },
        "id": "sMTXfo_6jeeg",
        "outputId": "3bb37bc2-7a68-43cc-bb47-e205cc032bb1"
      },
      "execution_count": 16,
      "outputs": [
        {
          "output_type": "execute_result",
          "data": {
            "text/plain": [
              "array([[1., 0., 0.],\n",
              "       [0., 1., 0.],\n",
              "       [0., 0., 1.]])"
            ]
          },
          "metadata": {},
          "execution_count": 16
        }
      ]
    },
    {
      "cell_type": "markdown",
      "metadata": {
        "id": "aQRi64n5dZVM"
      },
      "source": [
        "#### 12. Create a 3x3x3 array with random values (★☆☆)"
      ]
    },
    {
      "cell_type": "code",
      "execution_count": 17,
      "metadata": {
        "colab": {
          "base_uri": "https://localhost:8080/"
        },
        "id": "FPNz3DRFdZVM",
        "outputId": "75c26bef-8ba1-419f-d3a9-a957572389db"
      },
      "outputs": [
        {
          "output_type": "execute_result",
          "data": {
            "text/plain": [
              "array([[[0.20796865, 0.81314688, 0.75162882],\n",
              "        [0.69362677, 0.9258677 , 0.85880186],\n",
              "        [0.299271  , 0.95446569, 0.53551699]],\n",
              "\n",
              "       [[0.36966338, 0.26014001, 0.7841232 ],\n",
              "        [0.29454916, 0.35682248, 0.38210569],\n",
              "        [0.05622498, 0.79125809, 0.02539743]],\n",
              "\n",
              "       [[0.70796208, 0.49166424, 0.45416764],\n",
              "        [0.91260539, 0.51572384, 0.99645579],\n",
              "        [0.87601076, 0.04807411, 0.44633188]]])"
            ]
          },
          "metadata": {},
          "execution_count": 17
        }
      ],
      "source": [
        "np.random.rand(3,3,3)"
      ]
    },
    {
      "cell_type": "markdown",
      "metadata": {
        "id": "lNAgNtSJdZVM"
      },
      "source": [
        "#### 13. Create a 10x10 array with random values and find the minimum and maximum values (★☆☆)"
      ]
    },
    {
      "cell_type": "code",
      "execution_count": 18,
      "metadata": {
        "colab": {
          "base_uri": "https://localhost:8080/"
        },
        "id": "0qWTAt0adZVM",
        "outputId": "13ebfc51-9350-4494-8040-858d99fe8404"
      },
      "outputs": [
        {
          "output_type": "execute_result",
          "data": {
            "text/plain": [
              "(10, 10)"
            ]
          },
          "metadata": {},
          "execution_count": 18
        }
      ],
      "source": [
        "rand_arr = np.random.rand(10,10)\n",
        "rand_arr.shape"
      ]
    },
    {
      "cell_type": "code",
      "source": [
        "np.max(rand_arr)"
      ],
      "metadata": {
        "colab": {
          "base_uri": "https://localhost:8080/"
        },
        "id": "cVrOGGWLkMGT",
        "outputId": "82afa7de-6197-4323-89e6-9d7e55c6f169"
      },
      "execution_count": 19,
      "outputs": [
        {
          "output_type": "execute_result",
          "data": {
            "text/plain": [
              "0.9686881751588753"
            ]
          },
          "metadata": {},
          "execution_count": 19
        }
      ]
    },
    {
      "cell_type": "code",
      "source": [
        "np.min(rand_arr)"
      ],
      "metadata": {
        "colab": {
          "base_uri": "https://localhost:8080/"
        },
        "id": "D_1qXAS1kQkh",
        "outputId": "14328079-d03b-433d-91f8-892d6f5baa6e"
      },
      "execution_count": 20,
      "outputs": [
        {
          "output_type": "execute_result",
          "data": {
            "text/plain": [
              "0.014379065596674456"
            ]
          },
          "metadata": {},
          "execution_count": 20
        }
      ]
    },
    {
      "cell_type": "markdown",
      "metadata": {
        "id": "i3fyc0g2dZVM"
      },
      "source": [
        "#### 14. Create a random vector of size 30 and find the mean value (★☆☆)"
      ]
    },
    {
      "cell_type": "code",
      "execution_count": 21,
      "metadata": {
        "colab": {
          "base_uri": "https://localhost:8080/"
        },
        "id": "jx5s38MWdZVN",
        "outputId": "94925d75-2440-470f-cef9-44a15deeaebf"
      },
      "outputs": [
        {
          "output_type": "execute_result",
          "data": {
            "text/plain": [
              "0.596350580734902"
            ]
          },
          "metadata": {},
          "execution_count": 21
        }
      ],
      "source": [
        "np.mean(np.random.rand(30))"
      ]
    },
    {
      "cell_type": "markdown",
      "metadata": {
        "id": "lxPuZXIvdZVN"
      },
      "source": [
        "#### 15. Create a 2d array with 1 on the border and 0 inside (★☆☆)"
      ]
    },
    {
      "cell_type": "code",
      "execution_count": 22,
      "metadata": {
        "id": "dyTDrcSGdZVN",
        "colab": {
          "base_uri": "https://localhost:8080/"
        },
        "outputId": "7807bb10-1db8-4c10-e21d-ab3ac65bf5fc"
      },
      "outputs": [
        {
          "output_type": "execute_result",
          "data": {
            "text/plain": [
              "array([[1., 1., 1., 1.],\n",
              "       [1., 0., 0., 1.],\n",
              "       [1., 0., 0., 1.],\n",
              "       [1., 1., 1., 1.]])"
            ]
          },
          "metadata": {},
          "execution_count": 22
        }
      ],
      "source": [
        "arr = np.ones([4,4])\n",
        "arr[1:-1, 1:-1] = 0\n",
        "arr"
      ]
    },
    {
      "cell_type": "code",
      "source": [
        "arr2 = np.zeros([4,4])\n",
        "arr2[0, :], arr2[-1, :] = 1, 1\n",
        "arr2[:, 0], arr2[:, -1] = 1, 1\n",
        "arr2"
      ],
      "metadata": {
        "colab": {
          "base_uri": "https://localhost:8080/"
        },
        "id": "-J4lTYEeqYtZ",
        "outputId": "d41f8d02-698c-4dc6-c069-aae0012516cf"
      },
      "execution_count": 23,
      "outputs": [
        {
          "output_type": "execute_result",
          "data": {
            "text/plain": [
              "array([[1., 1., 1., 1.],\n",
              "       [1., 0., 0., 1.],\n",
              "       [1., 0., 0., 1.],\n",
              "       [1., 1., 1., 1.]])"
            ]
          },
          "metadata": {},
          "execution_count": 23
        }
      ]
    },
    {
      "cell_type": "markdown",
      "metadata": {
        "id": "oHlBAPezdZVN"
      },
      "source": [
        "#### 16. How to add a border (filled with 0's) around an existing array? (★☆☆)"
      ]
    },
    {
      "cell_type": "code",
      "source": [
        "arr = np.eye(2)\n",
        "arr2 = np.pad(arr, pad_width=1, mode='constant', constant_values=0)\n",
        "arr2"
      ],
      "metadata": {
        "colab": {
          "base_uri": "https://localhost:8080/"
        },
        "id": "lWnh0smZrAB1",
        "outputId": "d118b59f-1c64-4444-f2ef-8c5a4ab54fe9"
      },
      "execution_count": 24,
      "outputs": [
        {
          "output_type": "execute_result",
          "data": {
            "text/plain": [
              "array([[0., 0., 0., 0.],\n",
              "       [0., 1., 0., 0.],\n",
              "       [0., 0., 1., 0.],\n",
              "       [0., 0., 0., 0.]])"
            ]
          },
          "metadata": {},
          "execution_count": 24
        }
      ]
    },
    {
      "cell_type": "markdown",
      "metadata": {
        "id": "IYBQdLO9dZVN"
      },
      "source": [
        "#### 17. What is the result of the following expression? (★☆☆)\n",
        "```python\n",
        "0 * np.nan\n",
        "np.nan == np.nan\n",
        "np.inf > np.nan\n",
        "np.nan - np.nan\n",
        "np.nan in set([np.nan])\n",
        "0.3 == 3 * 0.1\n",
        "```"
      ]
    },
    {
      "cell_type": "code",
      "execution_count": 25,
      "metadata": {
        "id": "R46bhFBRdZVN",
        "colab": {
          "base_uri": "https://localhost:8080/"
        },
        "outputId": "18f99439-43b2-4335-984e-7ecfd56b2dfa"
      },
      "outputs": [
        {
          "output_type": "execute_result",
          "data": {
            "text/plain": [
              "False"
            ]
          },
          "metadata": {},
          "execution_count": 25
        }
      ],
      "source": [
        "0 * np.nan                  # nan\n",
        "np.nan == np.nan            # False\n",
        "np.inf > np.nan             # False\n",
        "np.nan - np.nan             # nan\n",
        "np.nan in set([np.nan])     # True\n",
        "0.3 == 3 * 0.1              # False"
      ]
    },
    {
      "cell_type": "code",
      "source": [
        "print(0 * np.nan)\n",
        "print(np.nan == np.nan)\n",
        "print(np.inf > np.nan)\n",
        "print(np.nan - np.nan)\n",
        "print(np.nan in set([np.nan]))\n",
        "print(0.3 == 3 * 0.1)"
      ],
      "metadata": {
        "colab": {
          "base_uri": "https://localhost:8080/"
        },
        "id": "77fc08Iutoz5",
        "outputId": "bb81df38-462b-4e22-f4eb-6fdc76c9fada"
      },
      "execution_count": 26,
      "outputs": [
        {
          "output_type": "stream",
          "name": "stdout",
          "text": [
            "nan\n",
            "False\n",
            "False\n",
            "nan\n",
            "True\n",
            "False\n"
          ]
        }
      ]
    },
    {
      "cell_type": "markdown",
      "metadata": {
        "id": "W0NZhBOQdZVN"
      },
      "source": [
        "#### 18. Create a 5x5 matrix with values 1,2,3,4 just below the diagonal (★☆☆)"
      ]
    },
    {
      "cell_type": "code",
      "execution_count": 27,
      "metadata": {
        "id": "DcrsHo5TdZVN",
        "colab": {
          "base_uri": "https://localhost:8080/"
        },
        "outputId": "e359017d-7c67-448f-adf1-66f2f226ae53"
      },
      "outputs": [
        {
          "output_type": "execute_result",
          "data": {
            "text/plain": [
              "array([[0., 0., 0., 0., 0.],\n",
              "       [1., 0., 0., 0., 0.],\n",
              "       [0., 2., 0., 0., 0.],\n",
              "       [0., 0., 3., 0., 0.],\n",
              "       [0., 0., 0., 4., 0.]])"
            ]
          },
          "metadata": {},
          "execution_count": 27
        }
      ],
      "source": [
        "temp = np.eye(4) * np.array([1,2,3,4])\n",
        "res = np.zeros([5,5])\n",
        "res[1:,0:-1] = temp\n",
        "res"
      ]
    },
    {
      "cell_type": "markdown",
      "metadata": {
        "id": "bm0XNe24dZVN"
      },
      "source": [
        "#### 19. Create a 8x8 matrix and fill it with a checkerboard pattern (★☆☆)"
      ]
    },
    {
      "cell_type": "code",
      "source": [
        "a = np.full((8,8), 'O', dtype='str')\n",
        "a[::2, 1::2] = 'X'\n",
        "a[1::2, ::2] = 'X'\n",
        "print(a)"
      ],
      "metadata": {
        "colab": {
          "base_uri": "https://localhost:8080/"
        },
        "id": "83-69ks22L1p",
        "outputId": "4a3babc4-d53b-4fa5-9f99-6cdfdd538986"
      },
      "execution_count": 28,
      "outputs": [
        {
          "output_type": "stream",
          "name": "stdout",
          "text": [
            "[['O' 'X' 'O' 'X' 'O' 'X' 'O' 'X']\n",
            " ['X' 'O' 'X' 'O' 'X' 'O' 'X' 'O']\n",
            " ['O' 'X' 'O' 'X' 'O' 'X' 'O' 'X']\n",
            " ['X' 'O' 'X' 'O' 'X' 'O' 'X' 'O']\n",
            " ['O' 'X' 'O' 'X' 'O' 'X' 'O' 'X']\n",
            " ['X' 'O' 'X' 'O' 'X' 'O' 'X' 'O']\n",
            " ['O' 'X' 'O' 'X' 'O' 'X' 'O' 'X']\n",
            " ['X' 'O' 'X' 'O' 'X' 'O' 'X' 'O']]\n"
          ]
        }
      ]
    },
    {
      "cell_type": "markdown",
      "metadata": {
        "id": "KgpLNee5dZVO"
      },
      "source": [
        "#### 20. Consider a (6,7,8) shape array, what is the index (x,y,z) of the 100th element?"
      ]
    },
    {
      "cell_type": "code",
      "execution_count": 29,
      "metadata": {
        "id": "vIqf28pKdZVO",
        "colab": {
          "base_uri": "https://localhost:8080/"
        },
        "outputId": "44f9faa3-04cf-4c63-d368-14f179b9ec58"
      },
      "outputs": [
        {
          "output_type": "execute_result",
          "data": {
            "text/plain": [
              "(1, 5, 3)"
            ]
          },
          "metadata": {},
          "execution_count": 29
        }
      ],
      "source": [
        "np.unravel_index(99, (6,7,8))"
      ]
    },
    {
      "cell_type": "markdown",
      "metadata": {
        "id": "fVseJ_sFdZVO"
      },
      "source": [
        "#### 21. Create a checkerboard 8x8 matrix using the tile function (★☆☆)"
      ]
    },
    {
      "cell_type": "code",
      "execution_count": 30,
      "metadata": {
        "id": "PTdLiJyPdZVO",
        "colab": {
          "base_uri": "https://localhost:8080/"
        },
        "outputId": "9a99e283-e29f-478c-f68c-d303eadc4181"
      },
      "outputs": [
        {
          "output_type": "stream",
          "name": "stdout",
          "text": [
            "[['O' 'X' 'O' 'X' 'O' 'X' 'O' 'X']\n",
            " ['X' 'O' 'X' 'O' 'X' 'O' 'X' 'O']\n",
            " ['O' 'X' 'O' 'X' 'O' 'X' 'O' 'X']\n",
            " ['X' 'O' 'X' 'O' 'X' 'O' 'X' 'O']\n",
            " ['O' 'X' 'O' 'X' 'O' 'X' 'O' 'X']\n",
            " ['X' 'O' 'X' 'O' 'X' 'O' 'X' 'O']\n",
            " ['O' 'X' 'O' 'X' 'O' 'X' 'O' 'X']\n",
            " ['X' 'O' 'X' 'O' 'X' 'O' 'X' 'O']]\n"
          ]
        }
      ],
      "source": [
        "first = np.array(['O', 'X'])\n",
        "second = np.array(['X', 'O'])\n",
        "result =  np.tile([first,second], (4,4))\n",
        "print(result)\n"
      ]
    },
    {
      "cell_type": "markdown",
      "metadata": {
        "id": "cicAe_6OdZVO"
      },
      "source": [
        "#### 22. Normalize a 5x5 random matrix (★☆☆)"
      ]
    },
    {
      "cell_type": "code",
      "execution_count": 31,
      "metadata": {
        "id": "ByVFh5TPdZVP",
        "colab": {
          "base_uri": "https://localhost:8080/"
        },
        "outputId": "6797cb04-ae66-4687-ce7e-16e9c2eddc2a"
      },
      "outputs": [
        {
          "output_type": "stream",
          "name": "stdout",
          "text": [
            "Array is:\n",
            "[[24. 26.  7. 34. 29.]\n",
            " [ 4. 53. 53. 23. 38.]\n",
            " [33. 23. 18. 48. 54.]\n",
            " [48. 14. 40.  6. 25.]\n",
            " [51.  4. 29. 18. 47.]]\n",
            "Sum of all elements is 749.0\n",
            "Variance of all elements is 1.04\n"
          ]
        }
      ],
      "source": [
        "np.random.seed(2023)\n",
        "arr = np.random.randint(1,56, size=(5,5)).astype('float64')\n",
        "print(f'Array is:\\n{arr}')\n",
        "print(f'Sum of all elements is {np.round(np.sum(arr), 4)}')\n",
        "print(f'Variance of all elements is {np.round(np.var(res), 4)}')"
      ]
    },
    {
      "cell_type": "code",
      "source": [
        "res = arr.copy()\n",
        "res -= np.mean(res) \n",
        "res /= np.std(res)\n",
        "print(f'Array is:\\n{res}')\n",
        "print(f'Sum of all elements is {np.round(np.sum(res), 4)}')\n",
        "print(f'Variance of all elements is {np.round(np.var(res), 4)}')\n"
      ],
      "metadata": {
        "colab": {
          "base_uri": "https://localhost:8080/"
        },
        "id": "uo-HknGlBYIf",
        "outputId": "26cae866-06db-4152-ee45-c6c352b9d89a"
      },
      "execution_count": 32,
      "outputs": [
        {
          "output_type": "stream",
          "name": "stdout",
          "text": [
            "Array is:\n",
            "[[-0.37311381 -0.24790783 -1.43736461  0.25291607 -0.06009887]\n",
            " [-1.62517358  1.44237285  1.44237285 -0.4357168   0.50332803]\n",
            " [ 0.19031308 -0.4357168  -0.74873174  1.12935791  1.50497584]\n",
            " [ 1.12935791 -0.99914369  0.628534   -1.4999676  -0.31051082]\n",
            " [ 1.31716688 -1.62517358 -0.06009887 -0.74873174  1.06675492]]\n",
            "Sum of all elements is -0.0\n",
            "Variance of all elements is 1.0\n"
          ]
        }
      ]
    },
    {
      "cell_type": "markdown",
      "source": [
        "> ## As Sum of all elements is zero(0) and variance is (1.0), we conclude that the data is now normalized."
      ],
      "metadata": {
        "id": "ntgOH3rZEtlT"
      }
    },
    {
      "cell_type": "markdown",
      "metadata": {
        "id": "JPv7iqs2dZVP"
      },
      "source": [
        "#### 23. Create a custom dtype that describes a color as four unsigned bytes (RGBA) (★☆☆)"
      ]
    },
    {
      "cell_type": "code",
      "execution_count": 33,
      "metadata": {
        "id": "vU3vjo4fdZVP",
        "colab": {
          "base_uri": "https://localhost:8080/"
        },
        "outputId": "448c7785-854d-4f02-e4ac-9f4079ca200a"
      },
      "outputs": [
        {
          "output_type": "execute_result",
          "data": {
            "text/plain": [
              "dtype([('r', 'u1'), ('g', 'u1'), ('b', 'u1'), ('a', 'u1')])"
            ]
          },
          "metadata": {},
          "execution_count": 33
        }
      ],
      "source": [
        "color = np.dtype([(\"r\", np.ubyte),\n",
        "                  (\"g\", np.ubyte),\n",
        "                  (\"b\", np.ubyte),\n",
        "                  (\"a\", np.ubyte)])\n",
        "color"
      ]
    },
    {
      "cell_type": "markdown",
      "metadata": {
        "id": "h6-bx2vVdZVP"
      },
      "source": [
        "#### 24. Multiply a 5x3 matrix by a 3x2 matrix (real matrix product) (★☆☆)"
      ]
    },
    {
      "cell_type": "code",
      "execution_count": 34,
      "metadata": {
        "id": "sCkVCkn6dZVP",
        "colab": {
          "base_uri": "https://localhost:8080/"
        },
        "outputId": "51a71bfc-e229-4ba2-f59e-0eefc34c7a91"
      },
      "outputs": [
        {
          "output_type": "execute_result",
          "data": {
            "text/plain": [
              "array([[4367, 3975],\n",
              "       [3582, 3875],\n",
              "       [4637, 4556],\n",
              "       [4697, 4657],\n",
              "       [4853, 4747]])"
            ]
          },
          "metadata": {},
          "execution_count": 34
        }
      ],
      "source": [
        "A = np.random.randint(1,56, size=(5, 3))\n",
        "B = np.random.randint(1,56, size=(3, 2))\n",
        "\n",
        "A @ B"
      ]
    },
    {
      "cell_type": "code",
      "source": [
        "np.dot(A, B)"
      ],
      "metadata": {
        "colab": {
          "base_uri": "https://localhost:8080/"
        },
        "id": "rksYZBQOGf3K",
        "outputId": "23b86f4f-a8f9-46c0-fc7a-0f52e183b314"
      },
      "execution_count": 35,
      "outputs": [
        {
          "output_type": "execute_result",
          "data": {
            "text/plain": [
              "array([[4367, 3975],\n",
              "       [3582, 3875],\n",
              "       [4637, 4556],\n",
              "       [4697, 4657],\n",
              "       [4853, 4747]])"
            ]
          },
          "metadata": {},
          "execution_count": 35
        }
      ]
    },
    {
      "cell_type": "code",
      "source": [
        "np.matmul(A, B)"
      ],
      "metadata": {
        "colab": {
          "base_uri": "https://localhost:8080/"
        },
        "id": "PrDj7YCeGjOK",
        "outputId": "f1528a5e-a46d-4760-c359-d9f058c6b0ee"
      },
      "execution_count": 36,
      "outputs": [
        {
          "output_type": "execute_result",
          "data": {
            "text/plain": [
              "array([[4367, 3975],\n",
              "       [3582, 3875],\n",
              "       [4637, 4556],\n",
              "       [4697, 4657],\n",
              "       [4853, 4747]])"
            ]
          },
          "metadata": {},
          "execution_count": 36
        }
      ]
    },
    {
      "cell_type": "markdown",
      "metadata": {
        "id": "Dk-SXJjTdZVP"
      },
      "source": [
        "#### 25. Given a 1D array, negate all elements which are between 3 and 8, in place. (★☆☆)"
      ]
    },
    {
      "cell_type": "code",
      "execution_count": 37,
      "metadata": {
        "id": "eaH6z6ACdZVP",
        "colab": {
          "base_uri": "https://localhost:8080/"
        },
        "outputId": "e5dca2bf-6bfa-4054-c64d-becdd348ecff"
      },
      "outputs": [
        {
          "output_type": "stream",
          "name": "stdout",
          "text": [
            "Array: [8 7 8 2 4 5 5 7 6 1 7 2 6 8 6 9 3 4 2 1]\n",
            "Negated Array: [ 8 -7  8  2 -4 -5 -5 -7 -6  1 -7  2 -6  8 -6  9  3 -4  2  1]\n"
          ]
        }
      ],
      "source": [
        "np.random.seed(2023)\n",
        "\n",
        "arr = np.random.randint(1, 10, size=20)\n",
        "print(f'Array: {arr}')\n",
        "arr[(arr>3) & (arr<8)] *= -1\n",
        "print(f'Negated Array: {arr}')\n",
        "\n"
      ]
    },
    {
      "cell_type": "markdown",
      "metadata": {
        "id": "Y3EzwLpndZVP"
      },
      "source": [
        "#### 26. What is the output of the following script? (★☆☆)\n",
        "```python\n",
        "# Author: Jake VanderPlas\n",
        "\n",
        "print(sum(range(5),-1))\n",
        "from numpy import *\n",
        "print(sum(range(5),-1))\n",
        "```"
      ]
    },
    {
      "cell_type": "code",
      "execution_count": 38,
      "metadata": {
        "id": "6XILdfmodZVP",
        "colab": {
          "base_uri": "https://localhost:8080/"
        },
        "outputId": "418c17f5-6650-4cb0-84be-7dca0a0624d9"
      },
      "outputs": [
        {
          "output_type": "stream",
          "name": "stdout",
          "text": [
            "9\n",
            "10\n"
          ]
        }
      ],
      "source": [
        "print(sum(range(5),-1)) # 9\n",
        "from numpy import *\n",
        "print(sum(range(5),-1)) # 10\n"
      ]
    },
    {
      "cell_type": "markdown",
      "metadata": {
        "id": "_U2ClrX4dZVP"
      },
      "source": [
        "#### 27. Consider an integer vector Z, which of these expressions are legal? (★☆☆)\n",
        "```python\n",
        "Z**Z\n",
        "2 << Z >> 2\n",
        "Z <- Z\n",
        "1j*Z\n",
        "Z/1/1\n",
        "Z<Z>Z\n",
        "```"
      ]
    },
    {
      "cell_type": "code",
      "source": [
        "Z = np.arange(10) # Initialize Unit Vector\n",
        "Z"
      ],
      "metadata": {
        "id": "BwGs_-1-JZrD",
        "outputId": "4cf33af8-b139-438f-9412-705928db9e21",
        "colab": {
          "base_uri": "https://localhost:8080/"
        }
      },
      "execution_count": 49,
      "outputs": [
        {
          "output_type": "execute_result",
          "data": {
            "text/plain": [
              "array([0, 1, 2, 3, 4, 5, 6, 7, 8, 9])"
            ]
          },
          "metadata": {},
          "execution_count": 49
        }
      ]
    },
    {
      "cell_type": "code",
      "execution_count": null,
      "metadata": {
        "id": "sXVyf6L-dZVP"
      },
      "outputs": [],
      "source": [
        "Z**Z            # LEGAL : Element-wise exponentation i.e. 1**1 = 1, 2**2 = 2, 3**3 = 27. NOTE 0**0 = 1\n",
        "2 << Z >> 2     # LEGAL : Bitwise operations are performed from left to right\n",
        "Z <- Z          # LEGAL : Element wise negation is compared to orginal element. Boolean Array is returned\n",
        "1j*Z            # LEGAL : Element wise multiplication with unit imaginary number '0. + 1. j'\n",
        "Z/1/1           # LEGAL : Element wise division twice, executed left to right. dtype changes to float due to diviion operation\n",
        "Z<Z>Z           # ILLEGAL (VALUE ERROR): The truth value of an array with more than one element is ambiguous"
      ]
    },
    {
      "cell_type": "markdown",
      "metadata": {
        "id": "djX25xRYdZVP"
      },
      "source": [
        "#### 28. What are the result of the following expressions?\n",
        "```python\n",
        "np.array(0) / np.array(0)\n",
        "np.array(0) // np.array(0)\n",
        "np.array([np.nan]).astype(int).astype(float)\n",
        "```"
      ]
    },
    {
      "cell_type": "code",
      "execution_count": 73,
      "metadata": {
        "id": "77jACZ-ZdZVP",
        "colab": {
          "base_uri": "https://localhost:8080/"
        },
        "outputId": "038547d3-e8a1-4c26-84c9-bea74b445c14"
      },
      "outputs": [
        {
          "output_type": "stream",
          "name": "stderr",
          "text": [
            "<ipython-input-73-3585dcb7ab9b>:1: RuntimeWarning: invalid value encountered in true_divide\n",
            "  np.array(0) / np.array(0)\n"
          ]
        },
        {
          "output_type": "execute_result",
          "data": {
            "text/plain": [
              "nan"
            ]
          },
          "metadata": {},
          "execution_count": 73
        }
      ],
      "source": [
        "np.array(0) / np.array(0)\n",
        "np.array(0) // np.array(0)\n",
        "np.array([np.nan]).astype(int).astype(float)"
      ]
    },
    {
      "cell_type": "markdown",
      "metadata": {
        "id": "swqXxxr5dZVQ"
      },
      "source": [
        "#### 29. How to round away from zero a float array ? (★☆☆)"
      ]
    },
    {
      "cell_type": "code",
      "execution_count": null,
      "metadata": {
        "id": "jF5APqTmdZVQ"
      },
      "outputs": [],
      "source": []
    },
    {
      "cell_type": "markdown",
      "metadata": {
        "id": "9lE0PTPFdZVQ"
      },
      "source": [
        "#### 30. How to find common values between two arrays? (★☆☆)"
      ]
    },
    {
      "cell_type": "code",
      "execution_count": null,
      "metadata": {
        "id": "aejRBfnzdZVQ"
      },
      "outputs": [],
      "source": []
    },
    {
      "cell_type": "markdown",
      "metadata": {
        "id": "GghwWjxddZVQ"
      },
      "source": [
        "Save your progress by commiting your work to Jovian"
      ]
    },
    {
      "cell_type": "code",
      "execution_count": null,
      "metadata": {
        "id": "rOHXC6LudZVQ"
      },
      "outputs": [],
      "source": [
        "import jovian"
      ]
    },
    {
      "cell_type": "code",
      "execution_count": null,
      "metadata": {
        "id": "-uPQWTwedZVQ"
      },
      "outputs": [],
      "source": [
        "jovian.commit()"
      ]
    },
    {
      "cell_type": "markdown",
      "metadata": {
        "id": "WPDUwxo7dZVQ"
      },
      "source": [
        "#### 31. How to ignore all numpy warnings (not recommended)? (★☆☆)"
      ]
    },
    {
      "cell_type": "code",
      "execution_count": null,
      "metadata": {
        "id": "PYvTQ4VtdZVQ"
      },
      "outputs": [],
      "source": []
    },
    {
      "cell_type": "markdown",
      "metadata": {
        "id": "zb9KoAO4dZVQ"
      },
      "source": [
        "#### 32. Is the following expressions true? (★☆☆)\n",
        "```python\n",
        "np.sqrt(-1) == np.emath.sqrt(-1)\n",
        "```"
      ]
    },
    {
      "cell_type": "code",
      "execution_count": null,
      "metadata": {
        "id": "mdbqj0ridZVR"
      },
      "outputs": [],
      "source": []
    },
    {
      "cell_type": "markdown",
      "metadata": {
        "id": "BPTlBd6kdZVR"
      },
      "source": [
        "#### 33. How to get the dates of yesterday, today and tomorrow? (★☆☆)"
      ]
    },
    {
      "cell_type": "code",
      "execution_count": null,
      "metadata": {
        "id": "qdOTFw9pdZVR"
      },
      "outputs": [],
      "source": []
    },
    {
      "cell_type": "markdown",
      "metadata": {
        "id": "VrKGotyedZVR"
      },
      "source": [
        "#### 34. How to get all the dates corresponding to the month of July 2016? (★★☆)"
      ]
    },
    {
      "cell_type": "code",
      "execution_count": null,
      "metadata": {
        "id": "fYzeSaoudZVR"
      },
      "outputs": [],
      "source": []
    },
    {
      "cell_type": "markdown",
      "metadata": {
        "id": "VIJmPTC9dZVR"
      },
      "source": [
        "#### 35. How to compute ((A+B)*(-A/2)) in place (without copy)? (★★☆)"
      ]
    },
    {
      "cell_type": "code",
      "execution_count": null,
      "metadata": {
        "id": "s-Mu1oPAdZVR"
      },
      "outputs": [],
      "source": []
    },
    {
      "cell_type": "markdown",
      "metadata": {
        "id": "0fogjSxTdZVR"
      },
      "source": [
        "#### 36. Extract the integer part of a random array of positive numbers using 4 different methods (★★☆)"
      ]
    },
    {
      "cell_type": "code",
      "execution_count": null,
      "metadata": {
        "id": "Tn8aO9TpdZVR"
      },
      "outputs": [],
      "source": []
    },
    {
      "cell_type": "markdown",
      "metadata": {
        "id": "JdAHEBG9dZVR"
      },
      "source": [
        "#### 37. Create a 5x5 matrix with row values ranging from 0 to 4 (★★☆)"
      ]
    },
    {
      "cell_type": "code",
      "execution_count": null,
      "metadata": {
        "id": "LI0PeZlUdZVR"
      },
      "outputs": [],
      "source": []
    },
    {
      "cell_type": "markdown",
      "metadata": {
        "id": "IsPHd75PdZVR"
      },
      "source": [
        "#### 38. Consider a generator function that generates 10 integers and use it to build an array (★☆☆)"
      ]
    },
    {
      "cell_type": "code",
      "execution_count": null,
      "metadata": {
        "id": "KILWB3sUdZVR"
      },
      "outputs": [],
      "source": []
    },
    {
      "cell_type": "markdown",
      "metadata": {
        "id": "GlRh5rjIdZVR"
      },
      "source": [
        "#### 39. Create a vector of size 10 with values ranging from 0 to 1, both excluded (★★☆)"
      ]
    },
    {
      "cell_type": "code",
      "execution_count": null,
      "metadata": {
        "id": "F8rRXrd3dZVS"
      },
      "outputs": [],
      "source": []
    },
    {
      "cell_type": "markdown",
      "metadata": {
        "id": "GLaIPLoYdZVS"
      },
      "source": [
        "#### 40. Create a random vector of size 10 and sort it (★★☆)"
      ]
    },
    {
      "cell_type": "code",
      "execution_count": null,
      "metadata": {
        "id": "aeShNWggdZVS"
      },
      "outputs": [],
      "source": []
    },
    {
      "cell_type": "markdown",
      "metadata": {
        "id": "QoDpKXDudZVS"
      },
      "source": [
        "Save your progress by commiting your work to Jovian"
      ]
    },
    {
      "cell_type": "code",
      "execution_count": null,
      "metadata": {
        "id": "RGtJjw-OdZVS"
      },
      "outputs": [],
      "source": [
        "import jovian"
      ]
    },
    {
      "cell_type": "code",
      "execution_count": null,
      "metadata": {
        "id": "xGhyI6rndZVS"
      },
      "outputs": [],
      "source": [
        "jovian.commit()"
      ]
    },
    {
      "cell_type": "markdown",
      "metadata": {
        "id": "8aVxuxVzdZVS"
      },
      "source": [
        "#### 41. How to sum a small array faster than np.sum? (★★☆)"
      ]
    },
    {
      "cell_type": "code",
      "execution_count": null,
      "metadata": {
        "id": "w1x23wYmdZVS"
      },
      "outputs": [],
      "source": []
    },
    {
      "cell_type": "markdown",
      "metadata": {
        "id": "LVkLRJMndZVS"
      },
      "source": [
        "#### 42. Consider two random array A and B, check if they are equal (★★☆)"
      ]
    },
    {
      "cell_type": "code",
      "execution_count": null,
      "metadata": {
        "id": "Ib58q0zBdZVS"
      },
      "outputs": [],
      "source": []
    },
    {
      "cell_type": "markdown",
      "metadata": {
        "id": "8J2H-jw-dZVS"
      },
      "source": [
        "#### 43. Make an array immutable (read-only) (★★☆)"
      ]
    },
    {
      "cell_type": "code",
      "execution_count": null,
      "metadata": {
        "id": "QYaeJaVVdZVS"
      },
      "outputs": [],
      "source": []
    },
    {
      "cell_type": "markdown",
      "metadata": {
        "id": "_7TvzaGbdZVS"
      },
      "source": [
        "#### 44. Consider a random 10x2 matrix representing cartesian coordinates, convert them to polar coordinates (★★☆)"
      ]
    },
    {
      "cell_type": "code",
      "execution_count": null,
      "metadata": {
        "id": "bsNfuw6ndZVT"
      },
      "outputs": [],
      "source": []
    },
    {
      "cell_type": "markdown",
      "metadata": {
        "id": "yiJdM9nKdZVT"
      },
      "source": [
        "#### 45. Create random vector of size 10 and replace the maximum value by 0 (★★☆)"
      ]
    },
    {
      "cell_type": "code",
      "execution_count": null,
      "metadata": {
        "id": "vx6_wbZXdZVT"
      },
      "outputs": [],
      "source": []
    },
    {
      "cell_type": "markdown",
      "metadata": {
        "id": "6M_-EQKQdZVT"
      },
      "source": [
        "#### 46. Create a structured array with `x` and `y` coordinates covering the [0,1]x[0,1] area (★★☆)"
      ]
    },
    {
      "cell_type": "code",
      "execution_count": null,
      "metadata": {
        "id": "srEzcyJJdZVT"
      },
      "outputs": [],
      "source": []
    },
    {
      "cell_type": "markdown",
      "metadata": {
        "id": "-_2IdBQndZVT"
      },
      "source": [
        "#### 47. Given two arrays, X and Y, construct the Cauchy matrix C (Cij =1/(xi - yj))"
      ]
    },
    {
      "cell_type": "code",
      "execution_count": null,
      "metadata": {
        "id": "hId7ZOcZdZVT"
      },
      "outputs": [],
      "source": []
    },
    {
      "cell_type": "markdown",
      "metadata": {
        "id": "Ycc0GiV6dZVT"
      },
      "source": [
        "#### 48. Print the minimum and maximum representable value for each numpy scalar type (★★☆)"
      ]
    },
    {
      "cell_type": "code",
      "execution_count": null,
      "metadata": {
        "id": "MGDFiyCldZVT"
      },
      "outputs": [],
      "source": []
    },
    {
      "cell_type": "markdown",
      "metadata": {
        "id": "Y5lMqQdcdZVT"
      },
      "source": [
        "#### 49. How to print all the values of an array? (★★☆)"
      ]
    },
    {
      "cell_type": "code",
      "execution_count": null,
      "metadata": {
        "id": "GZW5TLYMdZVT"
      },
      "outputs": [],
      "source": []
    },
    {
      "cell_type": "markdown",
      "metadata": {
        "id": "874ehZ6LdZVT"
      },
      "source": [
        "#### 50. How to find the closest value (to a given scalar) in a vector? (★★☆)"
      ]
    },
    {
      "cell_type": "code",
      "execution_count": null,
      "metadata": {
        "id": "wmWhAUuIdZVT"
      },
      "outputs": [],
      "source": []
    },
    {
      "cell_type": "markdown",
      "metadata": {
        "id": "EgHJWrLldZVT"
      },
      "source": [
        "Save and commit your work."
      ]
    },
    {
      "cell_type": "code",
      "execution_count": null,
      "metadata": {
        "id": "yzumPoxBdZVU"
      },
      "outputs": [],
      "source": [
        "import jovian"
      ]
    },
    {
      "cell_type": "code",
      "execution_count": null,
      "metadata": {
        "id": "j7SH7GoCdZVU"
      },
      "outputs": [],
      "source": [
        "jovian.commit()"
      ]
    },
    {
      "cell_type": "markdown",
      "metadata": {
        "id": "Qff6Jj-gdZVU"
      },
      "source": [
        "#### 51. Create a structured array representing a position (x,y) and a color (r,g,b) (★★☆)"
      ]
    },
    {
      "cell_type": "code",
      "execution_count": null,
      "metadata": {
        "id": "dXZf8JePdZVU"
      },
      "outputs": [],
      "source": []
    },
    {
      "cell_type": "markdown",
      "metadata": {
        "id": "ERV0q_0odZVU"
      },
      "source": [
        "#### 52. Consider a random vector with shape (100,2) representing coordinates, find point by point distances (★★☆)"
      ]
    },
    {
      "cell_type": "code",
      "execution_count": null,
      "metadata": {
        "id": "SkAyRVCQdZVU"
      },
      "outputs": [],
      "source": []
    },
    {
      "cell_type": "markdown",
      "metadata": {
        "id": "ccoTlzdfdZVU"
      },
      "source": [
        "#### 53. How to convert a float (32 bits) array into an integer (32 bits) in place?"
      ]
    },
    {
      "cell_type": "code",
      "execution_count": null,
      "metadata": {
        "id": "XZVkBxxrdZVU"
      },
      "outputs": [],
      "source": []
    },
    {
      "cell_type": "markdown",
      "metadata": {
        "id": "2NE7mfSLdZVU"
      },
      "source": [
        "#### 54. How to read the following file? (★★☆)\n",
        "```\n",
        "1, 2, 3, 4, 5\n",
        "6,  ,  , 7, 8\n",
        " ,  , 9,10,11\n",
        "```"
      ]
    },
    {
      "cell_type": "code",
      "execution_count": null,
      "metadata": {
        "id": "GNygrMHVdZVU"
      },
      "outputs": [],
      "source": []
    },
    {
      "cell_type": "markdown",
      "metadata": {
        "id": "CRJxqltrdZVU"
      },
      "source": [
        "#### 55. What is the equivalent of enumerate for numpy arrays? (★★☆)"
      ]
    },
    {
      "cell_type": "code",
      "execution_count": null,
      "metadata": {
        "id": "XlAEWNVldZVU"
      },
      "outputs": [],
      "source": []
    },
    {
      "cell_type": "markdown",
      "metadata": {
        "id": "iDUpcGx_dZVU"
      },
      "source": [
        "#### 56. Generate a generic 2D Gaussian-like array (★★☆)"
      ]
    },
    {
      "cell_type": "code",
      "execution_count": null,
      "metadata": {
        "id": "DZiS_y7-dZVU"
      },
      "outputs": [],
      "source": []
    },
    {
      "cell_type": "markdown",
      "metadata": {
        "id": "iDwz8b-1dZVU"
      },
      "source": [
        "#### 57. How to randomly place p elements in a 2D array? (★★☆)"
      ]
    },
    {
      "cell_type": "code",
      "execution_count": null,
      "metadata": {
        "id": "WKkXwrbLdZVV"
      },
      "outputs": [],
      "source": []
    },
    {
      "cell_type": "markdown",
      "metadata": {
        "id": "aFAnDyFndZVV"
      },
      "source": [
        "#### 58. Subtract the mean of each row of a matrix (★★☆)"
      ]
    },
    {
      "cell_type": "code",
      "execution_count": null,
      "metadata": {
        "id": "UmwFLdsfdZVV"
      },
      "outputs": [],
      "source": []
    },
    {
      "cell_type": "markdown",
      "metadata": {
        "id": "tBSFz9KLdZVV"
      },
      "source": [
        "#### 59. How to sort an array by the nth column? (★★☆)"
      ]
    },
    {
      "cell_type": "code",
      "execution_count": null,
      "metadata": {
        "id": "pspYNDDydZVV"
      },
      "outputs": [],
      "source": []
    },
    {
      "cell_type": "markdown",
      "metadata": {
        "id": "7QvGNFjpdZVV"
      },
      "source": [
        "#### 60. How to tell if a given 2D array has null columns? (★★☆)"
      ]
    },
    {
      "cell_type": "code",
      "execution_count": null,
      "metadata": {
        "id": "d7HcWwaydZVV"
      },
      "outputs": [],
      "source": []
    },
    {
      "cell_type": "markdown",
      "metadata": {
        "id": "5a-KBhgMdZVV"
      },
      "source": [
        "Save and commit your work."
      ]
    },
    {
      "cell_type": "code",
      "execution_count": null,
      "metadata": {
        "id": "xkwm-G43dZVV"
      },
      "outputs": [],
      "source": [
        "import jovian"
      ]
    },
    {
      "cell_type": "code",
      "execution_count": null,
      "metadata": {
        "id": "fTjVpPuodZVV"
      },
      "outputs": [],
      "source": [
        "jovian.commit()"
      ]
    },
    {
      "cell_type": "markdown",
      "metadata": {
        "id": "i_fvQYs6dZVV"
      },
      "source": [
        "#### 61. Find the nearest value from a given value in an array (★★☆)"
      ]
    },
    {
      "cell_type": "code",
      "execution_count": null,
      "metadata": {
        "id": "UjnyHa0IdZVZ"
      },
      "outputs": [],
      "source": []
    },
    {
      "cell_type": "markdown",
      "metadata": {
        "id": "v0w8UZejdZVZ"
      },
      "source": [
        "#### 62. Considering two arrays with shape (1,3) and (3,1), how to compute their sum using an iterator? (★★☆)"
      ]
    },
    {
      "cell_type": "code",
      "execution_count": null,
      "metadata": {
        "id": "8ztglrApdZVZ"
      },
      "outputs": [],
      "source": []
    },
    {
      "cell_type": "markdown",
      "metadata": {
        "id": "O4lOUP_4dZVZ"
      },
      "source": [
        "#### 63. Create an array class that has a name attribute (★★☆)"
      ]
    },
    {
      "cell_type": "code",
      "execution_count": null,
      "metadata": {
        "id": "fLjUaa_AdZVZ"
      },
      "outputs": [],
      "source": []
    },
    {
      "cell_type": "markdown",
      "metadata": {
        "id": "M6gIIJtgdZVZ"
      },
      "source": [
        "#### 64. Consider a given vector, how to add 1 to each element indexed by a second vector (be careful with repeated indices)? (★★★)"
      ]
    },
    {
      "cell_type": "code",
      "execution_count": null,
      "metadata": {
        "id": "L5-AuJIndZVa"
      },
      "outputs": [],
      "source": []
    },
    {
      "cell_type": "markdown",
      "metadata": {
        "id": "P6tlmcC6dZVa"
      },
      "source": [
        "#### 65. How to accumulate elements of a vector (X) to an array (F) based on an index list (I)? (★★★)"
      ]
    },
    {
      "cell_type": "code",
      "execution_count": null,
      "metadata": {
        "id": "35jhVsFPdZVa"
      },
      "outputs": [],
      "source": []
    },
    {
      "cell_type": "markdown",
      "metadata": {
        "id": "tYNgB-EwdZVa"
      },
      "source": [
        "#### 66. Considering a (w,h,3) image of (dtype=ubyte), compute the number of unique colors (★★★)"
      ]
    },
    {
      "cell_type": "code",
      "execution_count": null,
      "metadata": {
        "id": "rLdxETkodZVa"
      },
      "outputs": [],
      "source": []
    },
    {
      "cell_type": "markdown",
      "metadata": {
        "id": "zuIZNBvwdZVa"
      },
      "source": [
        "#### 67. Considering a four dimensions array, how to get sum over the last two axis at once? (★★★)"
      ]
    },
    {
      "cell_type": "code",
      "execution_count": null,
      "metadata": {
        "id": "vMDdGvOedZVa"
      },
      "outputs": [],
      "source": []
    },
    {
      "cell_type": "markdown",
      "metadata": {
        "id": "Ulql9EERdZVa"
      },
      "source": [
        "#### 68. Considering a one-dimensional vector D, how to compute means of subsets of D using a vector S of same size describing subset  indices? (★★★)"
      ]
    },
    {
      "cell_type": "code",
      "execution_count": null,
      "metadata": {
        "id": "26AqUyl1dZVa"
      },
      "outputs": [],
      "source": []
    },
    {
      "cell_type": "markdown",
      "metadata": {
        "id": "WCo772tKdZVa"
      },
      "source": [
        "#### 69. How to get the diagonal of a dot product? (★★★)"
      ]
    },
    {
      "cell_type": "code",
      "execution_count": null,
      "metadata": {
        "id": "qSW83ouGdZVb"
      },
      "outputs": [],
      "source": []
    },
    {
      "cell_type": "markdown",
      "metadata": {
        "id": "SO62E1JhdZVb"
      },
      "source": [
        "#### 70. Consider the vector [1, 2, 3, 4, 5], how to build a new vector with 3 consecutive zeros interleaved between each value? (★★★)"
      ]
    },
    {
      "cell_type": "code",
      "execution_count": null,
      "metadata": {
        "id": "ZVMR1xoBdZVb"
      },
      "outputs": [],
      "source": []
    },
    {
      "cell_type": "code",
      "execution_count": null,
      "metadata": {
        "id": "EgorTrZSdZVb"
      },
      "outputs": [],
      "source": []
    },
    {
      "cell_type": "markdown",
      "metadata": {
        "id": "hIcVGM6vdZVb"
      },
      "source": [
        "Save and commit your work"
      ]
    },
    {
      "cell_type": "code",
      "execution_count": null,
      "metadata": {
        "id": "fH85gDaldZVb"
      },
      "outputs": [],
      "source": [
        "import jovian"
      ]
    },
    {
      "cell_type": "code",
      "execution_count": null,
      "metadata": {
        "id": "Kz9iG9HLdZVb"
      },
      "outputs": [],
      "source": [
        "jovian.commit()"
      ]
    },
    {
      "cell_type": "markdown",
      "metadata": {
        "id": "3Vbt-wDOdZVb"
      },
      "source": [
        "#### 71. Consider an array of dimension (5,5,3), how to mulitply it by an array with dimensions (5,5)? (★★★)"
      ]
    },
    {
      "cell_type": "code",
      "execution_count": null,
      "metadata": {
        "id": "xcsAYZj3dZVc"
      },
      "outputs": [],
      "source": []
    },
    {
      "cell_type": "markdown",
      "metadata": {
        "id": "ElwUvO0HdZVc"
      },
      "source": [
        "#### 72. How to swap two rows of an array? (★★★)"
      ]
    },
    {
      "cell_type": "code",
      "execution_count": null,
      "metadata": {
        "id": "I_rarq-ZdZVc"
      },
      "outputs": [],
      "source": []
    },
    {
      "cell_type": "markdown",
      "metadata": {
        "id": "S_88Q3u2dZVc"
      },
      "source": [
        "#### 73. Consider a set of 10 triplets describing 10 triangles (with shared vertices), find the set of unique line segments composing all the  triangles (★★★)"
      ]
    },
    {
      "cell_type": "code",
      "execution_count": null,
      "metadata": {
        "id": "oxLlmPk2dZVc"
      },
      "outputs": [],
      "source": []
    },
    {
      "cell_type": "markdown",
      "metadata": {
        "id": "ErFxMZtNdZVc"
      },
      "source": [
        "#### 74. Given an array C that is a bincount, how to produce an array A such that np.bincount(A) == C? (★★★)"
      ]
    },
    {
      "cell_type": "code",
      "execution_count": null,
      "metadata": {
        "id": "uxKYHfoQdZVc"
      },
      "outputs": [],
      "source": []
    },
    {
      "cell_type": "markdown",
      "metadata": {
        "id": "51QwWhuedZVc"
      },
      "source": [
        "#### 75. How to compute averages using a sliding window over an array? (★★★)"
      ]
    },
    {
      "cell_type": "code",
      "execution_count": null,
      "metadata": {
        "id": "-OFH55-IdZVc"
      },
      "outputs": [],
      "source": []
    },
    {
      "cell_type": "markdown",
      "metadata": {
        "id": "v7LOHXFodZVc"
      },
      "source": [
        "#### 76. Consider a one-dimensional array Z, build a two-dimensional array whose first row is (Z[0],Z[1],Z[2]) and each subsequent row is  shifted by 1 (last row should be (Z[-3],Z[-2],Z[-1]) (★★★)"
      ]
    },
    {
      "cell_type": "code",
      "execution_count": null,
      "metadata": {
        "id": "nxhA8ZrEdZVc"
      },
      "outputs": [],
      "source": []
    },
    {
      "cell_type": "markdown",
      "metadata": {
        "id": "BmvGvTubdZVc"
      },
      "source": [
        "#### 77. How to negate a boolean, or to change the sign of a float inplace? (★★★)"
      ]
    },
    {
      "cell_type": "code",
      "execution_count": null,
      "metadata": {
        "id": "RTfeHNPXdZVc"
      },
      "outputs": [],
      "source": []
    },
    {
      "cell_type": "markdown",
      "metadata": {
        "id": "JxMAMzTDdZVc"
      },
      "source": [
        "#### 78. Consider 2 sets of points P0,P1 describing lines (2d) and a point p, how to compute distance from p to each line i (P0[i],P1[i])? (★★★)"
      ]
    },
    {
      "cell_type": "code",
      "execution_count": null,
      "metadata": {
        "id": "arFu6nAzdZVd"
      },
      "outputs": [],
      "source": []
    },
    {
      "cell_type": "markdown",
      "metadata": {
        "id": "iwovzR7HdZVd"
      },
      "source": [
        "#### 79. Consider 2 sets of points P0,P1 describing lines (2d) and a set of points P, how to compute distance from each point j (P[j]) to each line i (P0[i],P1[i])? (★★★)"
      ]
    },
    {
      "cell_type": "code",
      "execution_count": null,
      "metadata": {
        "id": "CGFxbG7GdZVd"
      },
      "outputs": [],
      "source": []
    },
    {
      "cell_type": "markdown",
      "metadata": {
        "id": "kiH1qx8FdZVd"
      },
      "source": [
        "#### 80. Consider an arbitrary array, write a function that extract a subpart with a fixed shape and centered on a given element (pad with a `fill` value when necessary) (★★★)"
      ]
    },
    {
      "cell_type": "code",
      "execution_count": null,
      "metadata": {
        "id": "rXJ3vQhjdZVd"
      },
      "outputs": [],
      "source": []
    },
    {
      "cell_type": "markdown",
      "metadata": {
        "id": "vDCgDkQwdZVd"
      },
      "source": [
        "Save and commit your work."
      ]
    },
    {
      "cell_type": "code",
      "execution_count": null,
      "metadata": {
        "id": "4Lvv6TdGdZVd"
      },
      "outputs": [],
      "source": [
        "import jovian"
      ]
    },
    {
      "cell_type": "code",
      "execution_count": null,
      "metadata": {
        "id": "2XVFFDMJdZVd"
      },
      "outputs": [],
      "source": [
        "jovian.commit()"
      ]
    },
    {
      "cell_type": "markdown",
      "metadata": {
        "id": "xinpczeYdZVd"
      },
      "source": [
        "#### 81. Consider an array Z = [1,2,3,4,5,6,7,8,9,10,11,12,13,14], how to generate an array R = [[1,2,3,4], [2,3,4,5], [3,4,5,6], ..., [11,12,13,14]]? (★★★)"
      ]
    },
    {
      "cell_type": "code",
      "execution_count": null,
      "metadata": {
        "id": "Sxf_UaUNdZVd"
      },
      "outputs": [],
      "source": []
    },
    {
      "cell_type": "markdown",
      "metadata": {
        "id": "aZ-0iGXodZVd"
      },
      "source": [
        "#### 82. Compute a matrix rank (★★★)"
      ]
    },
    {
      "cell_type": "code",
      "execution_count": null,
      "metadata": {
        "id": "oIsV08vqdZVe"
      },
      "outputs": [],
      "source": []
    },
    {
      "cell_type": "markdown",
      "metadata": {
        "id": "AXotMym8dZVe"
      },
      "source": [
        "#### 83. How to find the most frequent value in an array?"
      ]
    },
    {
      "cell_type": "code",
      "execution_count": null,
      "metadata": {
        "id": "QNRcBy36dZVe"
      },
      "outputs": [],
      "source": []
    },
    {
      "cell_type": "markdown",
      "metadata": {
        "id": "uJMuDb_xdZVe"
      },
      "source": [
        "#### 84. Extract all the contiguous 3x3 blocks from a random 10x10 matrix (★★★)"
      ]
    },
    {
      "cell_type": "code",
      "execution_count": null,
      "metadata": {
        "id": "3rF_Kf-jdZVe"
      },
      "outputs": [],
      "source": []
    },
    {
      "cell_type": "markdown",
      "metadata": {
        "id": "xsC475c1dZVe"
      },
      "source": [
        "#### 85. Create a 2D array subclass such that Z[i,j] == Z[j,i] (★★★)"
      ]
    },
    {
      "cell_type": "code",
      "execution_count": null,
      "metadata": {
        "id": "q_jDUzs1dZVe"
      },
      "outputs": [],
      "source": []
    },
    {
      "cell_type": "markdown",
      "metadata": {
        "id": "zb1hA9OLdZVe"
      },
      "source": [
        "#### 86. Consider a set of p matrices wich shape (n,n) and a set of p vectors with shape (n,1). How to compute the sum of of the p matrix products at once? (result has shape (n,1)) (★★★)"
      ]
    },
    {
      "cell_type": "code",
      "execution_count": null,
      "metadata": {
        "id": "mdcAJNTndZVe"
      },
      "outputs": [],
      "source": []
    },
    {
      "cell_type": "markdown",
      "metadata": {
        "id": "EA_TgK3kdZVe"
      },
      "source": [
        "#### 87. Consider a 16x16 array, how to get the block-sum (block size is 4x4)? (★★★)"
      ]
    },
    {
      "cell_type": "code",
      "execution_count": null,
      "metadata": {
        "id": "HVzm0qQ8dZVe"
      },
      "outputs": [],
      "source": []
    },
    {
      "cell_type": "markdown",
      "metadata": {
        "id": "-0Wj2--XdZVe"
      },
      "source": [
        "#### 88. How to implement the Game of Life using numpy arrays? (★★★)"
      ]
    },
    {
      "cell_type": "code",
      "execution_count": null,
      "metadata": {
        "id": "-9z9BAhedZVe"
      },
      "outputs": [],
      "source": []
    },
    {
      "cell_type": "markdown",
      "metadata": {
        "id": "yw5DxmMfdZVe"
      },
      "source": [
        "#### 89. How to get the n largest values of an array (★★★)"
      ]
    },
    {
      "cell_type": "code",
      "execution_count": null,
      "metadata": {
        "id": "K5J1tqNhdZVe"
      },
      "outputs": [],
      "source": []
    },
    {
      "cell_type": "markdown",
      "metadata": {
        "id": "tpLHF8yddZVf"
      },
      "source": [
        "#### 90. Given an arbitrary number of vectors, build the cartesian product (every combinations of every item) (★★★)"
      ]
    },
    {
      "cell_type": "code",
      "execution_count": null,
      "metadata": {
        "id": "p4h7zYfJdZVf"
      },
      "outputs": [],
      "source": []
    },
    {
      "cell_type": "markdown",
      "metadata": {
        "id": "U69bCcccdZVf"
      },
      "source": [
        "Save and commit your work"
      ]
    },
    {
      "cell_type": "code",
      "execution_count": null,
      "metadata": {
        "id": "HE7LKW2ldZVf"
      },
      "outputs": [],
      "source": [
        "import jovian"
      ]
    },
    {
      "cell_type": "code",
      "execution_count": null,
      "metadata": {
        "id": "hueUXuaPdZVf"
      },
      "outputs": [],
      "source": [
        "jovian.commit()"
      ]
    },
    {
      "cell_type": "markdown",
      "metadata": {
        "id": "Y5FtoQ-HdZVf"
      },
      "source": [
        "#### 91. How to create a record array from a regular array? (★★★)"
      ]
    },
    {
      "cell_type": "code",
      "execution_count": null,
      "metadata": {
        "id": "4WP03NUAdZVf"
      },
      "outputs": [],
      "source": []
    },
    {
      "cell_type": "markdown",
      "metadata": {
        "id": "KIhnVuO0dZVf"
      },
      "source": [
        "#### 92. Consider a large vector Z, compute Z to the power of 3 using 3 different methods (★★★)"
      ]
    },
    {
      "cell_type": "code",
      "execution_count": null,
      "metadata": {
        "id": "R2BVOIzydZVf"
      },
      "outputs": [],
      "source": []
    },
    {
      "cell_type": "markdown",
      "metadata": {
        "id": "gsWav0QtdZVg"
      },
      "source": [
        "#### 93. Consider two arrays A and B of shape (8,3) and (2,2). How to find rows of A that contain elements of each row of B regardless of the order of the elements in B? (★★★)"
      ]
    },
    {
      "cell_type": "code",
      "execution_count": null,
      "metadata": {
        "id": "inazKrHtdZVg"
      },
      "outputs": [],
      "source": []
    },
    {
      "cell_type": "markdown",
      "metadata": {
        "id": "U8wbzWIIdZVg"
      },
      "source": [
        "#### 94. Considering a 10x3 matrix, extract rows with unequal values (e.g. [2,2,3]) (★★★)"
      ]
    },
    {
      "cell_type": "code",
      "execution_count": null,
      "metadata": {
        "id": "I9ZiuPyndZVg"
      },
      "outputs": [],
      "source": []
    },
    {
      "cell_type": "markdown",
      "metadata": {
        "id": "AFlWkvnidZVg"
      },
      "source": [
        "#### 95. Convert a vector of ints into a matrix binary representation (★★★)"
      ]
    },
    {
      "cell_type": "code",
      "execution_count": null,
      "metadata": {
        "id": "Hic33vGtdZVg"
      },
      "outputs": [],
      "source": []
    },
    {
      "cell_type": "markdown",
      "metadata": {
        "id": "rIVmXdQUdZVg"
      },
      "source": [
        "#### 96. Given a two dimensional array, how to extract unique rows? (★★★)"
      ]
    },
    {
      "cell_type": "code",
      "execution_count": null,
      "metadata": {
        "id": "l-_jkH8_dZVg"
      },
      "outputs": [],
      "source": []
    },
    {
      "cell_type": "markdown",
      "metadata": {
        "id": "06FYY3tqdZVg"
      },
      "source": [
        "#### 97. Considering 2 vectors A & B, write the einsum equivalent of inner, outer, sum, and mul function (★★★)"
      ]
    },
    {
      "cell_type": "code",
      "execution_count": null,
      "metadata": {
        "id": "bEYsbyEhdZVg"
      },
      "outputs": [],
      "source": []
    },
    {
      "cell_type": "markdown",
      "metadata": {
        "id": "_ldKIoe9dZVg"
      },
      "source": [
        "#### 98. Considering a path described by two vectors (X,Y), how to sample it using equidistant samples (★★★)?"
      ]
    },
    {
      "cell_type": "code",
      "execution_count": null,
      "metadata": {
        "id": "xNZYCAlEdZVg"
      },
      "outputs": [],
      "source": []
    },
    {
      "cell_type": "markdown",
      "metadata": {
        "id": "8qg6VahHdZVg"
      },
      "source": [
        "#### 99. Given an integer n and a 2D array X, select from X the rows which can be interpreted as draws from a multinomial distribution with n degrees, i.e., the rows which only contain integers and which sum to n. (★★★)"
      ]
    },
    {
      "cell_type": "code",
      "execution_count": null,
      "metadata": {
        "id": "lFmG4Ku6dZVg"
      },
      "outputs": [],
      "source": []
    },
    {
      "cell_type": "markdown",
      "metadata": {
        "id": "dby8sW16dZVg"
      },
      "source": [
        "#### 100. Compute bootstrapped 95% confidence intervals for the mean of a 1D array X (i.e., resample the elements of an array with replacement N times, compute the mean of each sample, and then compute percentiles over the means). (★★★)"
      ]
    },
    {
      "cell_type": "code",
      "execution_count": null,
      "metadata": {
        "id": "__BIVp9IdZVh"
      },
      "outputs": [],
      "source": []
    },
    {
      "cell_type": "markdown",
      "metadata": {
        "id": "N1DOXSLldZVh"
      },
      "source": [
        "Save and commit your work"
      ]
    },
    {
      "cell_type": "code",
      "execution_count": null,
      "metadata": {
        "id": "mC6LCDbodZVh"
      },
      "outputs": [],
      "source": [
        "import jovian"
      ]
    },
    {
      "cell_type": "code",
      "execution_count": null,
      "metadata": {
        "id": "j1kaG3KZdZVh"
      },
      "outputs": [],
      "source": [
        "jovian.commit()"
      ]
    },
    {
      "cell_type": "markdown",
      "metadata": {
        "id": "seCh0_XsdZVh"
      },
      "source": [
        "Congratulations on completing the 100 exercises, well done!\n",
        "\n",
        "#### What to do next?\n",
        "\n",
        "- Share your completed notebook on Facebook, LinkedIn or Twitter and challenge your friends.\n",
        "- Share your solutions and help others on the forum: https://jovian.ml/forum/t/100-numpy-exercises-hints-discussions-help/10561\n",
        "- Check out our course on \"Data Analysis with Python: Zero to Pandas\" - https://jovian.ml/learn/data-analysis-with-python-zero-to-pandas\n",
        "- Star this repository to show your appreciation for the original author of this notebook: https://github.com/rougier/numpy-100"
      ]
    }
  ],
  "metadata": {
    "language_info": {
      "name": "python"
    },
    "colab": {
      "provenance": [],
      "include_colab_link": true
    },
    "kernelspec": {
      "name": "python3",
      "display_name": "Python 3"
    },
    "gpuClass": "standard"
  },
  "nbformat": 4,
  "nbformat_minor": 0
}